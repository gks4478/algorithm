{
 "cells": [
  {
   "cell_type": "markdown",
   "metadata": {},
   "source": [
    "### DFS\n",
    "https://gmlwjd9405.github.io/2018/08/14/algorithm-dfs.html"
   ]
  },
  {
   "cell_type": "code",
   "execution_count": null,
   "metadata": {},
   "outputs": [],
   "source": [
    "def search_route(connection_info, start_node, end_node, route=[]):\n",
    "    # route.append(start_node)\n",
    "    route = route + [start_node]\n",
    "\n",
    "    # start노드와 end노드가 일치하다면 검사가 다 끝난거니까 route를 리턴하고 재귀함수를 종료한다.\n",
    "    if start_node == end_node:\n",
    "        return route\n",
    "    \n",
    "    # connection_info에 검사하려는 노드가 없으면 오류니까 None을 리턴하고 재귀함수를 종료한다.\n",
    "    if not connection_info.__contains__(start_node):\n",
    "        return None\n",
    "    \n",
    "    # 시작 노드부터 연결된 노드의 노드의 노드 노드.. 까지 다 검사를 하고\n",
    "    # start_node == end_node가 일치하면 종료한다.\n",
    "    for node in connection_info[start_node]:\n",
    "        if node not in route:\n",
    "            a= search_route(connection_info, node, end_node, route)\n",
    "\n",
    "            # not connection_info에 값이 있는 한 함수를 계속 호출한다.\n",
    "            # 값이 없으면 None가 리턴되고 함수가 종료된다.\n",
    "            # start_node == end_node가 되면 route를 리턴되고 함수가 종료된다.\n",
    "            if a:\n",
    "                return a"
   ]
  },
  {
   "cell_type": "markdown",
   "metadata": {},
   "source": [
    "### BFS\n",
    "https://gmlwjd9405.github.io/2018/08/15/algorithm-bfs.html"
   ]
  },
  {
   "cell_type": "code",
   "execution_count": null,
   "metadata": {},
   "outputs": [],
   "source": [
    "def search_shortest_route(connection_info, start_node, end_node, route=[]):\n",
    "    route = route + [start_node]\n",
    "    if start_node == end_node:\n",
    "        return route\n",
    "    if not connection_info.__contains__(start_node):\n",
    "        return None\n",
    "    \n",
    "    shortest = None\n",
    "    for node in connection_info[start_node]:\n",
    "        if node not in route:\n",
    "            a= search_shortest_route(connection_info, node, end_node, route)\n",
    "\n",
    "            if shortest == None or (a and len(a) < len(shortest)):\n",
    "                shortest= a\n",
    "           \n",
    "    return shortest  "
   ]
  }
 ],
 "metadata": {
  "kernelspec": {
   "display_name": "base",
   "language": "python",
   "name": "python3"
  },
  "language_info": {
   "codemirror_mode": {
    "name": "ipython",
    "version": 3
   },
   "file_extension": ".py",
   "mimetype": "text/x-python",
   "name": "python",
   "nbconvert_exporter": "python",
   "pygments_lexer": "ipython3",
   "version": "3.9.16"
  },
  "orig_nbformat": 4
 },
 "nbformat": 4,
 "nbformat_minor": 2
}
