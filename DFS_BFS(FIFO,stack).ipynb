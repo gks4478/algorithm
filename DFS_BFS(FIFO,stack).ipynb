{
 "cells": [
  {
   "cell_type": "markdown",
   "metadata": {},
   "source": [
    "### DFS : 깊이 우선 탐색\n",
    "https://c17an.netlify.app/blog/ps/%ED%8C%8C%EC%9D%B4%EC%8D%AC%EC%9C%BC%EB%A1%9C_%ED%83%90%EC%83%89_%EA%B5%AC%ED%98%84%ED%95%98%EA%B8%B0/article/"
   ]
  },
  {
   "cell_type": "markdown",
   "metadata": {},
   "source": [
    "#### 1. 스택으로 구현하기"
   ]
  },
  {
   "cell_type": "code",
   "execution_count": 13,
   "metadata": {},
   "outputs": [],
   "source": [
    "def dfs_stack(graph, start_node):\n",
    "    # graph: 탐색할 그래프\n",
    "    # start_node: 처음 출발(시작)할 노드\n",
    "    visited= [] # 방문한 노드를 담아둔다.\n",
    "    stack= [start_node] # 방문해야 하는 노드를 담아둔다.\n",
    "\n",
    "    # 방문해야 하는 노드가 없을 때까지 반복한다.\n",
    "    while stack:\n",
    "        node= stack.pop()\n",
    "        # node= stack.pop(0)\n",
    "        if node not in visited: # 해당 노드를 방문적이 없다면\n",
    "            visited.append(node) # 해당 노드를 방문하고 방문한 노드라고 표시를 해준다.\n",
    "            stack.extend(graph[node]) # 앞으로 방문할 노드를 업데이트 해준다.\n",
    "            # graph[node]의 예시는 출력은 아래에 있다.\n",
    "    \n",
    "    # 더이상 방문해야 하는 노드가 없다면 visited를 리턴하고 종료한다.\n",
    "    return visited"
   ]
  },
  {
   "cell_type": "code",
   "execution_count": 4,
   "metadata": {},
   "outputs": [
    {
     "data": {
      "text/plain": [
       "['B', 'C']"
      ]
     },
     "execution_count": 4,
     "metadata": {},
     "output_type": "execute_result"
    }
   ],
   "source": [
    "# graph[node]의 예시 출력\n",
    "graph = {\n",
    "    'A': ['B', 'C'],\n",
    "    'B': ['A', 'D', 'E'],\n",
    "    'C': ['A', 'F'],\n",
    "    'D': ['B', 'G'],\n",
    "    'E': ['B', 'H'],\n",
    "    'F': ['C', 'I'],\n",
    "    'G': ['D'],\n",
    "    'H': ['E'],\n",
    "    'I': ['F', 'J'],\n",
    "    'J': ['I']\n",
    "}\n",
    "graph['A']"
   ]
  },
  {
   "cell_type": "code",
   "execution_count": 14,
   "metadata": {},
   "outputs": [
    {
     "data": {
      "text/plain": [
       "['A', 'C', 'F', 'I', 'J', 'B', 'E', 'H', 'D', 'G']"
      ]
     },
     "execution_count": 14,
     "metadata": {},
     "output_type": "execute_result"
    }
   ],
   "source": [
    "dfs_stack(graph, 'A')\n",
    "# pop()으로 가장 뒤부터 탐색하기 때문에 이 결과가 나오는 것이다.\n",
    "# pop(0)으로 하면 A, B, D, G, E, H, C, F, I, J 가 나온다.\n",
    "# 그래프는 위 블로그에 가면 있다."
   ]
  },
  {
   "cell_type": "markdown",
   "metadata": {},
   "source": [
    "#### 2. 재귀함수로 구현하기"
   ]
  },
  {
   "cell_type": "code",
   "execution_count": 7,
   "metadata": {},
   "outputs": [],
   "source": [
    "def dfs_recursive(graph, start, visited= []):\n",
    "    # graph: 탐색할 그래프\n",
    "    # start: 처음 출발(시작)할 노드\n",
    "    # visited: 방문한 노드를 담아둔다.(재귀로 호출해야 되서 아예 이렇게 초기화 하는듯 하다)\n",
    "    visited.append(start)\n",
    "\n",
    "    for node in graph[start]:\n",
    "        if node not in visited: # visited에 노드가 없다면\n",
    "            dfs_recursive(graph, node, visited) # 함수를 다시 호출한다.\n",
    "    \n",
    "    # visited에 노드가 있다면 visited를 리턴한다.\n",
    "    return visited"
   ]
  },
  {
   "cell_type": "code",
   "execution_count": 8,
   "metadata": {},
   "outputs": [
    {
     "data": {
      "text/plain": [
       "['A', 'B', 'D', 'G', 'E', 'H', 'C', 'F', 'I', 'J']"
      ]
     },
     "execution_count": 8,
     "metadata": {},
     "output_type": "execute_result"
    }
   ],
   "source": [
    "dfs_recursive(graph, 'A')\n",
    "# for문 graph[start]가 앞에서부터 반복하기 때문에 이 결과 나오는 것이다.\n",
    "# 그래프는 stack과 동일하다."
   ]
  },
  {
   "cell_type": "markdown",
   "metadata": {},
   "source": [
    "### BFS : 너비 우선 탐색\n",
    "https://c17an.netlify.app/blog/ps/%ED%8C%8C%EC%9D%B4%EC%8D%AC%EC%9C%BC%EB%A1%9C_%ED%83%90%EC%83%89_%EA%B5%AC%ED%98%84%ED%95%98%EA%B8%B0/article/\n",
    "\n",
    "너비 우선이기 때문에 재귀로 구현하는 것은 적합하지 않다고 한다."
   ]
  },
  {
   "cell_type": "markdown",
   "metadata": {},
   "source": [
    "#### 1. 큐"
   ]
  },
  {
   "cell_type": "code",
   "execution_count": 41,
   "metadata": {},
   "outputs": [],
   "source": [
    "from collections import deque\n",
    "def bfs_queue(graph, start_node):\n",
    "    # graph: 탐색할 그래프\n",
    "    # start_node: 처음 출발(시작)할 노드\n",
    "\n",
    "    visited= [] # 방문한 노드를 담아둔다.\n",
    "    queue= deque() # 큐: FIFO 들어온 순으로 뺀다.\n",
    "    queue.append(start_node) # 방문해야 하는 노드를 담아둔다.\n",
    "\n",
    "    # 방문해야 하는 노드(queue)에 값이 있다면\n",
    "    while queue:\n",
    "        node= queue.popleft() # 큐는 뒤로 들어오고 앞으로 나오는(? 그림으로 보면) 형식이니까\n",
    "        if node not in visited: # 해당 노드를 방문한 적이 없다면\n",
    "            visited.append(node) # 해당 노드를 방문하고 방문한 노드라고 표시를 해준다.\n",
    "            queue.extend(graph[node]) # 앞으로 방문해야 하는 노드를 업데이트 해준다.\n",
    "            # queue.extendleft(graph[node])\n",
    "    \n",
    "    # 더이상 방문할 노드가 없다면 visited를 리턴하고 종료한다.\n",
    "    return visited"
   ]
  },
  {
   "cell_type": "code",
   "execution_count": 42,
   "metadata": {},
   "outputs": [
    {
     "data": {
      "text/plain": [
       "['A', 'B', 'C', 'D', 'E', 'F', 'G', 'H', 'I', 'J']"
      ]
     },
     "execution_count": 42,
     "metadata": {},
     "output_type": "execute_result"
    }
   ],
   "source": [
    "bfs_queue(graph, 'A')\n",
    "# 또다른 결과로 A, C, B, F, E, D, I, H, G, J가 올 수 있다는데 모르겠다..\n",
    "# 그래프는 위 블로그에 가면 있다."
   ]
  }
 ],
 "metadata": {
  "kernelspec": {
   "display_name": "base",
   "language": "python",
   "name": "python3"
  },
  "language_info": {
   "codemirror_mode": {
    "name": "ipython",
    "version": 3
   },
   "file_extension": ".py",
   "mimetype": "text/x-python",
   "name": "python",
   "nbconvert_exporter": "python",
   "pygments_lexer": "ipython3",
   "version": "3.9.16"
  },
  "orig_nbformat": 4
 },
 "nbformat": 4,
 "nbformat_minor": 2
}
