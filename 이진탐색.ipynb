{
 "cells": [
  {
   "attachments": {},
   "cell_type": "markdown",
   "metadata": {},
   "source": [
    "## 이진 탐색"
   ]
  },
  {
   "cell_type": "code",
   "execution_count": 128,
   "metadata": {},
   "outputs": [],
   "source": [
    "input_list = [\n",
    "                [1,2,3,4,5,6,7,8],\n",
    "                [1,2,3,4,5,6,7,8,9,10],\n",
    "                [1,2,4,8,16,32],\n",
    "                [1,2,3,4,5,6]\n",
    "            ]"
   ]
  },
  {
   "cell_type": "code",
   "execution_count": 132,
   "metadata": {},
   "outputs": [
    {
     "name": "stdout",
     "output_type": "stream",
     "text": [
      "[(0, 7), (1, 7), (2, 3)]\n"
     ]
    }
   ],
   "source": [
    "v= 8 # 찾는값\n",
    "answer= []\n",
    "for i, k in enumerate(input_list):\n",
    "    start, end= 0, len(k)-1\n",
    "\n",
    "    while start <= end:\n",
    "        mid= (start + end) // 2\n",
    "\n",
    "        if v == k[mid]:\n",
    "            answer.append((i, k.index(v)))\n",
    "            break\n",
    "\n",
    "        elif v > k[mid]:\n",
    "            start= mid + 1\n",
    "        else:\n",
    "            end= mid - 1\n",
    "\n",
    "print(answer)"
   ]
  }
 ],
 "metadata": {
  "kernelspec": {
   "display_name": "base",
   "language": "python",
   "name": "python3"
  },
  "language_info": {
   "codemirror_mode": {
    "name": "ipython",
    "version": 3
   },
   "file_extension": ".py",
   "mimetype": "text/x-python",
   "name": "python",
   "nbconvert_exporter": "python",
   "pygments_lexer": "ipython3",
   "version": "3.9.16"
  },
  "orig_nbformat": 4
 },
 "nbformat": 4,
 "nbformat_minor": 2
}
