{
 "cells": [
  {
   "attachments": {},
   "cell_type": "markdown",
   "metadata": {},
   "source": [
    "## 10814 나이순 정렬 \n",
    "https://www.acmicpc.net/problem/10814</br>\n",
    "나이가 증가하는 순으로</br>\n",
    "나이가 같다면 먼저 가입한 순으로(알파벳 순 아님) 정렬하기</br>\n",
    "<예시></br>\n",
    "<pre>\n",
    "[입력]              [출력]</br>\n",
    "3             |       \n",
    "21 Junkyu     |     20 Sunyoung\n",
    "21 Dohyun     |     21 Junkyu\n",
    "20 Sunyoung   |     21 Dohyun\n",
    "</pre>"
   ]
  },
  {
   "attachments": {},
   "cell_type": "markdown",
   "metadata": {},
   "source": [
    "### 1. 제출1"
   ]
  },
  {
   "cell_type": "code",
   "execution_count": null,
   "metadata": {},
   "outputs": [],
   "source": [
    "import sys\n",
    "\n",
    "print(''.join(sorted(sys.stdin.readlines()[1:], key= lambda x: int(x.split()[0]))))\n",
    "# 입력은 두번째 줄부터 읽어서 공백으로 나눈뒤 정수(나이)를 기준으로 sorted해서 join 한다.\n",
    "# 여기서 x.split()[0]을 int로 바꿔주지 않으면 안된다!!\n",
    "# 예) sroted([321, 1234])\n",
    "# 정수일 때: [321, 1234] => 작은 순에서 큰순으로 정렬\n",
    "# 문자열일 때: ['1234', '321'] => 문자열이 긴 순에서 짧은 순으로 정렬"
   ]
  },
  {
   "cell_type": "code",
   "execution_count": 13,
   "metadata": {},
   "outputs": [
    {
     "name": "stdout",
     "output_type": "stream",
     "text": [
      "['1234', '321']\n",
      "[321, 1234]\n"
     ]
    }
   ],
   "source": [
    "a= ['321', '1234']\n",
    "b= [321, 1234]\n",
    "print(sorted(a))\n",
    "print(sorted(b))"
   ]
  },
  {
   "attachments": {},
   "cell_type": "markdown",
   "metadata": {},
   "source": [
    "#### 1-1. 제출1 잘못된 예"
   ]
  },
  {
   "cell_type": "code",
   "execution_count": null,
   "metadata": {},
   "outputs": [],
   "source": [
    "import sys\n",
    "\n",
    "print('\\n'.join(sorted(sys.stdin.readlines()[1:], key= lambda x: int(x.split()[0]))))\n",
    "# 아마 sys.stdin.readlines() 이 뒤에 \\n이 있어서 그런듯 하다."
   ]
  },
  {
   "attachments": {},
   "cell_type": "markdown",
   "metadata": {},
   "source": [
    "### 2. 제출2"
   ]
  },
  {
   "cell_type": "code",
   "execution_count": null,
   "metadata": {},
   "outputs": [],
   "source": [
    "n= int(input())\n",
    "print('\\n'.join(sorted([input() for _ in range(n)], key= lambda x: x.split()[0])))\n",
    "# 제출1은 시간이 3860ms인데\n",
    "# 제출2는 시간이 108ms이다.\n",
    "# 확실히 차이가 난다."
   ]
  }
 ],
 "metadata": {
  "kernelspec": {
   "display_name": "base",
   "language": "python",
   "name": "python3"
  },
  "language_info": {
   "codemirror_mode": {
    "name": "ipython",
    "version": 3
   },
   "file_extension": ".py",
   "mimetype": "text/x-python",
   "name": "python",
   "nbconvert_exporter": "python",
   "pygments_lexer": "ipython3",
   "version": "3.9.16"
  },
  "orig_nbformat": 4
 },
 "nbformat": 4,
 "nbformat_minor": 2
}
