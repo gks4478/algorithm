{
 "cells": [
  {
   "attachments": {},
   "cell_type": "markdown",
   "metadata": {},
   "source": [
    "## 4949 균형잡힌 세상\n",
    "https://www.acmicpc.net/problem/4949\n",
    "\n",
    "괄호 (), []가 짝이 맞아야 하고 맞으면 yes, 안 맞으면 no를 출력한다.\n",
    "\n",
    "문자까지 대칭이 맞아야 한다고 한다\n",
    "\n",
    ">> Help( I[m being held prisoner in a fortune cookie factory)].\n",
    "\n",
    "이 예시를 언급한 거 같은데 무슨 소리인지 모르겠음\n",
    "\n",
    "그래서 괄호가 나오는 순서가 맞는지 확인함((, [, 나오면 ], ) 이 순서대로 나와야함)\n",
    "\n",
    "<예시>\n",
    "\n",
    "<pre>\n",
    "[입력]              \n",
    "\n",
    "So when I die (the [first] I will see in (heaven) is a score list).\n",
    "[ first in ] ( first out ).\n",
    "Half Moon tonight (At least it is better than no Moon at all].\n",
    "A rope may form )( a trail in a maze.\n",
    "Help( I[m being held prisoner in a fortune cookie factory)].\n",
    "([ (([( [ ] ) ( ) (( ))] )) ]).\n",
    " .\n",
    ".\n",
    "\n",
    "[출력]\n",
    "\n",
    "yes\n",
    "yes\n",
    "no\n",
    "no\n",
    "no\n",
    "yes\n",
    "yes\n",
    "</pre>"
   ]
  },
  {
   "cell_type": "markdown",
   "metadata": {},
   "source": [
    "### 4차 시도 : 성공"
   ]
  },
  {
   "cell_type": "code",
   "execution_count": null,
   "metadata": {},
   "outputs": [],
   "source": [
    "while True:\n",
    "    s= input()\n",
    "    # 입력값이 .이면 종료\n",
    "    if s == '.':\n",
    "        break\n",
    "    else:\n",
    "        stack= [0] # stack[-1]의 인덱스 에러 방지용으로 0을 넣음\n",
    "        # ([)]).처럼 왼쪽 괄호가 오른쪽 괄호보다 적을때를 위함\n",
    "        left= [s.count('('), s.count('[')] # 왼쪽 괄호\n",
    "        right= [s.count(')'), s.count(']')] # 오른쪽 괄호\n",
    "        if left != right:\n",
    "            print('no')\n",
    "            continue\n",
    "        # 왼쪽, 오른쪽 괄호 개수가 모두 맞다면\n",
    "        else:\n",
    "            for i in s:\n",
    "                # 왼쪽 괄호라면 stack에 쌓는다.\n",
    "                if i == '(' or i == '[':\n",
    "                    stack.append(i)\n",
    "                # 오른쪽 괄호인데 stack의 마지막 값이 왼쪽 괄호이면\n",
    "                elif stack[-1] == '(' and i == ')':\n",
    "                    # pop!!\n",
    "                    stack.pop()\n",
    "                elif stack[-1] == '[' and i == ']':\n",
    "                    stack.pop()\n",
    "        \n",
    "        # 괄호 짝이 맞았다면 stack에 0만 남았을 거다\n",
    "        if stack[-1] != 0:\n",
    "            print('no')\n",
    "        else:\n",
    "            print('yes')"
   ]
  },
  {
   "cell_type": "markdown",
   "metadata": {},
   "source": [
    "### 다른 사람 코드"
   ]
  },
  {
   "cell_type": "code",
   "execution_count": null,
   "metadata": {},
   "outputs": [],
   "source": [
    "while True:\n",
    "    s= input().rstrip()\n",
    "    if s == '.':\n",
    "        break\n",
    "    if s.count('(') != s.count(')') and s.count('[') != s.count(']'):\n",
    "        print('no')\n",
    "        continue\n",
    "    \n",
    "    # 이렇게 하는게 더 나을듯?\n",
    "    b= ''\n",
    "    for i in s:\n",
    "        if i in '()[]':\n",
    "            b += i\n",
    "    while '()' in b or '[]' in b:\n",
    "        if '()' in b:\n",
    "            b= b.replace('()', '')\n",
    "        if '[]' in b:\n",
    "            b= b.replace('[]', '')\n",
    "    \n",
    "    if b == '':\n",
    "        print('yes')\n",
    "    else:\n",
    "        print('no')"
   ]
  }
 ],
 "metadata": {
  "kernelspec": {
   "display_name": "base",
   "language": "python",
   "name": "python3"
  },
  "language_info": {
   "codemirror_mode": {
    "name": "ipython",
    "version": 3
   },
   "file_extension": ".py",
   "mimetype": "text/x-python",
   "name": "python",
   "nbconvert_exporter": "python",
   "pygments_lexer": "ipython3",
   "version": "3.9.16"
  },
  "orig_nbformat": 4
 },
 "nbformat": 4,
 "nbformat_minor": 2
}
