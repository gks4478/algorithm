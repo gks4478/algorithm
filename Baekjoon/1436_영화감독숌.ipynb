{
 "cells": [
  {
   "attachments": {},
   "cell_type": "markdown",
   "metadata": {},
   "source": [
    "## 1436 영화감독 숌\n",
    "https://www.acmicpc.net/problem/1436\n",
    "\n",
    "- 1번째 영화 이름은 666\n",
    "- 2번째 영화 이름은 1666\n",
    "- 3번째 영화 이름은 2666\n",
    "- 4번째 영화 이름은 3666\n",
    "- 5번째 영화 이름은 4666이 된다\n",
    "- 숌은 영화를 항상 차례대로 만든다\n",
    "\n",
    "<예시>\n",
    "\n",
    "<pre>\n",
    "[입력]\n",
    "2\n",
    "[출력]\n",
    "1666\n",
    "\n",
    "[입력]\n",
    "3\n",
    "[출력]\n",
    "2666\n",
    "\n",
    "[입력]\n",
    "6\n",
    "[출력]\n",
    "5666\n",
    "</pre>"
   ]
  },
  {
   "cell_type": "code",
   "execution_count": null,
   "metadata": {},
   "outputs": [],
   "source": [
    "from sys import stdin\n",
    "input= stdin.readline\n",
    "\n",
    "n= int(input())\n",
    "name= 666\n",
    "\n",
    "# 1을 계속 더하다가 666이 있는지 확인한다\n",
    "while n > 0:\n",
    "    if '666' in str(name): \n",
    "        n -= 1 \n",
    "        # 1. 처음 name이 666 이니까 n은 1이 된다\n",
    "        # 3. name이 1666이 됐으니까 n에서다시 1을 뺀다\n",
    "     \n",
    "    name += 1 \n",
    "    # 2. name에 666이 만들어지기 전까지 계속 더한다\n",
    "    # : 667, 668, 669, 670, 671, 672 ... 1666\n",
    "    # 4. n은 0이 됐으므로 while문은 멈춘다\n",
    "\n",
    "print(name-1) \n",
    "# 5. 반복문 나올 때 name에 +1 됐으므로 -1을 다시 해준다"
   ]
  },
  {
   "cell_type": "code",
   "execution_count": null,
   "metadata": {},
   "outputs": [],
   "source": [
    "'''java\n",
    "import java.util.Scanner;\n",
    "\n",
    "public class Main {\n",
    "    public static void main(String[] args) {\n",
    "        Scanner sc= new Scanner(System.in);\n",
    "\n",
    "        int n= sc.nextInt();\n",
    "        int name= 666;\n",
    "\n",
    "        while (n > 0){\n",
    "            if (String.valueOf(name).contains(\"666\")){\n",
    "                n --;\n",
    "            }\n",
    "\n",
    "            name += 1;\n",
    "        }\n",
    "\n",
    "        System.out.println(name-1);\n",
    "    }\n",
    "}\n",
    "'''"
   ]
  }
 ],
 "metadata": {
  "kernelspec": {
   "display_name": "base",
   "language": "python",
   "name": "python3"
  },
  "language_info": {
   "codemirror_mode": {
    "name": "ipython",
    "version": 3
   },
   "file_extension": ".py",
   "mimetype": "text/x-python",
   "name": "python",
   "nbconvert_exporter": "python",
   "pygments_lexer": "ipython3",
   "version": "3.9.16"
  },
  "orig_nbformat": 4
 },
 "nbformat": 4,
 "nbformat_minor": 2
}
