{
 "cells": [
  {
   "attachments": {},
   "cell_type": "markdown",
   "metadata": {},
   "source": [
    "## 2581 소수\n",
    "https://www.acmicpc.net/problem/2581\n",
    "\n",
    "- 자연수 m, n이 주어진다\n",
    "- m이상 n이하의 자연수 중 소수인 것을 모두 골라 이들 소수의 합과 최솟값을 찾아라 \n",
    "- m= 60, n= 100\n",
    "- 소수는 61, 67, 71, 73, 79, 83, 89, 97 가 있다\n",
    "- 이 소수의 합은 620, 최솟값은 61 이다\n",
    "- 소수가 없으면 -1을 출력한다\n",
    "\n",
    "<예시>\n",
    "\n",
    "<pre>\n",
    "[입력]\n",
    "60\n",
    "100\n",
    "[출력]\n",
    "620\n",
    "61\n",
    "\n",
    "[입력]\n",
    "64\n",
    "65\n",
    "[출력]\n",
    "-1\n",
    "</pre>"
   ]
  },
  {
   "cell_type": "code",
   "execution_count": null,
   "metadata": {},
   "outputs": [],
   "source": [
    "from sys import stdin\n",
    "input= stdin.readline\n",
    "\n",
    "n= int(input())\n",
    "m= int(input())\n",
    "\n",
    "if n == 1:\n",
    "    n= 2\n",
    "\n",
    "s= []\n",
    "for i in range(n, m+1):\n",
    "    cnt= 0\n",
    "    for j in range(2, i):\n",
    "        if i%j == 0:\n",
    "            cnt= 1\n",
    "            break\n",
    "\n",
    "    if cnt != 1:\n",
    "        s.append(i)    \n",
    "\n",
    "if len(s) != 0:\n",
    "    print(sum(s))\n",
    "    print(min(s))\n",
    "else:\n",
    "    print(-1)"
   ]
  }
 ],
 "metadata": {
  "kernelspec": {
   "display_name": "base",
   "language": "python",
   "name": "python3"
  },
  "language_info": {
   "codemirror_mode": {
    "name": "ipython",
    "version": 3
   },
   "file_extension": ".py",
   "mimetype": "text/x-python",
   "name": "python",
   "nbconvert_exporter": "python",
   "pygments_lexer": "ipython3",
   "version": "3.9.16"
  },
  "orig_nbformat": 4
 },
 "nbformat": 4,
 "nbformat_minor": 2
}
