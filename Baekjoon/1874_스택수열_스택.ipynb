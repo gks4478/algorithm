{
 "cells": [
  {
   "attachments": {},
   "cell_type": "markdown",
   "metadata": {},
   "source": [
    "## 1874 스택 수열\n",
    "https://www.acmicpc.net/problem/1874</br>\n",
    "\n",
    "<예시></br>\n",
    "<pre>\n",
    "    [입력]              [출력]</br>\n",
    "\n",
    "      8           |       \n",
    "      4           |       +\n",
    "      3           |       +\n",
    "      6           |       +\n",
    "      8           |       +\n",
    "      7           |       -\n",
    "      5           |       -\n",
    "      2           |       +\n",
    "      1           |       +\n",
    "                  |       -\n",
    "                  |       +\n",
    "                  |       +\n",
    "                  |       -\n",
    "                  |       -\n",
    "                  |       -\n",
    "                  |       -\n",
    "                  |       -\n",
    "</pre>"
   ]
  },
  {
   "cell_type": "code",
   "execution_count": 149,
   "metadata": {},
   "outputs": [],
   "source": [
    "from sys import stdin\n",
    "input= stdin.readline\n",
    "\n",
    "n= int(input().rstrip())\n",
    "\n",
    "value= [] # 값을 넣고 빼고할 리스트 지정\n",
    "max= 0 # value에 넣을 값이 중복되지 않게 하기 위한 것\n",
    "answer= [] # +, -를 저장하기 위한 리스트 지정\n",
    "\n",
    "for _ in range(n):\n",
    "    stack= int(input().rstrip()) # 값을 입력받음\n",
    "    # 전에 입력받은 값보다 크다면 진행\n",
    "    # 값이 작다면 이미 value에는 해당하는 값이 있을 것임\n",
    "    if max < stack:\n",
    "        for i in range(max+1, stack+1):\n",
    "            value.append(i)\n",
    "            answer.append('+')\n",
    "        # 여기에 들어온거면 현재까지 입력받은 값중에는 stack이 가장 큰값이니까 max로 지정\n",
    "        max= stack \n",
    "    \n",
    "    if value[-1] == stack: # value의 마지막값과 방금 입력받은 값이 같다면 진행\n",
    "        value.pop() # value의 가장 마지막 값 삭제\n",
    "        answer.append('-')\n",
    "    \n",
    "    else:\n",
    "        print('NO')\n",
    "        break\n",
    "\n",
    "# value에 아무 값이 없으면 스택이 잘 진행된거니까 answer를 출력한다.\n",
    "if len(value) == 0: \n",
    "    for a in answer:\n",
    "        print(a)"
   ]
  }
 ],
 "metadata": {
  "kernelspec": {
   "display_name": "base",
   "language": "python",
   "name": "python3"
  },
  "language_info": {
   "codemirror_mode": {
    "name": "ipython",
    "version": 3
   },
   "file_extension": ".py",
   "mimetype": "text/x-python",
   "name": "python",
   "nbconvert_exporter": "python",
   "pygments_lexer": "ipython3",
   "version": "3.9.16"
  },
  "orig_nbformat": 4
 },
 "nbformat": 4,
 "nbformat_minor": 2
}
