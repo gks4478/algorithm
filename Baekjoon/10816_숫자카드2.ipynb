{
 "cells": [
  {
   "attachments": {},
   "cell_type": "markdown",
   "metadata": {},
   "source": [
    "## 10816 숫자 카드2\n",
    "n의 숫자에서 m의 숫자가 몇개 있는지 출력</br>\n",
    "\n",
    "<예시></br>\n",
    "\n",
    "<pre>\n",
    "\n",
    "          [입력]                       [출력]</br>\n",
    "          \n",
    "10                            |\n",
    "6 3 2 10 10 10 -10 -10 7 3    |   3 0 0 1 2 0 0 2\n",
    "8                             |\n",
    "10 9 -5 2 3 4 5 -10           |\n",
    "\n",
    "</pre>"
   ]
  },
  {
   "attachments": {},
   "cell_type": "markdown",
   "metadata": {},
   "source": [
    "### 1. 시간 초과"
   ]
  },
  {
   "cell_type": "code",
   "execution_count": null,
   "metadata": {},
   "outputs": [],
   "source": [
    "N= int(input())\n",
    "n= input().split()\n",
    "M= int(input())\n",
    "m= input().split()\n",
    "answer= []\n",
    "\n",
    "# 하나하나 찾아야 하기 때문에 시간이 오래 걸린다.\n",
    "for k in m:\n",
    "    if k in n:\n",
    "        answer.append(str(n.count(k)))\n",
    "    else:\n",
    "        answer.append('0')\n",
    "\n",
    "print(' '.join(answer))\n",
    "# print(*answer)은 이거랑 출력이 같게 나온다.\n",
    "# 이거는 문자열이 아니라 숫자여도 가능하다! 유용하다!"
   ]
  },
  {
   "attachments": {},
   "cell_type": "markdown",
   "metadata": {},
   "source": [
    "### 2-2. 딕셔너리 사용 input"
   ]
  },
  {
   "cell_type": "code",
   "execution_count": null,
   "metadata": {},
   "outputs": [],
   "source": [
    "N= int(input())\n",
    "n= input().split()\n",
    "dic= {}\n",
    "\n",
    "# 이거는 그러면 시간 복잡도가 O(N) 이 되는건가..?\n",
    "for i in n:\n",
    "    if i not in dic:\n",
    "        dic[i] = 1\n",
    "    else:\n",
    "        dic[i] += 1\n",
    "\n",
    "M= int(input())\n",
    "m= input().split()\n",
    "answer= []\n",
    "\n",
    "for j in m:\n",
    "    if j in dic:\n",
    "        answer.append(dic[j])\n",
    "    else:\n",
    "        answer.append(0)\n",
    "\n",
    "print(*answer)"
   ]
  },
  {
   "attachments": {},
   "cell_type": "markdown",
   "metadata": {},
   "source": [
    "### 2-1. 딕셔너리 사용 sys"
   ]
  },
  {
   "cell_type": "code",
   "execution_count": null,
   "metadata": {},
   "outputs": [],
   "source": [
    "# 아직 sys 사용이 너무 어렵다..\n",
    "# 그리고 시간 복잡도 아직 어렵다..\n",
    "\n",
    "import sys\n",
    "N= int(sys.stdin.readline())\n",
    "n= list(map(int, sys.stdin.readline().split()))\n",
    "dic= {}\n",
    "\n",
    "for i in n:\n",
    "    if i not in dic:\n",
    "        dic[i] = 1\n",
    "    else:\n",
    "        dic[i] += 1\n",
    "\n",
    "M= int(sys.stdin.readline())\n",
    "m= list(map(int, sys.stdin.readline().split()))\n",
    "answer= []\n",
    "\n",
    "for j in m:\n",
    "    if j in dic:\n",
    "        answer.append(dic[j])\n",
    "    else:\n",
    "        answer.append(0)\n",
    "\n",
    "print(*answer)"
   ]
  }
 ],
 "metadata": {
  "kernelspec": {
   "display_name": "base",
   "language": "python",
   "name": "python3"
  },
  "language_info": {
   "codemirror_mode": {
    "name": "ipython",
    "version": 3
   },
   "file_extension": ".py",
   "mimetype": "text/x-python",
   "name": "python",
   "nbconvert_exporter": "python",
   "pygments_lexer": "ipython3",
   "version": "3.9.16"
  },
  "orig_nbformat": 4
 },
 "nbformat": 4,
 "nbformat_minor": 2
}
