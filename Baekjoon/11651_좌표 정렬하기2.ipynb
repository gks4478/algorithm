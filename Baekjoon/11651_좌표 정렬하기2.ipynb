{
 "cells": [
  {
   "attachments": {},
   "cell_type": "markdown",
   "metadata": {},
   "source": [
    "## 11651 좌표 정렬하기2\n",
    "https://www.acmicpc.net/problem/11651</br>\n",
    "y좌표가 증가하는 순으로, y좌표가 같으면 x좌표가 증가흔ㄴ 순서로 정렬한다.\n",
    "<pre>\n",
    "[입력]        [출력]</br>\n",
    "5        |    1 -1\n",
    "0 4      |    1 2\n",
    "1 2      |    2 2\n",
    "1 -1     |    3 3\n",
    "2 2      |    0 4\n",
    "3 3      |    \n",
    "</pre>"
   ]
  },
  {
   "cell_type": "code",
   "execution_count": null,
   "metadata": {},
   "outputs": [],
   "source": [
    "# https://github.com/gks4478/algorithm/blob/main/Baekjoon/11650_%EC%A2%8C%ED%91%9C%20%EC%A0%95%EB%A0%AC%ED%95%98%EA%B8%B0.ipynb\n",
    "# 이거랑 비슷한 문제임\n",
    "\n",
    "import sys\n",
    "\n",
    "def setup(value):\n",
    "    x,y= value.split()\n",
    "    return int(x)/1000000 + int(y)\n",
    "\n",
    "coor= sorted(sys.stdin.readlines()[1:], key= lambda x: setup(x))\n",
    "print(''.join(coor))"
   ]
  }
 ],
 "metadata": {
  "kernelspec": {
   "display_name": "base",
   "language": "python",
   "name": "python3"
  },
  "language_info": {
   "codemirror_mode": {
    "name": "ipython",
    "version": 3
   },
   "file_extension": ".py",
   "mimetype": "text/x-python",
   "name": "python",
   "nbconvert_exporter": "python",
   "pygments_lexer": "ipython3",
   "version": "3.9.16"
  },
  "orig_nbformat": 4
 },
 "nbformat": 4,
 "nbformat_minor": 2
}
