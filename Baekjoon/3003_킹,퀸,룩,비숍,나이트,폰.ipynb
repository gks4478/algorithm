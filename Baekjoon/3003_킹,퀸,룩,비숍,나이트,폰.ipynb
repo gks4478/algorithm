{
 "cells": [
  {
   "attachments": {},
   "cell_type": "markdown",
   "metadata": {},
   "source": [
    "## 3003 킹, 퀸, 룩, 비숍, 나이트, 폰\n",
    "https://www.acmicpc.net/problem/3003\n",
    "\n",
    "- 체스에는 16개의 피스를 사용한다\n",
    "- 킹 : 1개, 퀸 : 1개, 룩 : 2개, 비숍 : 2개, 나이트 : 2개, 폰 : 8개\n",
    "- 입력이 주어질 때 몇 개를 더하거나 빼야 올바른 세트가 되는지 구하시오\n",
    "\n",
    "<예시>\n",
    "\n",
    "<pre>\n",
    "[입력]\n",
    "0 1 2 2 2 7\n",
    "[출력]\n",
    "1 0 0 0 0 1\n",
    "\n",
    "[입력]\n",
    "2 1 2 1 2 1\n",
    "[출력]\n",
    "-1 0 0 1 0 7\n",
    "</pre>"
   ]
  },
  {
   "cell_type": "code",
   "execution_count": null,
   "metadata": {},
   "outputs": [],
   "source": [
    "from sys import stdin\n",
    "input= stdin.readline\n",
    "\n",
    "k, q, r, b, n, p = map(int, input().split())\n",
    "print(1-k, 1-q, 2-r, 2-b, 2-n, 8-p)"
   ]
  }
 ],
 "metadata": {
  "kernelspec": {
   "display_name": "base",
   "language": "python",
   "name": "python3"
  },
  "language_info": {
   "codemirror_mode": {
    "name": "ipython",
    "version": 3
   },
   "file_extension": ".py",
   "mimetype": "text/x-python",
   "name": "python",
   "nbconvert_exporter": "python",
   "pygments_lexer": "ipython3",
   "version": "3.9.16"
  },
  "orig_nbformat": 4
 },
 "nbformat": 4,
 "nbformat_minor": 2
}
