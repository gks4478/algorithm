{
 "cells": [
  {
   "attachments": {},
   "cell_type": "markdown",
   "metadata": {},
   "source": [
    "## 19532 수학은 비대면강의입니다\n",
    "https://www.acmicpc.net/problem/19532\n",
    "\n",
    "- 연립방정식 x,y의 값을 구하라\n",
    "- ax + by = c\n",
    "- dx + ey = f\n",
    "\n",
    "<예시>\n",
    "\n",
    "<pre>\n",
    "[입력]\n",
    "1 3 -1 4 1 7\n",
    "[출력]\n",
    "2 -1\n",
    "\n",
    "[입력]\n",
    "2 5 8 3 -4 -11\n",
    "[출력]\n",
    "-1 2\n",
    "</pre>"
   ]
  },
  {
   "cell_type": "code",
   "execution_count": null,
   "metadata": {},
   "outputs": [],
   "source": [
    "from sys import stdin\n",
    "input= stdin.readline\n",
    "\n",
    "a,b,c,d,e,f = map(int, input().split())\n",
    "\n",
    "for x in range(-999, 1000):\n",
    "    for y in range(-999, 1000):\n",
    "        if (a*x + b*y == c) and (d*x + e*y == f):\n",
    "            print(x,y)\n",
    "            break"
   ]
  }
 ],
 "metadata": {
  "kernelspec": {
   "display_name": "base",
   "language": "python",
   "name": "python3"
  },
  "language_info": {
   "codemirror_mode": {
    "name": "ipython",
    "version": 3
   },
   "file_extension": ".py",
   "mimetype": "text/x-python",
   "name": "python",
   "nbconvert_exporter": "python",
   "pygments_lexer": "ipython3",
   "version": "3.9.16"
  },
  "orig_nbformat": 4
 },
 "nbformat": 4,
 "nbformat_minor": 2
}
