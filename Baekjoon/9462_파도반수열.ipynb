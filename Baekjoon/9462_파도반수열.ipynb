{
 "cells": [
  {
   "attachments": {},
   "cell_type": "markdown",
   "metadata": {},
   "source": [
    "## 9462 파도반 수열\n",
    "https://www.acmicpc.net/problem/9461\n",
    "\n",
    "<예시>\n",
    "\n",
    "<pre>\n",
    "[입력]\n",
    "2\n",
    "6\n",
    "12\n",
    "\n",
    "[출력]\n",
    "3\n",
    "16\n",
    "</pre>"
   ]
  },
  {
   "cell_type": "markdown",
   "metadata": {},
   "source": [
    "### 1차 시도 : 성공"
   ]
  },
  {
   "cell_type": "code",
   "execution_count": null,
   "metadata": {},
   "outputs": [],
   "source": [
    "from sys import stdin\n",
    "input= stdin.readline\n",
    "\n",
    "for _ in range(int(input())):\n",
    "    n= int(input())\n",
    "    '''\n",
    "        n = 12\n",
    "    '''\n",
    "    t= [1,1,1,2,2,3,4,5] # 8자리(인덱스 번호로는 7)까지는 저장\n",
    "    if n < 9: # n이 8자리 이하라면\n",
    "        print(t[n-1]) # t[n-1]번째 출력\n",
    "    else:\n",
    "        for i in range(8,n): # n이 8자리 이상이라면\n",
    "            t.append(t[i-1]+t[i-5]) # t[i-1] + t[i-5] t에 append\n",
    "            '''\n",
    "                i = 8\n",
    "                t = [1,1,1,2,2,3,4,5, 7]\n",
    "\n",
    "                i = 9\n",
    "                t = [1,1,1,2,2,3,4,5, 7, 9]\n",
    "\n",
    "                i = 10\n",
    "                t = [1,1,1,2,2,3,4,5, 7, 9, 12]\n",
    "\n",
    "                i = 11\n",
    "                t = [1,1,1,2,2,3,4,5, 7, 9, 12, 16]\n",
    "            '''\n",
    "        print(t[-1]) # 마지막 수 출력"
   ]
  }
 ],
 "metadata": {
  "kernelspec": {
   "display_name": "base",
   "language": "python",
   "name": "python3"
  },
  "language_info": {
   "codemirror_mode": {
    "name": "ipython",
    "version": 3
   },
   "file_extension": ".py",
   "mimetype": "text/x-python",
   "name": "python",
   "nbconvert_exporter": "python",
   "pygments_lexer": "ipython3",
   "version": "3.9.16"
  },
  "orig_nbformat": 4
 },
 "nbformat": 4,
 "nbformat_minor": 2
}
