{
 "cells": [
  {
   "attachments": {},
   "cell_type": "markdown",
   "metadata": {},
   "source": [
    "## 11005 진법 변환2\n",
    "https://www.acmicpc.net/problem/11005\n",
    "\n",
    "- 10진법을 N진법으로 나타내어라\n",
    "- 10이상은 A~Z로 표시한다 (A:10, B:11, C:12...Z:35)\n",
    "- 2745 진법변환의 반대이다\n",
    "\n",
    "<예시>\n",
    "\n",
    "<pre>\n",
    "[입력]\n",
    "60466175 36\n",
    "[출력]\n",
    "ZZZZZ   \n",
    "</pre>"
   ]
  },
  {
   "cell_type": "code",
   "execution_count": 56,
   "metadata": {},
   "outputs": [
    {
     "name": "stdout",
     "output_type": "stream",
     "text": [
      "432987 8\n",
      "12027 15\n",
      "334 3\n",
      "9 10\n",
      "0 9\n"
     ]
    }
   ],
   "source": [
    "# 예시 (15587540, 36) 을 10진법으로 바꿔보자 (답:9A3F8)\n",
    "print(15587540//36, 15587540%36) # 432987 8\n",
    "print(432987//36,   432987%36)   # 12027 15\n",
    "print(12027//36,    12027%36)    # 334 3\n",
    "print(334//36,      334%36)      # 9 10\n",
    "print(9//36,        9%36)        # 0 9\n",
    "\n",
    "# 몫이 0이 되었을 때 멈추고\n",
    "# 마지막 나머지 값이 맨 앞으로 오면 된다\n",
    "# 10이상이면 대문자 알파벳으로 바꾼다"
   ]
  },
  {
   "cell_type": "code",
   "execution_count": null,
   "metadata": {},
   "outputs": [],
   "source": [
    "from sys import stdin\n",
    "input= stdin.readline\n",
    "\n",
    "n, b = map(int, input().split())\n",
    "\n",
    "result= ''\n",
    "while n > 0:\n",
    "    value= n%b\n",
    "    if value < 10:\n",
    "        result += str(value)\n",
    "    else:\n",
    "        result += chr(value + 55)\n",
    "        # ord: 문자를 아스키코드로 바꿔준다\n",
    "        # chr: 숫자를 아스키코드를 바꿔준다\n",
    "    \n",
    "    n= n//b\n",
    "\n",
    "print(result[::-1])"
   ]
  },
  {
   "cell_type": "code",
   "execution_count": null,
   "metadata": {},
   "outputs": [],
   "source": [
    "n, b = map(int, input().split())\n",
    "s= ''\n",
    "\n",
    "while n:\n",
    "    s= chr(n%b + [48, 55][n%b>9]) + s\n",
    "    # 맨 뒤에서부터 쌓여야 되는거니까 s += 로 안하고 +s로 하는 것이다\n",
    "    # n%b가 10이상이면 => True 1이 되니까 ([48, 55][1]) chr(n%b + 55) + s 가 된다\n",
    "    # n%b가 9이하면 => False 0이 되니까 ([48, 55][0]) chr(n%b + 48) + s 가 된다\n",
    "    n //= b\n",
    "\n",
    "print(s)"
   ]
  }
 ],
 "metadata": {
  "kernelspec": {
   "display_name": "base",
   "language": "python",
   "name": "python3"
  },
  "language_info": {
   "codemirror_mode": {
    "name": "ipython",
    "version": 3
   },
   "file_extension": ".py",
   "mimetype": "text/x-python",
   "name": "python",
   "nbconvert_exporter": "python",
   "pygments_lexer": "ipython3",
   "version": "3.9.16"
  },
  "orig_nbformat": 4
 },
 "nbformat": 4,
 "nbformat_minor": 2
}
