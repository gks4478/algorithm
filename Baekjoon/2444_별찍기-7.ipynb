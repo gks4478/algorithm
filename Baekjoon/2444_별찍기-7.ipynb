{
 "cells": [
  {
   "attachments": {},
   "cell_type": "markdown",
   "metadata": {},
   "source": [
    "## 2444 별 찍기 - 7\n",
    "https://www.acmicpc.net/problem/2444\n",
    "\n",
    "- 첫째 줄부터 2xN-1번째 줄까지 차례대로 별을 출력한다\n",
    "\n",
    "<예시>\n",
    "\n",
    "<pre>\n",
    "[입력]\n",
    "5\n",
    "[출력]\n",
    "    *\n",
    "   ***\n",
    "  *****\n",
    " *******\n",
    "*********\n",
    " *******\n",
    "  *****\n",
    "   ***\n",
    "    *\n",
    "</pre>"
   ]
  },
  {
   "cell_type": "code",
   "execution_count": null,
   "metadata": {},
   "outputs": [],
   "source": [
    "n= int(input())\n",
    "j= 1\n",
    "for i in range(1, (n*2-1), 2):\n",
    "    print(' '*(n-j) + '*'*i)\n",
    "    j += 1\n",
    "\n",
    "for i in range((n*2-1), 0, -2):\n",
    "    print(' '*(n-j) + '*'*i)\n",
    "    j -= 1"
   ]
  }
 ],
 "metadata": {
  "kernelspec": {
   "display_name": "base",
   "language": "python",
   "name": "python3"
  },
  "language_info": {
   "codemirror_mode": {
    "name": "ipython",
    "version": 3
   },
   "file_extension": ".py",
   "mimetype": "text/x-python",
   "name": "python",
   "nbconvert_exporter": "python",
   "pygments_lexer": "ipython3",
   "version": "3.9.16"
  },
  "orig_nbformat": 4
 },
 "nbformat": 4,
 "nbformat_minor": 2
}
