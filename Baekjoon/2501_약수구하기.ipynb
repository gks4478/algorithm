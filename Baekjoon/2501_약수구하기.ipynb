{
 "cells": [
  {
   "attachments": {},
   "cell_type": "markdown",
   "metadata": {},
   "source": [
    "## 2501 약수 구하기\n",
    "https://www.acmicpc.net/problem/2501\n",
    "\n",
    "- 숫자1, 숫자2가 주어질 때 숫자1의 약수에서 숫자2번째 약수를 출력하라\n",
    "\n",
    "<예시>\n",
    "\n",
    "<pre>\n",
    "[입력]\n",
    "6 3\n",
    "[출력]\n",
    "3\n",
    "\n",
    "[입력]\n",
    "25 4\n",
    "[출력]\n",
    "0\n",
    "\n",
    "[입력]\n",
    "2735\n",
    "[출력]\n",
    "1\n",
    "</pre>"
   ]
  },
  {
   "cell_type": "code",
   "execution_count": null,
   "metadata": {},
   "outputs": [],
   "source": [
    "from sys import stdin\n",
    "input= stdin.readline\n",
    "\n",
    "a,b = map(int, input().split())\n",
    "a_factor= [i for i in range(1, a+1) if a%i == 0]\n",
    "\n",
    "try:\n",
    "    print(a_factor[b-1])\n",
    "except:\n",
    "    print(0)"
   ]
  }
 ],
 "metadata": {
  "kernelspec": {
   "display_name": "base",
   "language": "python",
   "name": "python3"
  },
  "language_info": {
   "codemirror_mode": {
    "name": "ipython",
    "version": 3
   },
   "file_extension": ".py",
   "mimetype": "text/x-python",
   "name": "python",
   "nbconvert_exporter": "python",
   "pygments_lexer": "ipython3",
   "version": "3.9.16"
  },
  "orig_nbformat": 4
 },
 "nbformat": 4,
 "nbformat_minor": 2
}
