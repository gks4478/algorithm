{
 "cells": [
  {
   "attachments": {},
   "cell_type": "markdown",
   "metadata": {},
   "source": [
    "## 9036 대지\n",
    "https://www.acmicpc.net/problem/9036\n",
    "\n",
    "<예시>\n",
    "\n",
    "<pre>\n",
    "[입력]\n",
    "3\n",
    "20 24\n",
    "40 21\n",
    "10 12\n",
    "[출력]\n",
    "360\n",
    "\n",
    "[입력]\n",
    "1\n",
    "15 13\n",
    "[출력]\n",
    "0\n",
    "\n",
    "[입력]\n",
    "4\n",
    "2 1\n",
    "3 2\n",
    "5 2\n",
    "3 4\n",
    "[출력]\n",
    "9\n",
    "</pre>"
   ]
  },
  {
   "cell_type": "code",
   "execution_count": null,
   "metadata": {},
   "outputs": [],
   "source": [
    "from sys import stdin\n",
    "input= stdin.readline\n",
    "\n",
    "a= []\n",
    "b= []\n",
    "\n",
    "for _ in range(int(input())):\n",
    "    x,y = map(int, input().split())\n",
    "    a.append(x)\n",
    "    b.append(y)\n",
    "\n",
    "print((max(a) - min(a)) * (max(b) - min(b)))"
   ]
  }
 ],
 "metadata": {
  "kernelspec": {
   "display_name": "base",
   "language": "python",
   "name": "python3"
  },
  "language_info": {
   "codemirror_mode": {
    "name": "ipython",
    "version": 3
   },
   "file_extension": ".py",
   "mimetype": "text/x-python",
   "name": "python",
   "nbconvert_exporter": "python",
   "pygments_lexer": "ipython3",
   "version": "3.9.16"
  },
  "orig_nbformat": 4
 },
 "nbformat": 4,
 "nbformat_minor": 2
}
