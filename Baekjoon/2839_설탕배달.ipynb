{
 "cells": [
  {
   "attachments": {},
   "cell_type": "markdown",
   "metadata": {},
   "source": [
    "## 2839 설탕 배달\n",
    "https://www.acmicpc.net/problem/2839\n",
    "\n",
    "<예시>\n",
    "\n",
    "<pre>\n",
    "    [입력]              [출력]\n",
    "    \n",
    "      18         |        4\n",
    "       4         |        -1\n",
    "       6         |        2\n",
    "       9         |        3\n",
    "      11         |        3\n",
    "      27         |        7\n",
    "      5000       |        1000\n",
    "     \n",
    "</pre>"
   ]
  },
  {
   "attachments": {},
   "cell_type": "markdown",
   "metadata": {},
   "source": [
    "### 5차 시도 : 성공 : 왜?"
   ]
  },
  {
   "cell_type": "code",
   "execution_count": null,
   "metadata": {},
   "outputs": [],
   "source": [
    "n= int(input())\n",
    "n5= n%5\n",
    "answer= [] # 1차 검사, 1차 검사를 통해 작은 값을 구한다.\n",
    "\n",
    "# 1차 검사\n",
    "if n%5 == 0:\n",
    "    answer.append(n//5)\n",
    "elif n%3 == 0:\n",
    "    answer.append(n//3)\n",
    "elif n5%3 == 0: # n을 5로 나누고 나머지 값이 3으로 나누어 떨어질 수도 있으니까(없어도 될듯?)\n",
    "    answer.append(n//5 + n5//3)\n",
    "\n",
    "# 2차 검사\n",
    "cnt= 0\n",
    "while True:\n",
    "    n -= 3 # 작은 값으로 빼야 제대로 나온다.\n",
    "    cnt += 1 # 3을 몇번째 빼고있는지 확인하기 위함\n",
    "    if n < 0: # 3을 계속 빼다가 음수가 되면 -1\n",
    "        answer.append(-1)\n",
    "        break\n",
    "    elif n % 5 == 0: # 3을 cnt만큼 뺀 n 값이 5로 나누어 떨어지면 통과\n",
    "        answer.append(cnt + n//5)\n",
    "        break\n",
    "\n",
    "# answer중 작은 값 출력하는데 -1부터 출력되는걸 막기위함\n",
    "if min(answer) < 0:\n",
    "    print(max(answer))\n",
    "else:\n",
    "    print(min(answer))"
   ]
  },
  {
   "attachments": {},
   "cell_type": "markdown",
   "metadata": {},
   "source": [
    "### 다른 사람 코드 : !!! 이런 방법이"
   ]
  },
  {
   "cell_type": "code",
   "execution_count": null,
   "metadata": {},
   "outputs": [],
   "source": [
    "x= int(input())\n",
    "a= 0\n",
    "while x >= 0:\n",
    "    if x % 5 == 0: # 5로 나누어 떨어지면 바로 출력\n",
    "        # 3을 몇번 뺐는지 + 5로 나눈 값\n",
    "        a += (x//5)\n",
    "        print(a)\n",
    "        break\n",
    "    # -3을 해주고 다시 5로 나누어 떨어지는지 확인\n",
    "    x= x-3\n",
    "    # 3을 몇번째 빼주고 있는지 더한다\n",
    "    a= a+1\n",
    "# x가 음수가 되면 -1\n",
    "else:\n",
    "    print(-1)"
   ]
  }
 ],
 "metadata": {
  "kernelspec": {
   "display_name": "base",
   "language": "python",
   "name": "python3"
  },
  "language_info": {
   "codemirror_mode": {
    "name": "ipython",
    "version": 3
   },
   "file_extension": ".py",
   "mimetype": "text/x-python",
   "name": "python",
   "nbconvert_exporter": "python",
   "pygments_lexer": "ipython3",
   "version": "3.9.16"
  },
  "orig_nbformat": 4
 },
 "nbformat": 4,
 "nbformat_minor": 2
}
