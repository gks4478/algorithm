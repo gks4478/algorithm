{
 "cells": [
  {
   "attachments": {},
   "cell_type": "markdown",
   "metadata": {},
   "source": [
    "## 1929 소수 구하기\n",
    "https://www.acmicpc.net/problem/1929</br>\n",
    "M이상 N이하의 소수를 모두 출력한다.</br>\n",
    "\n",
    "<예시></br>\n",
    "<pre>\n",
    "    [입력]       [출력]</br>\n",
    "    \n",
    "    5 16     |       \n",
    "             |     3\n",
    "             |     5\n",
    "             |     7\n",
    "             |     11\n",
    "             |     13\n",
    "</pre>"
   ]
  },
  {
   "attachments": {},
   "cell_type": "markdown",
   "metadata": {},
   "source": [
    "### 1차 시도 : 시간 초과"
   ]
  },
  {
   "cell_type": "code",
   "execution_count": null,
   "metadata": {},
   "outputs": [],
   "source": [
    "from sys import stdin\n",
    "input= stdin.readline\n",
    "\n",
    "start, end= map(int, input().split())\n",
    "\n",
    "for i in range(start, end+1):\n",
    "    cnt= 0\n",
    "    for j in range(1, i+1):\n",
    "        if i%j == 0:\n",
    "            cnt += 1\n",
    "    if cnt == 2:\n",
    "        print(i)"
   ]
  },
  {
   "attachments": {},
   "cell_type": "markdown",
   "metadata": {},
   "source": [
    "### 2차 시도 : 시간초과"
   ]
  },
  {
   "cell_type": "code",
   "execution_count": null,
   "metadata": {},
   "outputs": [],
   "source": [
    "from sys import stdin\n",
    "# input= stdin.readline\n",
    "\n",
    "start, end= map(int, input().split())\n",
    "\n",
    "for i in range(start, end+1):\n",
    "    cnt= 0\n",
    "    for j in range(1, i+1):\n",
    "        if i%j == 0:\n",
    "            cnt += 1\n",
    "    if cnt == 2:\n",
    "        print(i)"
   ]
  },
  {
   "attachments": {},
   "cell_type": "markdown",
   "metadata": {},
   "source": [
    "### 에라토스테네스의 체\n",
    ": 에라토스테네스가 만들어낸 소수를 찾는 방법으로 체로 치듯이 수를 걸러낸다고 한다.</br>\n",
    "\n",
    "- <1~100까지 숫자를 찾는다고 한다.>\n",
    "\n",
    "- 1. 1~100까지 숫자를 쭉 쓴다.\n",
    "\n",
    "- 2. 1을 제거한다.\n",
    "\n",
    "- 3. 2를 제외한 2의 배수를 제거한다.\n",
    "\n",
    "- 4. 3을 제외한 3의 배수를 제거한다.\n",
    "\n",
    "- 5. 5를 제외한 5의 배수를 제거한다.\n",
    "\n",
    "- 6. 7을 제외한 7의 배수를 제거한다."
   ]
  },
  {
   "cell_type": "code",
   "execution_count": null,
   "metadata": {},
   "outputs": [],
   "source": [
    "from sys import stdin\n",
    "input= stdin.readline\n",
    "\n",
    "start, end= map(int, input().split())\n",
    "\n",
    "num= {i for i in range(start, end+1)}\n",
    "num2= {i for i in range(start, end+1)}\n",
    "\n",
    "for i in num:\n",
    "    if i == 1:\n",
    "        num2.remove(i)\n",
    "    elif i != 2 and i % 2 == 0:\n",
    "        num2.remove(i)\n",
    "    elif i != 3 and i % 3 == 0:\n",
    "        num2.remove(i)\n",
    "    elif i != 5 and i % 5 == 0:\n",
    "        num2.remove(i)\n",
    "    elif i != 7 and i % 7 == 0:\n",
    "        num2.remove(i)\n",
    "\n",
    "for j in num2:\n",
    "    print(j)"
   ]
  },
  {
   "attachments": {},
   "cell_type": "markdown",
   "metadata": {},
   "source": [
    "### 3차 시도 : 출력 초과"
   ]
  },
  {
   "cell_type": "code",
   "execution_count": null,
   "metadata": {},
   "outputs": [],
   "source": [
    "from sys import stdin\n",
    "input= stdin.readline\n",
    "\n",
    "start, end= map(int, input().split())\n",
    "\n",
    "num= {i for i in range(start, end+1)}\n",
    "num2= {i for i in range(start, end+1)}\n",
    "\n",
    "for i in num:\n",
    "    if i == 1:\n",
    "        num2.remove(i)\n",
    "    elif i != 2 and i % 2 == 0:\n",
    "        num2.remove(i)\n",
    "    elif i != 3 and i % 3 == 0:\n",
    "        num2.remove(i)\n",
    "    elif i != 5 and i % 5 == 0:\n",
    "        num2.remove(i)\n",
    "    elif i != 7 and i % 7 == 0:\n",
    "        num2.remove(i)\n",
    "\n",
    "for j in num2:\n",
    "    print(j)"
   ]
  },
  {
   "attachments": {},
   "cell_type": "markdown",
   "metadata": {},
   "source": [
    "### 4차 시도 : 출력 초과"
   ]
  },
  {
   "cell_type": "code",
   "execution_count": null,
   "metadata": {},
   "outputs": [],
   "source": [
    "from sys import stdin\n",
    "input= stdin.readline\n",
    "\n",
    "start, end= map(int, input().split())\n",
    "\n",
    "num= {i for i in range(start, end+1)}\n",
    "num2= {i for i in range(start, end+1)}\n",
    "\n",
    "for i in num:\n",
    "    if i == 1:\n",
    "        num2.remove(i)\n",
    "    elif i != 2 and i % 2 == 0:\n",
    "        num2.remove(i)\n",
    "    elif i != 3 and i % 3 == 0:\n",
    "        num2.remove(i)\n",
    "    elif i != 5 and i % 5 == 0:\n",
    "        num2.remove(i)\n",
    "    elif i != 7 and i % 7 == 0:\n",
    "        num2.remove(i)\n",
    "\n",
    "for j in sorted(list(num2)):\n",
    "    print(j)"
   ]
  },
  {
   "attachments": {},
   "cell_type": "markdown",
   "metadata": {},
   "source": [
    "### 5차 시도 : 출력 초과"
   ]
  },
  {
   "cell_type": "code",
   "execution_count": null,
   "metadata": {},
   "outputs": [],
   "source": [
    "from sys import stdin\n",
    "input= stdin.readline\n",
    "\n",
    "start, end= map(int, input().split())\n",
    "\n",
    "for i in range(start, end+1):\n",
    "    if i == 1 or (i!=2 and i%2==0) or (i!=3 and i%3==0) or (i!=5 and i%5==0) or (i!=7 and i %7==0):\n",
    "        continue\n",
    "    print(i)"
   ]
  },
  {
   "attachments": {},
   "cell_type": "markdown",
   "metadata": {},
   "source": [
    "### 6차 시도 : 성공"
   ]
  },
  {
   "cell_type": "code",
   "execution_count": null,
   "metadata": {},
   "outputs": [],
   "source": [
    "from sys import stdin\n",
    "\n",
    "input= stdin.readline\n",
    "\n",
    "start, end= map(int, input().split())\n",
    "\n",
    "for i in range(start, end+1):\n",
    "    if i == 1:\n",
    "        continue\n",
    "    # 소수는 1과 자기 자신이니까 이 범위안에 들면 소수가 아님\n",
    "    for j in range(2, int(i**0.5)+1):    \n",
    "        if i % j == 0:\n",
    "            break\n",
    "    else:\n",
    "        print(i)"
   ]
  }
 ],
 "metadata": {
  "kernelspec": {
   "display_name": "base",
   "language": "python",
   "name": "python3"
  },
  "language_info": {
   "codemirror_mode": {
    "name": "ipython",
    "version": 3
   },
   "file_extension": ".py",
   "mimetype": "text/x-python",
   "name": "python",
   "nbconvert_exporter": "python",
   "pygments_lexer": "ipython3",
   "version": "3.9.16"
  },
  "orig_nbformat": 4
 },
 "nbformat": 4,
 "nbformat_minor": 2
}
