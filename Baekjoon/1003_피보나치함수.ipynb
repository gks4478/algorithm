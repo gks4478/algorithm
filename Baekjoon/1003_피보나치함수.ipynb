{
 "cells": [
  {
   "attachments": {},
   "cell_type": "markdown",
   "metadata": {},
   "source": [
    "## 1003 피보나치 함수\n",
    "https://www.acmicpc.net/problem/1003\n",
    "\n",
    "피보나치란 2번째 인덱스부터 시작해서 앞 두개 인덱스의 합을 구하는 것이다.\n",
    "\n",
    "예) 6번째 인덱스 피보나치를 구하라\n",
    "- 기본 [0, 1] (0번째 인덱스와 1번째 인덱스는 존재한다.)\n",
    "- [0, 1, 0+1]\n",
    "- [0, 1, 1(0+1), 2(1+0+1)]\n",
    "- [0, 1, 1(0+1), 2(1+0+1), 3(0+1+1+0+1)]\n",
    "- [0, 1, 1(0+1), 2(1+0+1), 3(0+1+1+0+1), 5(1+0+1+0+1+1+0+1)]\n",
    "- [0, 1, 1(0+1), 2(1+0+1), 3(0+1+1+0+1), 5(1+0+1+0+1+1+0+1), 8(0+1+1+0+1+1+0+1+0+1+1+0+1)] = 8\n",
    "\n",
    "</br>\n",
    "\n",
    "\n",
    "[입력]\n",
    "- 첫째줄에는 테스트 케이스 개수 t가 주어진다.\n",
    "- 두번째줄부터는 출력값을 얻기 위한 n 값이 각 줄마다 주어진다.(0 <= n <= 40)\n",
    "- 3을 입력했다고 하면\n",
    "- 위 피보나치 [0, 1, 1(0+1), 2(1+0+1)]의 3번째 인덱스 2(1+0+1)이 나오니까\n",
    "- 출력은 [1, 2] 가 된다.(0이 1개, 1이 2개)\n",
    "\n",
    "[출력]\n",
    "- 0이 몇 번 출력되었는지 1이 몇 번 출력되었는지\n",
    "\n",
    "</br>\n",
    "\n",
    "<예제>\n",
    "\n",
    "<pre>\n",
    "[입력, 출력]\n",
    "3\n",
    "0\n",
    "1\n",
    "3\n",
    "---------\n",
    "1 0\n",
    "0 1\n",
    "1 2\n",
    "\n",
    "[입력, 출력]\n",
    "2\n",
    "6\n",
    "22\n",
    "---------\n",
    "5 8\n",
    "10946 17711\n",
    "</pre>"
   ]
  },
  {
   "cell_type": "markdown",
   "metadata": {},
   "source": [
    "### 2차 제출 : 성공\n",
    "딕셔너리를 하면 더 빠른줄 알았지..\n",
    "\n",
    "알고리즘으로 생각한다면 DP의 상향식이 아닐까 추측해본다.\n",
    "\n",
    "메모리 : 31256KB, 시간 : 40ms"
   ]
  },
  {
   "cell_type": "code",
   "execution_count": null,
   "metadata": {},
   "outputs": [],
   "source": [
    "# from sys import stdin\n",
    "# input= stdin.readline\n",
    "\n",
    "for _ in range(int(input().rstrip())):# t번 반복한다.\n",
    "    n= int(input().rstrip()) # 입력값n\n",
    "    a= {0: [1,0], 1: [0,1]} # 0과 1은 기본으로 있어야 한다.\n",
    "    for i in range(2, n+1): # 0과 1은 있으니까 2부터 n+1까지\n",
    "        a[i]= [a[i-1][0] + a[i-2][0], a[i-1][1] + a[i-2][1]]\n",
    "        # n= 3\n",
    "        # a= {0:[1,0], 1:[0,1]}\n",
    "        \n",
    "        # i= 2\n",
    "        # a[2]= [a[1][0] + a[0][0], a[1][1] + a[0][1]]\n",
    "        # a= {0:[1,0], 1:[0,1], 2:[1,1]}\n",
    "\n",
    "        # i= 3\n",
    "        # a[3]= [a[2][0] + a[1][0], a[2][1] + a[1][1]]\n",
    "        # a= {0:[1,0], 1:[0,1], 2:[1,1], 3:[1,2]}\n",
    "\n",
    "    print(*a[n]) # 출력 a[3]= [1,2]"
   ]
  },
  {
   "cell_type": "markdown",
   "metadata": {},
   "source": [
    "### 다른 사람 코드"
   ]
  },
  {
   "cell_type": "code",
   "execution_count": null,
   "metadata": {},
   "outputs": [],
   "source": [
    "# from sys import stdin\n",
    "# input= stdin.readline\n",
    "\n",
    "t= int(input())\n",
    "a= [0]*41 # n의 값의 범위가 0~40이라 미리 만들어 둔다.\n",
    "a[0], a[1]= [1,0], [0,1] # 0번째와 1번째 인덱스는 기본으로 있어야 한다.\n",
    "\n",
    "# 0번부터 40번째까지 미리 저장한다.\n",
    "for i in range(2, 41): # 0번째와 1번째는 이미 채워져 있으니까 2번째부터 40번까지\n",
    "    a[i]= [a[i-1][1], sum(a[i-1])]\n",
    "    # i= 2\n",
    "    # a= [[1,0], [0,1], 0, 0, ... 0]\n",
    "    # a[2]= [a[1][1], sum(a[1])]\n",
    "\n",
    "    # i= 3\n",
    "    # a= [[1,0], [0,1], [1,1], 0, ... 0]\n",
    "    # a[3]= [a[2][1], sum(a[2])]\n",
    "    # a= [[1,0], [0,1], [1,1], [1,2], ... 0]\n",
    "\n",
    "    # ...\n",
    "\n",
    "    # i= 40\n",
    "    # a[40]= [a[39][1], sum(a[39])]\n",
    "    # a= [[1,0], [0,1], [1,1], [1,2], ... [63245986, 102334155]]\n",
    "\n",
    "# 미리 저장했던 리스트에서 값을 추출한다.\n",
    "for i in range(t):\n",
    "    n= int(input())\n",
    "    print(*a[n]) # 출력"
   ]
  },
  {
   "cell_type": "markdown",
   "metadata": {},
   "source": [
    "### 내 코드 개선\n",
    "메모리 : 31256KB, 시간 : 40ms\n",
    "\n",
    "차이가 없네..?"
   ]
  },
  {
   "cell_type": "code",
   "execution_count": null,
   "metadata": {},
   "outputs": [],
   "source": [
    "# from sys import stdin\n",
    "# input= stdin.readline\n",
    "\n",
    "a= [0]*41 # n의 범위만큼 리스트를 미리 만들어 두었다.\n",
    "for _ in range(int(input().rstrip())):\n",
    "    n= int(input().rstrip())\n",
    "    a[0], a[1]= [1,0], [0,1] # 0번째 1번째 인덱스는 미리 만들어두었다.\n",
    "    for i in range(2, n+1):\n",
    "        a[i]= [a[i-1][1], sum(a[i-1])] # 이렇게 해도 같아서 변경\n",
    "\n",
    "    print(*a[n])"
   ]
  }
 ],
 "metadata": {
  "kernelspec": {
   "display_name": "base",
   "language": "python",
   "name": "python3"
  },
  "language_info": {
   "codemirror_mode": {
    "name": "ipython",
    "version": 3
   },
   "file_extension": ".py",
   "mimetype": "text/x-python",
   "name": "python",
   "nbconvert_exporter": "python",
   "pygments_lexer": "ipython3",
   "version": "3.9.16"
  },
  "orig_nbformat": 4
 },
 "nbformat": 4,
 "nbformat_minor": 2
}
