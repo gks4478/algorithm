{
 "cells": [
  {
   "attachments": {},
   "cell_type": "markdown",
   "metadata": {},
   "source": [
    "## 9012 괄호\n",
    "https://www.acmicpc.net/problem/9012</br>\n",
    "\n",
    "완변한 괄호면 YES, 아니면 NO를 출력하라</br>\n",
    "\n",
    "<예시></br>\n",
    "\n",
    "<pre>\n",
    "[입력]                           [출력]</br>\n",
    "  6                        |      \n",
    "  (())())                  |      NO\n",
    "  (((()())()               |      NO\n",
    "  (()())((()))             |      YES\n",
    "  ((()()(()))(((())))()    |      NO\n",
    "  ()()()()(()()())()       |      YES\n",
    "  (()((())()(              |      NO\n",
    "\n",
    "  3                        |      \n",
    "  ((                       |      NO     \n",
    "  ))                       |      NO\n",
    "  ())(()                   |      NO\n",
    "</pre>"
   ]
  },
  {
   "attachments": {},
   "cell_type": "markdown",
   "metadata": {},
   "source": [
    "### 1. stack 활용"
   ]
  },
  {
   "cell_type": "code",
   "execution_count": null,
   "metadata": {},
   "outputs": [],
   "source": [
    "n= int(input()) # 몇 번 반복할지 입력\n",
    "\n",
    "for i in range(n):\n",
    "    stack= [] # stack 쌓을 리스트 생성\n",
    "    paren= input() # 괄호 입력\n",
    "    for p in paren:\n",
    "        if p == '(': # ( 이라면 stack에 쌓는다\n",
    "            stack.append(p)\n",
    "        elif p == ')':\n",
    "            if stack: # ) 이고 stack에 값이 있다면 삭제한다.\n",
    "                stack.pop()\n",
    "            else: # ) 인데 stack에 값이 없다면 )을 stack에 쌓고 for문 break\n",
    "                stack.append(p)\n",
    "                break\n",
    "    \n",
    "    if not stack: # 값이 아무것도 없으면 YES\n",
    "        print('YES')\n",
    "    else: # )나 (가 있으면 NO\n",
    "        print('NO')"
   ]
  },
  {
   "attachments": {},
   "cell_type": "markdown",
   "metadata": {},
   "source": [
    "### 2. ()를 ''로 치환하는 방식 \n",
    "\n",
    "진짜 한참 멀었구나.."
   ]
  },
  {
   "cell_type": "code",
   "execution_count": null,
   "metadata": {},
   "outputs": [],
   "source": [
    "import sys\n",
    "paren= sys.stdin.readlines()[1:] # 혹시 이제까지 이게 안됐던 이유가 뒤에 s를 안 붙여서??\n",
    "\n",
    "for p in paren:\n",
    "    p= p.rstrip()\n",
    "    while '()' in p:\n",
    "        p= p.replace('()', '') # ()을 ''으로 치환한다.\n",
    "    \n",
    "    if p:\n",
    "        print('NO') # 값이 있으면 NO\n",
    "    else:\n",
    "        print('YES') # 값이 없으면 YES"
   ]
  }
 ],
 "metadata": {
  "kernelspec": {
   "display_name": "base",
   "language": "python",
   "name": "python3"
  },
  "language_info": {
   "codemirror_mode": {
    "name": "ipython",
    "version": 3
   },
   "file_extension": ".py",
   "mimetype": "text/x-python",
   "name": "python",
   "nbconvert_exporter": "python",
   "pygments_lexer": "ipython3",
   "version": "3.9.16"
  },
  "orig_nbformat": 4
 },
 "nbformat": 4,
 "nbformat_minor": 2
}
