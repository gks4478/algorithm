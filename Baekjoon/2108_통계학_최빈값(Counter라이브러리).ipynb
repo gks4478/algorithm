{
 "cells": [
  {
   "attachments": {},
   "cell_type": "markdown",
   "metadata": {},
   "source": [
    "## 2018 통계학\n",
    "https://www.acmicpc.net/problem/2108</br>\n",
    "\n",
    "- 산술평가 : N개의 수 합을 N으로 나눈값\n",
    "\n",
    "- 중앙값 : N개의 수들을 증가하는 순서로 나열했을 경우 그 중앙에 위치하는 값\n",
    "\n",
    "- 최빈값 : N개의 수들 중 가장 많이 나타나는 값 여러개일 경우 최빈값 중 두 번째로 작은 값\n",
    "\n",
    "- 범위 : N개의 수들 중 최댓값과 최솟값의 차이\n",
    "\n",
    "\n",
    "<예시></br>\n",
    "<pre>\n",
    "   [입력]              [출력]</br>\n",
    "\n",
    "     5         |       \n",
    "     1         |         2\n",
    "     3         |         2\n",
    "     8         |         1\n",
    "    -2         |         10\n",
    "     2         |       \n",
    "</pre>"
   ]
  },
  {
   "attachments": {},
   "cell_type": "markdown",
   "metadata": {},
   "source": [
    "### 1차 시도 : 성공(오랜만에 쉬웠다.)"
   ]
  },
  {
   "cell_type": "code",
   "execution_count": null,
   "metadata": {},
   "outputs": [],
   "source": [
    "from sys import stdin\n",
    "from collections import Counter # 최빈값 구하기 위한 카운터\n",
    "input= stdin.readline\n",
    "\n",
    "n= int(input().rstrip())\n",
    "num= [int(input().rstrip()) for _ in range(n)]\n",
    "num.sort() # num 정렬\n",
    "cnt= Counter(num).most_common(2) # 최빈값 상위 2개 보여준다\n",
    "\n",
    "print(round(sum(num)/n)) # 산술평가\n",
    "print(num[n//2]) # 중앙값\n",
    "# 최빈값\n",
    "try:\n",
    "    # 최빈값이 여러개일 때일 때는 상위 두번째를 출력하고 아니면 첫번째를 출력한다.\n",
    "    print(cnt[1][0]) if cnt[0][1] == cnt[1][1] else print(cnt[0][0])\n",
    "except:\n",
    "    # 입력된 값이 1일 때는 상위 첫번째 출력\n",
    "    print(cnt[0][0])\n",
    "# 범위\n",
    "print(num[-1] - num[0])"
   ]
  },
  {
   "attachments": {},
   "cell_type": "markdown",
   "metadata": {},
   "source": [
    "### 최빈값 구하기"
   ]
  },
  {
   "cell_type": "code",
   "execution_count": 70,
   "metadata": {},
   "outputs": [
    {
     "name": "stdout",
     "output_type": "stream",
     "text": [
      "<<Counter(list)>>\n",
      "Counter({2: 2, 1: 1, 3: 1})\n",
      "Counter({'a': 2, 'b': 1, 'c': 1})\n",
      "\n",
      "<<Counter(list).most_common()>>\n",
      "[(2, 2), (1, 1), (3, 1)]\n",
      "[('a', 2), ('b', 1)]\n",
      "\n",
      "(3, 1)\n",
      "1\n",
      "('a', 2)\n",
      "a\n"
     ]
    }
   ],
   "source": [
    "from collections import Counter\n",
    "\n",
    "a= [1,2,2,3]\n",
    "b= ['a', 'a', 'b', 'c']\n",
    "\n",
    "print('<<Counter(list)>>')\n",
    "a_cnt= Counter(a); b_cnt= Counter(b)\n",
    "print(a_cnt); print(b_cnt); print()\n",
    "\n",
    "print('<<Counter(list).most_common()>>')\n",
    "a_cnt_rank= Counter(a).most_common() # a_cnt 전체를 보여주고\n",
    "b_cnt_rank= Counter(b).most_common(2) # b_cnt 상위 2개를 보여준다\n",
    "print(a_cnt_rank); print(b_cnt_rank); print()\n",
    "\n",
    "# 각 부분에 접근하기\n",
    "print(a_cnt_rank[2]); print(a_cnt_rank[2][1]) \n",
    "print(b_cnt_rank[0]); print(b_cnt_rank[0][0]) "
   ]
  }
 ],
 "metadata": {
  "kernelspec": {
   "display_name": "base",
   "language": "python",
   "name": "python3"
  },
  "language_info": {
   "codemirror_mode": {
    "name": "ipython",
    "version": 3
   },
   "file_extension": ".py",
   "mimetype": "text/x-python",
   "name": "python",
   "nbconvert_exporter": "python",
   "pygments_lexer": "ipython3",
   "version": "3.9.16"
  },
  "orig_nbformat": 4
 },
 "nbformat": 4,
 "nbformat_minor": 2
}
