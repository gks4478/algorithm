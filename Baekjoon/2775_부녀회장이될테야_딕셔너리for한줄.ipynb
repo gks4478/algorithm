{
 "cells": [
  {
   "attachments": {},
   "cell_type": "markdown",
   "metadata": {},
   "source": [
    "## 2775 부녀회장이 될테야\n",
    "https://www.acmicpc.net/problem/2775</br>\n",
    "\n",
    "- k층의 n호에 살려면 자신의 아래층(k-1)의 1호 부터 n호까지 사람들의 수의 합과 같아야 한다.</br>\n",
    "\n",
    "- 0층의 n호에는 n명이 산다(0층의 2호: 2명, 0층의 3호: 3명, 0층의 4호: 4명 ...)</br>\n",
    "\n",
    "- 1호부터 시작한다.</br>\n",
    "\n",
    "<예시></br>\n",
    "\n",
    "2층의 3호에는 몇명이 사는가?</br>\n",
    "\n",
    "1층의 1호 + 1층의 2호 + 1층의 3호 의 총합 명(?)을 구해야 함</br>\n",
    "\n",
    "- 1층의 1호 : 0층의 1호 = 1명</br>\n",
    "- 1층의 2호 : 0층의 1호(1명) + 0층의 2호 = 3명</br>\n",
    "- 1층의 3호 : 0층의 1호(1명) + 0층의 2호(2명) + 0층의 3호 = 6명</br>\n",
    "\n",
    "이렇게 되기 때문에 2층의 3호는 1명 + 3명 + 6명 = 10명 이다</br>\n",
    "\n",
    "<pre>\n",
    "    [입력]              [출력]</br>\n",
    "\n",
    "2 (테스트 개수)      \n",
    "1 (몇 층)         |       6\n",
    "3 (몇 호)         |       10\n",
    "2 (몇 층)         |      \n",
    "3 (몇 호)         |       \n",
    "</pre>"
   ]
  },
  {
   "attachments": {},
   "cell_type": "markdown",
   "metadata": {},
   "source": [
    "### 1차 시도 : 성공 : 이게 왜 되는 건데..? O(n^3)인데 겁나 느린데...?"
   ]
  },
  {
   "cell_type": "code",
   "execution_count": null,
   "metadata": {},
   "outputs": [],
   "source": [
    "from sys import stdin\n",
    "input= stdin.readline\n",
    "\n",
    "for _ in range(int(input())):\n",
    "\n",
    "    k= int(input())\n",
    "    n= int(input())\n",
    "    cnt= 0 # 반보문을 나가기 위한\n",
    "    # 0층의 값을 미리 리스트에 저장 한다.\n",
    "    zero= [sum(range(1, i+1)) for i in range(1, n+1)]\n",
    "\n",
    "    # 만약 1층이라면 zero의 마지막 값을 출력하고 계속\n",
    "    if k == 1:\n",
    "        print(zero[-1])\n",
    "        continue\n",
    "    \n",
    "    # 어차피 출력할 때 zero의 값을 더한 값을 출력할 것이기 때문에 범위를 이렇게 설정\n",
    "    while cnt < k-2:\n",
    "        # 더해지는 값은 맨 뒤부터 값을 변경해 나가야 함\n",
    "        for i in range(n-1, 0, -1):\n",
    "            # 더하는 값은 앞에서부터 시작\n",
    "            for j in range(i):\n",
    "                zero[i] += zero[j]\n",
    "        cnt += 1\n",
    "\n",
    "    # k-1층까지 구해서 전체를 더해서 출력\n",
    "    print(sum(zero))"
   ]
  },
  {
   "attachments": {},
   "cell_type": "markdown",
   "metadata": {},
   "source": [
    "### 이건 그냥 딕셔너리로 했다면..? 인데 위에 거랑 똑같음"
   ]
  },
  {
   "cell_type": "code",
   "execution_count": null,
   "metadata": {},
   "outputs": [],
   "source": [
    "from sys import stdin\n",
    "input= stdin.readline\n",
    "\n",
    "for _ in range(int(input())):\n",
    "    k= int(input())\n",
    "    n= int(input())\n",
    "    cnt= 0\n",
    "    # 리스트가 아닌 딕셔너리를 한줄로 쓰기!\n",
    "    zero= {i-1 : sum(range(1, i+1)) for i in range(1, n+1)}\n",
    "    if k == 1:\n",
    "        print(zero[n-1])\n",
    "        continue\n",
    "\n",
    "    while cnt < k-2:\n",
    "        for i in range(n-1, 0, -1):\n",
    "            for j in range(i):\n",
    "                zero[i] += zero[j]\n",
    "        cnt += 1\n",
    "\n",
    "    print(sum(zero.values()))"
   ]
  },
  {
   "attachments": {},
   "cell_type": "markdown",
   "metadata": {},
   "source": [
    "### 다른 사람 코드 : 시간 복잡도는 비슷한가..? for 문이 2개 쓰였는데.."
   ]
  },
  {
   "cell_type": "code",
   "execution_count": null,
   "metadata": {},
   "outputs": [],
   "source": [
    "from sys import stdin\n",
    "input= stdin.readline\n",
    "\n",
    "while cnt < int(input()):\n",
    "    k= int(input())\n",
    "    n= int(input())\n",
    "    array= [i for i in range(1, n+1)]\n",
    "\n",
    "    for _ in range(k):\n",
    "        for j in range(1, n):\n",
    "            array[i] += array[i-1]\n",
    "    print(array[-1])\n",
    "    cnt += 1"
   ]
  }
 ],
 "metadata": {
  "kernelspec": {
   "display_name": "base",
   "language": "python",
   "name": "python3"
  },
  "language_info": {
   "codemirror_mode": {
    "name": "ipython",
    "version": 3
   },
   "file_extension": ".py",
   "mimetype": "text/x-python",
   "name": "python",
   "nbconvert_exporter": "python",
   "pygments_lexer": "ipython3",
   "version": "3.9.16"
  },
  "orig_nbformat": 4
 },
 "nbformat": 4,
 "nbformat_minor": 2
}
