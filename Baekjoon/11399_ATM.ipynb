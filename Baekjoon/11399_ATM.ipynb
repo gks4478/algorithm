{
 "cells": [
  {
   "attachments": {},
   "cell_type": "markdown",
   "metadata": {},
   "source": [
    "## 11399 ATM\n",
    "https://www.acmicpc.net/problem/11399\n",
    "\n",
    "ATM에 n명의 사람이 있을 때 돈을 인출하는데 걸리는 총 최소 시간을 구하라\n",
    "- 총 5명의 사람이 ATM에 줄을 서 있다.\n",
    "- 사람이 [1,2,3,4,5]의 순서로 줄을 서 있을 때 각 [3,1,4,3,2]의 시간이 든다.\n",
    "- 그러면 마지막 사람이 돈을 인출하기까지 걸리는 총 시간은 39분이다.\n",
    "- 39분= [3, 3+1, 3+1+4, 3+1+4+3, 3+1+4+3+2] = [3, 4, 8, 11, 13] = 3 + 4 + 8 + 11 + 13 = 39\n",
    "\n",
    "- 최소 시간이 되려면 사람이 [2,5,1,4,3]의 순으로 서야 하고 시간은 각 [1,2,3,3,4]이 된다.\n",
    "- 그러면 마지막 사람이 돈을 인출하기까지 걸리는 총 시간은 32분이다.\n",
    "- 32분= [1, 1+2, 1+2+3, 1+2+3+3, 1+2+3+3+4] = [1, 3, 6, 9, 13] = 32\n",
    "\n",
    "<예시>\n",
    "\n",
    "<pre>\n",
    "[입력]\n",
    "5\n",
    "3 1 4 3 2\n",
    "\n",
    "[출력]\n",
    "32\n",
    "     \n",
    "</pre>"
   ]
  },
  {
   "cell_type": "markdown",
   "metadata": {},
   "source": [
    "### 1차 시도 : 성공\n",
    "DP의 상향식을 사용했다."
   ]
  },
  {
   "cell_type": "code",
   "execution_count": null,
   "metadata": {},
   "outputs": [],
   "source": [
    "from sys import stdin\n",
    "input= stdin.read\n",
    "\n",
    "n, *time= map(int, input().rstrip().split()) # 5, [3,1,4,3,2]\n",
    "time.sort() # [1,2,3,3,4]\n",
    "answer= [0]*n # [0,0,0,0,0]\n",
    "answer[0]= time[0] # [1,0,0,0,0]\n",
    "\n",
    "for i in range(1, n):\n",
    "    answer[i]= answer[i-1] + time[i]\n",
    "    # 1: answer[i-1]= 1, time[i]= 2, answer= [1,3,0,0,0]\n",
    "    # 2: answer[i-1]= 3, time[i]= 3, answer= [1,3,6,0,0]\n",
    "    # 3: answer[i-1]= 6, time[i]= 3, answer= [1,3,6,9,0]\n",
    "    # 4: answer[i-1]= 9, time[i]= 4, answer= [1,3,6,9,13]\n",
    "\n",
    "print(sum(answer)) # sum(1,3,6,9,13) = 32"
   ]
  },
  {
   "cell_type": "markdown",
   "metadata": {},
   "source": [
    "### 다른 사람 코드"
   ]
  },
  {
   "cell_type": "code",
   "execution_count": null,
   "metadata": {},
   "outputs": [],
   "source": [
    "import sys\n",
    "n= int(sys.stdin.readline()) # 5\n",
    "time= list(map(int, sys.stdin.readline().split())) # [3,1,4,3,2]\n",
    "time.sort() # [1,2,3,3,4]\n",
    "\n",
    "sum= 0\n",
    "for i in range(n):\n",
    "    sum += time.pop() * (i+1)\n",
    "    # time= [1,2,3,3,4]\n",
    "    # 4 * 1 = 4\n",
    "    # time= [1,2,3,3]\n",
    "    # 3 * 2 = 6 (10)\n",
    "    # time= [1,2,3]\n",
    "    # 3 * 3 = 9 (19)\n",
    "    # time= [1,2]\n",
    "    # 2 * 4 = 8 (27)\n",
    "    # time= [1]\n",
    "    # 1 * 5 = 5 (32)\n",
    "\n",
    "print(sum) # 출력"
   ]
  }
 ],
 "metadata": {
  "kernelspec": {
   "display_name": "base",
   "language": "python",
   "name": "python3"
  },
  "language_info": {
   "codemirror_mode": {
    "name": "ipython",
    "version": 3
   },
   "file_extension": ".py",
   "mimetype": "text/x-python",
   "name": "python",
   "nbconvert_exporter": "python",
   "pygments_lexer": "ipython3",
   "version": "3.9.16"
  },
  "orig_nbformat": 4
 },
 "nbformat": 4,
 "nbformat_minor": 2
}
