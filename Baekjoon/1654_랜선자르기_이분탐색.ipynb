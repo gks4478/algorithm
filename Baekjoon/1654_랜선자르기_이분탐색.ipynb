{
 "cells": [
  {
   "attachments": {},
   "cell_type": "markdown",
   "metadata": {},
   "source": [
    "## 1654 랜선 자르기\n",
    "https://www.acmicpc.net/problem/1654</br>\n",
    "\n",
    "<예시></br>\n",
    "<pre>\n",
    "   [입력]              [출력]</br>\n",
    "\n",
    "    4 11        |       \n",
    "    802         |       200\n",
    "    743         |       \n",
    "    457         |       \n",
    "    539         |       \n",
    "</pre>"
   ]
  },
  {
   "attachments": {},
   "cell_type": "markdown",
   "metadata": {},
   "source": [
    "### 이분 탐색으로 진행한다(start와 end의 값이 같으면 종료한다)\n",
    "\n",
    "- 1 2 3 4 5 6라는 값에서 6을 찾고자 한다면\n",
    "\n",
    "- start= 1, end= 6 => (1+6)//2 = 3\n",
    "\n",
    "- 찾는 값 6보다 3이 작으니까 3 이하는 제외하고 탐색을 다시 진행한다.\n",
    "\n",
    "- 3이하를 제외하면 4 5 6 이 된다.\n",
    "\n",
    "- start= 4, end= 6 => (4+6)//2 = 5\n",
    "\n",
    "- 찾는 값 6보다 5가 작으니까 5이하는 제외하고 탐색을 다시 진행한다.\n",
    "\n",
    "- 5이하를 제외하면 6이 된다.\n",
    "\n",
    "- start= 6, end= 6 두 값이 일치하면 탐색을 종료한다."
   ]
  },
  {
   "cell_type": "code",
   "execution_count": 1,
   "metadata": {},
   "outputs": [],
   "source": [
    "from sys import stdin, stdout\n",
    "input= stdin.readline\n",
    "print= stdout.write\n",
    "\n",
    "# 1. 값을 입력 받는다.\n",
    "n, cnt= map(int, input().split())\n",
    "lan= [int(input().rstrip()) for _ in range(n)]\n",
    "\n",
    "# 2. 중간값을 구하기 위한 start와 end를 초기화 한다.\n",
    "start, end= 1, max(lan)\n",
    "\n",
    "# 3. start이 end보다 커지기 전에 멈춘다.\n",
    "while start <= end:\n",
    "    mid= (start + end) // 2 # 중간값\n",
    "    value= 0\n",
    "\n",
    "    for i in lan:\n",
    "        value += i//mid # cnt와 비교하기 위해 더한다.\n",
    "    \n",
    "    # value(더한값)이 cnt보다 크거나 같으면 value를 줄여야 한다.\n",
    "    # value를 줄이기 위해서는 mid값을 키워야 한다.\n",
    "    # 그러면 start 값을 mid보다 1 큰 값으로 한다.\n",
    "    if value >= cnt:\n",
    "        start= mid + 1\n",
    "    \n",
    "    else:\n",
    "        end= mid - 1\n",
    "\n",
    "print(str(end)) # str로 감싸지 않으면 오류가 난다..."
   ]
  }
 ],
 "metadata": {
  "kernelspec": {
   "display_name": "base",
   "language": "python",
   "name": "python3"
  },
  "language_info": {
   "codemirror_mode": {
    "name": "ipython",
    "version": 3
   },
   "file_extension": ".py",
   "mimetype": "text/x-python",
   "name": "python",
   "nbconvert_exporter": "python",
   "pygments_lexer": "ipython3",
   "version": "3.9.16"
  },
  "orig_nbformat": 4
 },
 "nbformat": 4,
 "nbformat_minor": 2
}
