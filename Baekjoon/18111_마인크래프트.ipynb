{
 "cells": [
  {
   "attachments": {},
   "cell_type": "markdown",
   "metadata": {},
   "source": [
    "## 18111 마인크래프트\n",
    "https://www.acmicpc.net/problem/18111\n",
    "\n",
    "<예시>\n",
    "\n",
    "<pre>\n",
    "[입력]     [출력]\n",
    "3 4 99  |  \n",
    "0 0 0 0 |\n",
    "0 0 0 0 |\n",
    "0 0 0 1 |   2 0\n",
    "</pre>"
   ]
  },
  {
   "cell_type": "markdown",
   "metadata": {},
   "source": [
    "### 3차 시도 : 시간 초과"
   ]
  },
  {
   "cell_type": "code",
   "execution_count": null,
   "metadata": {},
   "outputs": [],
   "source": [
    "# from sys import stdin\n",
    "# n,m,b, *lst= map(int, stdin.read().strip().split())\n",
    "_, _,b, *lst= map(int, input().strip().split())\n",
    "\n",
    "time= [0, 0]\n",
    "size= [min(lst), max(lst)]\n",
    "for i in range(len(lst)):\n",
    "    if lst[i] != min(lst):\n",
    "        time[0] += 2*(max(lst) - min(lst))\n",
    "\n",
    "cnt= lst.count(min(lst)) * (max(lst) - min(lst))\n",
    "if cnt <= b:\n",
    "    for i in range(len(lst)):\n",
    "        if lst[i] != max(lst):\n",
    "            time[1] += 1*(max(lst) - min(lst))\n",
    "else:\n",
    "    time.pop()\n",
    "    size.pop()\n",
    "    \n",
    "idx= time.index(min(time))\n",
    "print(time[idx],size[idx])"
   ]
  },
  {
   "cell_type": "markdown",
   "metadata": {},
   "source": [
    "### 4차 시도 : 틀림"
   ]
  },
  {
   "cell_type": "code",
   "execution_count": null,
   "metadata": {},
   "outputs": [],
   "source": [
    "# from sys import stdin\n",
    "# _, _, b, *lst= map(int, stdin.read().strip().split())\n",
    "_, _,b, *lst= map(int, input().strip().split())\n",
    "\n",
    "set_lst= sorted(list(set(lst)))\n",
    "cnt= [0, 0, 0, 0]\n",
    "\n",
    "for i in set_lst:\n",
    "    for j in lst:\n",
    "        if i < j:\n",
    "            cnt[0] += (j - i)*2\n",
    "            cnt[1] = i\n",
    "        else:\n",
    "            cnt[2] += (i -j)\n",
    "            cnt[3] = i\n",
    "\n",
    "print(cnt[2], cnt[3]) if min(cnt[0], cnt[2]) == cnt[2] and cnt[2] <= b else print(cnt[0], cnt[1])"
   ]
  },
  {
   "cell_type": "markdown",
   "metadata": {},
   "source": [
    "### 5차 시도 : pypy3만 통과됨..\n",
    "\n",
    "기존에 있던 층을 기준으로 층을 쌓거나 치우려고 했는데 이것은 잘못된 생각임\n",
    "\n",
    "기존에 있던 층이 아니라 새로운 층이 시간이 가장 적게 들 수도 있음\n",
    "\n",
    "그래서 0~256층까지 검사를 해봐야 함 => 브루트 포스 알고리즘이라고 한다.(전체를 검사하는 것)"
   ]
  },
  {
   "cell_type": "code",
   "execution_count": null,
   "metadata": {},
   "outputs": [],
   "source": [
    "from sys import stdin\n",
    "_, _, b, *lst= map(int, stdin.read().strip().split())\n",
    "# _, _,b, *lst= map(int, input().strip().split())\n",
    "\n",
    "is_less= int(1e9) # 작은 시간을 찾기 위한 변수로 어떤 큰값으로 초기화\n",
    "block= 0 # 몇층인가\n",
    "\n",
    "# 최대 0~257층까지 쌓을 수 있다.\n",
    "for i in range(257):\n",
    "    build, remove= 0, 0 # 쌓았을 때(1초), 치웠을 때(2초)\n",
    "    for j in lst:\n",
    "        if i < j: # i보다 값이 크면 치워야 되니까(차이만큼)\n",
    "            remove += j - i\n",
    "        else: # i보다 값이 작으면 쌓아야 되니까(차이만큼)\n",
    "            build += i - j\n",
    "\n",
    "    # 인벤토리에 있는 블록값 + 치운블록이 쌓아야 하는 블록보다 작으면 안되니까\n",
    "    if build > remove + b: \n",
    "        continue\n",
    "    \n",
    "    # 시간을 계산해 준다.\n",
    "    time= remove*2 + build\n",
    "\n",
    "    # 만약 is_less보다 작으면 값을 바꿔준다.\n",
    "    # 현재 블록이 몇층인지도 저장해준다.\n",
    "    if time <= is_less:\n",
    "        is_less= time\n",
    "        block= i\n",
    "\n",
    "print(is_less, block)"
   ]
  },
  {
   "cell_type": "markdown",
   "metadata": {},
   "source": [
    "### 다른 사람 코드 : 모르겠어.. 모르겠어.. 알듯 말듯"
   ]
  },
  {
   "cell_type": "code",
   "execution_count": null,
   "metadata": {},
   "outputs": [],
   "source": [
    "# from sys import stdin\n",
    "# _, _, b, *lst= map(int, stdin.read().strip().split())\n",
    "n,m,b,*lst= map(int, input().strip().split())\n",
    "\n",
    "data= [0]*257\n",
    "# lst의 값을 인덱스로 해서 data 리스트에서 +1을 한다.\n",
    "for i in lst:\n",
    "    data[i] += 1\n",
    "\n",
    "have= sum(lst) # 전체 블록이 몇개 있는지 remove\n",
    "ans= (have*2,0) # 작은 시간을 찾기 위한 변수로 어떤 큰값으로 초기화 (시간, 블록수)\n",
    "need= 0 # build\n",
    "t= data[0]\n",
    "\n",
    "# 모르겠어ㅓㅓㅓㅓㅓㅓㅓㅓ\n",
    "for i in range(1, 257):\n",
    "    need += t\n",
    "    have -= len(lst) - t\n",
    "    t += data[i]\n",
    "    if have + b < need:\n",
    "        break\n",
    "    else:\n",
    "        ans= min((have*2+need,-i), ans)\n",
    "\n",
    "print(ans[0], -ans[1])"
   ]
  }
 ],
 "metadata": {
  "kernelspec": {
   "display_name": "base",
   "language": "python",
   "name": "python3"
  },
  "language_info": {
   "codemirror_mode": {
    "name": "ipython",
    "version": 3
   },
   "file_extension": ".py",
   "mimetype": "text/x-python",
   "name": "python",
   "nbconvert_exporter": "python",
   "pygments_lexer": "ipython3",
   "version": "3.9.16"
  },
  "orig_nbformat": 4
 },
 "nbformat": 4,
 "nbformat_minor": 2
}
