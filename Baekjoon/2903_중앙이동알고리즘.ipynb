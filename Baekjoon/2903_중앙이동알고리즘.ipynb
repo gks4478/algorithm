{
 "cells": [
  {
   "attachments": {},
   "cell_type": "markdown",
   "metadata": {},
   "source": [
    "## 2903 중앙 이동 알고리즘\n",
    "https://www.acmicpc.net/problem/2903\n",
    "\n",
    "<예시>\n",
    "\n",
    "<pre>\n",
    "[입력]\n",
    "1\n",
    "[출력]\n",
    "9\n",
    "\n",
    "[입력]\n",
    "2\n",
    "[출력]\n",
    "25\n",
    "\n",
    "[입력]\n",
    "5\n",
    "[출력]\n",
    "1089\n",
    "</pre>"
   ]
  },
  {
   "cell_type": "code",
   "execution_count": null,
   "metadata": {},
   "outputs": [],
   "source": [
    "from sys import stdin\n",
    "input= stdin.readline\n",
    "\n",
    "n= int(input())\n",
    "num= 3\n",
    "\n",
    "for _ in range(n-1):\n",
    "    num += num-1\n",
    "\n",
    "print(num*num)"
   ]
  }
 ],
 "metadata": {
  "kernelspec": {
   "display_name": "base",
   "language": "python",
   "name": "python3"
  },
  "language_info": {
   "codemirror_mode": {
    "name": "ipython",
    "version": 3
   },
   "file_extension": ".py",
   "mimetype": "text/x-python",
   "name": "python",
   "nbconvert_exporter": "python",
   "pygments_lexer": "ipython3",
   "version": "3.9.16"
  },
  "orig_nbformat": 4
 },
 "nbformat": 4,
 "nbformat_minor": 2
}
