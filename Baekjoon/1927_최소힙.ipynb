{
 "cells": [
  {
   "attachments": {},
   "cell_type": "markdown",
   "metadata": {},
   "source": [
    "## 1927 최소 힙\n",
    "https://www.acmicpc.net/problem/1927\n",
    "\n",
    "- 0이 입력되면 현재까지 입력받았던 값 중에서 가장 작은 값을 출력한다\n",
    "- 0이 입력됐는데 전에 입력받은 값이 없다면 0을 출력한다\n",
    "\n",
    "<예시>\n",
    "\n",
    "<pre>\n",
    "[입력]\n",
    "9\n",
    "0\n",
    "12345678\n",
    "1\n",
    "2\n",
    "0\n",
    "0\n",
    "0\n",
    "0\n",
    "32\n",
    "\n",
    "[출력]\n",
    "0\n",
    "1\n",
    "2\n",
    "12345678\n",
    "0\n",
    "</pre>"
   ]
  },
  {
   "cell_type": "markdown",
   "metadata": {},
   "source": [
    "### 1차 시도 : 시간 초과"
   ]
  },
  {
   "cell_type": "code",
   "execution_count": null,
   "metadata": {},
   "outputs": [],
   "source": [
    "from sys import stdin\n",
    "input= stdin.readline\n",
    "\n",
    "x_list= []\n",
    "n= int(input().rstrip())\n",
    "for _ in range(n):\n",
    "    x= int(input().rstrip())\n",
    "    if x == 0:\n",
    "        try:\n",
    "            print(min(x_list))\n",
    "            x_list.remove(min(x_list))\n",
    "        except:\n",
    "            print(0)\n",
    "    else:\n",
    "        x_list.append(x)"
   ]
  },
  {
   "cell_type": "markdown",
   "metadata": {},
   "source": [
    "### 2차 시도 : 성공"
   ]
  },
  {
   "cell_type": "code",
   "execution_count": null,
   "metadata": {},
   "outputs": [],
   "source": [
    "from heapq import heappush, heappop\n",
    "from sys import stdin\n",
    "input= stdin.readline\n",
    "\n",
    "heap= []\n",
    "n= int(input().rstrip())\n",
    "for _ in range(n):\n",
    "    x= int(input().rstrip())\n",
    "    if x == 0:\n",
    "        try:\n",
    "            print(heappop(heap))\n",
    "        except:\n",
    "            print(0)\n",
    "    else:\n",
    "        heappush(heap, x)"
   ]
  },
  {
   "cell_type": "markdown",
   "metadata": {},
   "source": [
    "### heapq 라이브러리\n",
    "https://www.daleseo.com/python-heapq/#%ED%9E%99%EC%97%90-%EC%9B%90%EC%86%8C-%EC%B6%94%EA%B0%80\n",
    "\n",
    "heapq은 최소힙 자료구조 제공한다"
   ]
  },
  {
   "cell_type": "markdown",
   "metadata": {},
   "source": [
    "#### 1. 힙에 원소 추가"
   ]
  },
  {
   "cell_type": "code",
   "execution_count": 6,
   "metadata": {},
   "outputs": [
    {
     "name": "stdout",
     "output_type": "stream",
     "text": [
      "[0, 123, 1, 24534]\n"
     ]
    }
   ],
   "source": [
    "from heapq import heappush\n",
    "\n",
    "# 1. 빈 리스트 생성\n",
    "heap= []\n",
    "\n",
    "# 2. 추가\n",
    "heappush(heap, 24534)\n",
    "heappush(heap, 1)\n",
    "heappush(heap, 0)\n",
    "heappush(heap, 123)\n",
    "\n",
    "print(heap) # 작은값이 순서대로 정렬 되는 것은 아님"
   ]
  },
  {
   "cell_type": "markdown",
   "metadata": {},
   "source": [
    "#### 2. 힙에서 원소 삭제"
   ]
  },
  {
   "cell_type": "code",
   "execution_count": 7,
   "metadata": {},
   "outputs": [
    {
     "name": "stdout",
     "output_type": "stream",
     "text": [
      "0 | [1, 123, 24534]\n",
      "1 | [123, 24534]\n",
      "123 | [24534]\n",
      "24534 | []\n"
     ]
    }
   ],
   "source": [
    "from heapq import heappop\n",
    "\n",
    "print(heappop(heap), '|' ,heap)\n",
    "print(heappop(heap), '|' ,heap)\n",
    "print(heappop(heap), '|' ,heap)\n",
    "print(heappop(heap), '|' ,heap)"
   ]
  }
 ],
 "metadata": {
  "kernelspec": {
   "display_name": "base",
   "language": "python",
   "name": "python3"
  },
  "language_info": {
   "codemirror_mode": {
    "name": "ipython",
    "version": 3
   },
   "file_extension": ".py",
   "mimetype": "text/x-python",
   "name": "python",
   "nbconvert_exporter": "python",
   "pygments_lexer": "ipython3",
   "version": "3.9.16"
  },
  "orig_nbformat": 4
 },
 "nbformat": 4,
 "nbformat_minor": 2
}
