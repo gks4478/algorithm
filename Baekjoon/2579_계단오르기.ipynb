{
 "cells": [
  {
   "attachments": {},
   "cell_type": "markdown",
   "metadata": {},
   "source": [
    "## 2579 계단 오르기\n",
    "https://www.acmicpc.net/problem/2579\n",
    "\n",
    "규칙\n",
    "- 계단을 한 번에 한 계단 또는 두 계단씩 밟을 수 있다.\n",
    "- 연속으로 세 계단은 밟을 수 없다.\n",
    "- 마지막 계단은 무조건 밟아야 한다.\n",
    "\n",
    "<예시>\n",
    "\n",
    "<pre>\n",
    "[입력]\n",
    "6\n",
    "10\n",
    "20\n",
    "15\n",
    "25\n",
    "10\n",
    "20\n",
    "\n",
    "[출력]\n",
    "75     \n",
    "</pre>"
   ]
  },
  {
   "cell_type": "markdown",
   "metadata": {},
   "source": [
    "### 1차 시도 : 성공"
   ]
  },
  {
   "cell_type": "code",
   "execution_count": 2,
   "metadata": {},
   "outputs": [
    {
     "name": "stdout",
     "output_type": "stream",
     "text": [
      "12\n"
     ]
    }
   ],
   "source": [
    "from sys import stdin\n",
    "input= stdin.read\n",
    "\n",
    "n, *stairs= map(int, input().rstrip().split()) # 값을 받는다.\n",
    "dp= [0]*n # n만큼 dp리스트 생성, 각 계단마다 가장 큰 값이 저장된다.\n",
    "\n",
    "'''\n",
    "    n= 6\n",
    "    stairs= [10, 20, 15, 25, 10, 20]\n",
    "    dp= [0,0,0,0,0,0]\n",
    "'''\n",
    "\n",
    "if n < 3: # 계단이 2개 이하라면 그냥 더하고 끝낸다.\n",
    "    print(sum(stairs))\n",
    "else: # 계단 3개 이상이라면\n",
    "    dp[0]= stairs[0]\n",
    "    dp[1]= stairs[0] + stairs[1]\n",
    "    '''\n",
    "        dp= [10, 30, 0, 0, 0, 0]\n",
    "    '''\n",
    "    for i in range(2, n):\n",
    "        dp[i]= max(dp[i-3]+stairs[i-1]+stairs[i], dp[i-2]+stairs[i])\n",
    "        '''\n",
    "            i = 2\n",
    "            dp[2] = max(dp[-1]+stairs[1]+stairs[2], dp[0]+stairs[2])\n",
    "            dp = [10, 30, 35, 0, 0, 0]\n",
    "\n",
    "            i = 3\n",
    "            dp[3] = max(dp[0]+stairs[2]+stairs[3], dp[1]+stairs[3])\n",
    "            dp = [10, 30, 35, 55, 0, 0]\n",
    "\n",
    "            i = 4\n",
    "            dp[4] = max(dp[1]+staris[3]+staris[4], dp[2]+staris[4])\n",
    "            dp = [10, 30, 35, 65, 0]\n",
    "\n",
    "            i = 5\n",
    "            dp[5] = max(dp[2]+staris[4]+stairs[5], dp[3]+stairs[5])\n",
    "            dp = [10, 30, 35, 65, 75]\n",
    "        '''\n",
    "\n",
    "    print(dp[-1]) # 출력"
   ]
  }
 ],
 "metadata": {
  "kernelspec": {
   "display_name": "base",
   "language": "python",
   "name": "python3"
  },
  "language_info": {
   "codemirror_mode": {
    "name": "ipython",
    "version": 3
   },
   "file_extension": ".py",
   "mimetype": "text/x-python",
   "name": "python",
   "nbconvert_exporter": "python",
   "pygments_lexer": "ipython3",
   "version": "3.9.16"
  },
  "orig_nbformat": 4
 },
 "nbformat": 4,
 "nbformat_minor": 2
}
