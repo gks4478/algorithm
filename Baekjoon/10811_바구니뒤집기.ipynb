{
 "cells": [
  {
   "attachments": {},
   "cell_type": "markdown",
   "metadata": {},
   "source": [
    "## 10811 바구니 뒤집기\n",
    "https://www.acmicpc.net/problem/10811\n",
    "\n",
    "- 바구니 n개가 있고 1~n까지의 번호가 붙어있다\n",
    "- m번동안 해당 바구니를 범위 내에서 바구니의 순서를 역순으로 바꿀것이다\n",
    "\n",
    "<예시>\n",
    "\n",
    "<pre>\n",
    "[입력]\n",
    "5 4\n",
    "1 2\n",
    "3 4\n",
    "1 4\n",
    "2 2\n",
    "[출력]\n",
    "3 4 1 2 5\n",
    "     \n",
    "</pre>"
   ]
  },
  {
   "cell_type": "code",
   "execution_count": null,
   "metadata": {},
   "outputs": [],
   "source": [
    "from sys import stdin\n",
    "input= stdin.readline\n",
    "\n",
    "n, m = map(int, input().split())\n",
    "n_bucket= [i+1 for i in range(n)]\n",
    "\n",
    "for _ in range(m):\n",
    "    i, j = map(int, input().split())\n",
    "    n_bucket[i-1:j]= list(reversed(n_bucket[i-1:j]))\n",
    "print(*n_bucket)"
   ]
  }
 ],
 "metadata": {
  "kernelspec": {
   "display_name": "base",
   "language": "python",
   "name": "python3"
  },
  "language_info": {
   "codemirror_mode": {
    "name": "ipython",
    "version": 3
   },
   "file_extension": ".py",
   "mimetype": "text/x-python",
   "name": "python",
   "nbconvert_exporter": "python",
   "pygments_lexer": "ipython3",
   "version": "3.9.16"
  },
  "orig_nbformat": 4
 },
 "nbformat": 4,
 "nbformat_minor": 2
}
