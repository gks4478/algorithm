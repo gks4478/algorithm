{
 "cells": [
  {
   "attachments": {},
   "cell_type": "markdown",
   "metadata": {},
   "source": [
    "## 17626\n",
    "https://www.acmicpc.net/problem/17626\n",
    "\n",
    "<예시>\n",
    "\n",
    "<pre>\n",
    "[입력] \n",
    "25\n",
    "[출력]\n",
    "1\n",
    "\n",
    "[입력] \n",
    "26\n",
    "[출력]\n",
    "2\n",
    "\n",
    "[입력] \n",
    "11339\n",
    "[출력]\n",
    "3\n",
    "\n",
    "[입력] \n",
    "34567\n",
    "[출력]\n",
    "4\n",
    "\n",
    "\n",
    "</pre>"
   ]
  },
  {
   "cell_type": "markdown",
   "metadata": {},
   "source": [
    "### 1차 시도 : pypy3 성공\n",
    "모르겠다.. 이번건 정말 모르겠다.."
   ]
  },
  {
   "cell_type": "code",
   "execution_count": null,
   "metadata": {},
   "outputs": [],
   "source": [
    "import math\n",
    "from sys import stdin\n",
    "input= stdin.readline\n",
    "\n",
    "n= int(input().rstrip())\n",
    "dp= [0, 1]\n",
    "\n",
    "for i in range(2, n+1):\n",
    "    value= 1e9\n",
    "    for j in range(1, int(math.sqrt(i))+1):\n",
    "        value= min(value, dp[i-j**2])\n",
    "    dp.append(value+1)\n",
    "    \n",
    "print(dp[n])"
   ]
  },
  {
   "cell_type": "markdown",
   "metadata": {},
   "source": [
    "### 다른 사람 코드\n",
    "값이 1,2,3,4로 고정되어 있다는 걸 알고 있어야 하나보다"
   ]
  },
  {
   "cell_type": "code",
   "execution_count": 89,
   "metadata": {},
   "outputs": [
    {
     "name": "stdout",
     "output_type": "stream",
     "text": [
      "3\n"
     ]
    }
   ],
   "source": [
    "import math\n",
    "\n",
    "def check(n):\n",
    "    sq= set([i*i for i in range(int(math.sqrt(n))+1)])\n",
    "    '''\n",
    "        sq = [0, 1, 4, 9, 16, 25, ...]\n",
    "    '''\n",
    "\n",
    "    if n in sq:\n",
    "        return 1\n",
    "        '''\n",
    "            4, 9, 16 처럼 제곱이 되는 n은 1이 된다\n",
    "        '''\n",
    "    \n",
    "    for s in sq:\n",
    "        if n-s in sq:\n",
    "            return 2\n",
    "            '''\n",
    "                2, 5, 8 처럼 n을 sq의 값으로 뺐을 때 sq에 있다면 2가 된다\n",
    "            '''\n",
    "    \n",
    "    while n%4 == 0:\n",
    "        n //= 4\n",
    "        '''\n",
    "            12, 24 처럼 n이 4의 배수라면 n을 4로 나눈다\n",
    "        '''\n",
    "    \n",
    "    if n % 8 == 7:\n",
    "        return 4\n",
    "        '''\n",
    "            n을 8로 나눴을 때 나머지가 7이라면 4가 된다\n",
    "        '''\n",
    "\n",
    "    return 3\n",
    "    '''\n",
    "        나머지는 전부 3\n",
    "    '''\n",
    "\n",
    "print(check(int(input())))"
   ]
  }
 ],
 "metadata": {
  "kernelspec": {
   "display_name": "base",
   "language": "python",
   "name": "python3"
  },
  "language_info": {
   "codemirror_mode": {
    "name": "ipython",
    "version": 3
   },
   "file_extension": ".py",
   "mimetype": "text/x-python",
   "name": "python",
   "nbconvert_exporter": "python",
   "pygments_lexer": "ipython3",
   "version": "3.9.16"
  },
  "orig_nbformat": 4
 },
 "nbformat": 4,
 "nbformat_minor": 2
}
