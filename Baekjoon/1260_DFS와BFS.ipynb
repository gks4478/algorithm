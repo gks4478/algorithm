{
 "cells": [
  {
   "attachments": {},
   "cell_type": "markdown",
   "metadata": {},
   "source": [
    "## 1260 DFS와 BFS\n",
    "https://www.acmicpc.net/problem/1260\n",
    "\n",
    "[입력] n, m, v = 정점의 개수, 간선의 개수, 탐색 시작할 정점의 번호\n",
    "\n",
    "[출력] 출력의 첫째줄에는 DFS 값을 두번째줄에는 BFS 값을 출력하라\n",
    "\n",
    "<예시>\n",
    "\n",
    "<pre>\n",
    "[입력]               [출력]\n",
    "                |\n",
    "4 5 1             \n",
    "1 2             |\n",
    "1 3             |\n",
    "1 4             |\n",
    "2 4             |    1 2 4 3\n",
    "3 4             |    1 2 3 4\n",
    "\n",
    "                |\n",
    "5 5 3           |\n",
    "5 4             |\n",
    "5 2             |\n",
    "1 2             |\n",
    "3 4             |    3 1 2 5 4\n",
    "3 1             |    3 1 4 2 5\n",
    "\n",
    "1000 1 1000     |    1000 999\n",
    "999 1000        |    1000 999\n",
    "</pre>"
   ]
  },
  {
   "cell_type": "markdown",
   "metadata": {},
   "source": [
    "### 2차 시도 : 성공\n",
    "\n",
    "출력형식이 리스트가 아닌 문자열 형식임"
   ]
  },
  {
   "cell_type": "markdown",
   "metadata": {},
   "source": [
    "#### 1. DFS, BFS 함수\n",
    "\n",
    "이거 설명은 따로 작성해둔거 있음"
   ]
  },
  {
   "cell_type": "code",
   "execution_count": 8,
   "metadata": {},
   "outputs": [],
   "source": [
    "# DFS 방식\n",
    "def dfs_recursive(graph, start_node, visited= []):\n",
    "    visited.append(start_node)\n",
    "\n",
    "    for node in graph[start_node]:\n",
    "        if node not in visited:\n",
    "            dfs_recursive(graph, node, visited)\n",
    "    \n",
    "    return visited\n",
    "\n",
    "# BFS 방식\n",
    "from collections import deque\n",
    "def bfs_queue(graph, start_node):\n",
    "    visited= []\n",
    "    queue= deque()\n",
    "    queue.append(start_node)\n",
    "\n",
    "    while queue:\n",
    "        node= queue.popleft()\n",
    "        if node not in visited:\n",
    "            visited.append(node)\n",
    "            queue.extend(graph[node])\n",
    "\n",
    "    return visited"
   ]
  },
  {
   "cell_type": "markdown",
   "metadata": {},
   "source": [
    "#### 2. 입력값을 받는 방식\n",
    "\n",
    "<pre>\n",
    "<전>\n",
    "\n",
    "5 5 3\n",
    "5 4\n",
    "5 2\n",
    "1 2\n",
    "3 4\n",
    "3 1\n",
    "\n",
    "<후>\n",
    "\n",
    "graph = {\n",
    "    1 : [2, 3],\n",
    "    2 : [1, 5],\n",
    "    3 : [1, 4],\n",
    "    4 : [3, 5],\n",
    "    5 : [2, 4]\n",
    "}\n",
    "</pre>"
   ]
  },
  {
   "cell_type": "code",
   "execution_count": 2,
   "metadata": {},
   "outputs": [],
   "source": [
    "# from sys import stdin\n",
    "# input= stdin.read\n",
    "\n",
    "n, m, v, *lst= map(int, input().strip().split())\n",
    "graph= {i+1: [] for i in range(n)} # 우선 n개 딕셔너리 생성\n",
    "\n",
    "# 입력값의 왼쪽, 오른쪽 값을 각 인덱스의 각 딕셔너리에 추가해 줘야 함\n",
    "for i in range(0, len(lst), 2):\n",
    "    graph[lst[i]].append(lst[i+1])\n",
    "    graph[lst[i+1]].append(lst[i])\n",
    "\n",
    "# value 오름차순으로 정렬\n",
    "for i in range(1, len(graph)+1):\n",
    "    graph[i]= sorted(graph[i])"
   ]
  },
  {
   "cell_type": "markdown",
   "metadata": {},
   "source": [
    "#### 3. 출력형식 맞춰주기"
   ]
  },
  {
   "cell_type": "code",
   "execution_count": null,
   "metadata": {},
   "outputs": [],
   "source": [
    "# 리스트 형식을 공백으로 구분되는 문자열로 출력하기\n",
    "print(' '.join(map(str, dfs_recursive(graph, v))))\n",
    "print(' '.join(map(str, bfs_queue(graph, v))))"
   ]
  },
  {
   "cell_type": "markdown",
   "metadata": {},
   "source": [
    "#### 그래 계속 찾던게 이거였어\n",
    "분명 정수 리스트를 쉽게 문자열로 바꿀 수 있는 방법이 있었는데 이거였어"
   ]
  },
  {
   "cell_type": "code",
   "execution_count": 11,
   "metadata": {},
   "outputs": [
    {
     "name": "stdout",
     "output_type": "stream",
     "text": [
      "1 2 3\n"
     ]
    }
   ],
   "source": [
    "a= [1,2,3]\n",
    "print(*a)"
   ]
  }
 ],
 "metadata": {
  "kernelspec": {
   "display_name": "base",
   "language": "python",
   "name": "python3"
  },
  "language_info": {
   "codemirror_mode": {
    "name": "ipython",
    "version": 3
   },
   "file_extension": ".py",
   "mimetype": "text/x-python",
   "name": "python",
   "nbconvert_exporter": "python",
   "pygments_lexer": "ipython3",
   "version": "3.9.16"
  },
  "orig_nbformat": 4
 },
 "nbformat": 4,
 "nbformat_minor": 2
}
