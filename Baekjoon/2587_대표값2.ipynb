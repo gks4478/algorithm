{
 "cells": [
  {
   "attachments": {},
   "cell_type": "markdown",
   "metadata": {},
   "source": [
    "## 2587 대표값2\n",
    "https://www.acmicpc.net/problem/2587\n",
    "\n",
    "- 다섯개의 자연수가 주어질 때 평균과 중앙값을 구하라\n",
    "- 첫째줄에 평균, 둘째줄에 중앙값을 출력한다\n",
    "\n",
    "<예시>\n",
    "\n",
    "<pre>\n",
    "[입력]\n",
    "10\n",
    "40\n",
    "30\n",
    "60\n",
    "30\n",
    "[출력]\n",
    "34\n",
    "30\n",
    "</pre>"
   ]
  },
  {
   "cell_type": "markdown",
   "metadata": {},
   "source": [
    "## 방법1. sort"
   ]
  },
  {
   "cell_type": "code",
   "execution_count": null,
   "metadata": {},
   "outputs": [],
   "source": [
    "value= sorted([int(input()) for _ in range(5)])\n",
    "\n",
    "print(sum(value)//5)\n",
    "print(value[2])"
   ]
  },
  {
   "cell_type": "code",
   "execution_count": null,
   "metadata": {},
   "outputs": [],
   "source": [
    "'''\n",
    "import java.util.Arrays;\n",
    "import java.util.Scanner;\n",
    "import java.util.stream.IntStream;\n",
    "\n",
    "public class Main {\n",
    "    public static void main(String[] args) {\n",
    "        Scanner sc= new Scanner(System.in);\n",
    "\n",
    "        int[] value= new int[5];\n",
    "        for (int i=0; i<5; i++){\n",
    "            value[i]= sc.nextInt();\n",
    "        }\n",
    "\n",
    "        Arrays.sort(value);\n",
    "\n",
    "        System.out.println(IntStream.of(value).sum()/5);\n",
    "        System.out.println(value[2]);\n",
    "    }\n",
    "}\n",
    "'''"
   ]
  },
  {
   "cell_type": "markdown",
   "metadata": {},
   "source": [
    "## 방법2. 버블 정렬"
   ]
  },
  {
   "cell_type": "code",
   "execution_count": null,
   "metadata": {},
   "outputs": [],
   "source": [
    "value= [int(input()) for _ in range(5)]\n",
    "\n",
    "for i in range(1, 5):\n",
    "    for j in range(5-i):\n",
    "        a= value[j]\n",
    "        if a>value[j+1]:\n",
    "            value[j]= value[j+1]\n",
    "            value[j+1]= a\n",
    "\n",
    "print(sum(value)//5)\n",
    "print(value[2])"
   ]
  },
  {
   "cell_type": "code",
   "execution_count": null,
   "metadata": {},
   "outputs": [],
   "source": [
    "'''\n",
    "import java.util.Scanner;\n",
    "import java.util.stream.IntStream;\n",
    "\n",
    "public class Main {\n",
    "    public static void main(String[] args) {\n",
    "        Scanner sc= new Scanner(System.in);\n",
    "\n",
    "        int[] value= new int[5];\n",
    "        for (int i=0; i<5; i++){\n",
    "            value[i]= sc.nextInt();\n",
    "        }\n",
    "\n",
    "        for (int i=1; i<5; i++){\n",
    "            for (int j=0; j<5-i; j++){\n",
    "                int a= value[j];\n",
    "                if (a>value[j+1]){\n",
    "                    value[j]= value[j+1];\n",
    "                    value[j+1]= a;\n",
    "                }\n",
    "            }\n",
    "        }\n",
    "\n",
    "        System.out.println(IntStream.of(value).sum()/5);\n",
    "        System.out.println(value[2]);\n",
    "    }\n",
    "}\n",
    "'''"
   ]
  }
 ],
 "metadata": {
  "kernelspec": {
   "display_name": "base",
   "language": "python",
   "name": "python3"
  },
  "language_info": {
   "codemirror_mode": {
    "name": "ipython",
    "version": 3
   },
   "file_extension": ".py",
   "mimetype": "text/x-python",
   "name": "python",
   "nbconvert_exporter": "python",
   "pygments_lexer": "ipython3",
   "version": "3.9.16"
  },
  "orig_nbformat": 4
 },
 "nbformat": 4,
 "nbformat_minor": 2
}
