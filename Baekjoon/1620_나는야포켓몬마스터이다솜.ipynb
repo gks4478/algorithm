{
 "cells": [
  {
   "attachments": {},
   "cell_type": "markdown",
   "metadata": {},
   "source": [
    "## 1620 나는야 포켓몬 마스터 이다솜\n",
    "https://www.acmicpc.net/problem/1620\n",
    "\n",
    "문제가 재밌다ㅋㅋ\n",
    "\n",
    "<예시>\n",
    "\n",
    "<pre>\n",
    "[입력]             \n",
    "    \n",
    "26 5\n",
    "Bulbasaur\n",
    "Ivysaur\n",
    "Venusaur\n",
    "Charmander\n",
    "Charmeleon\n",
    "Charizard\n",
    "Squirtle\n",
    "Wartortle\n",
    "Blastoise\n",
    "Caterpie\n",
    "Metapod\n",
    "Butterfree\n",
    "Weedle\n",
    "Kakuna\n",
    "Beedrill\n",
    "Pidgey\n",
    "Pidgeotto\n",
    "Pidgeot\n",
    "Rattata\n",
    "Raticate\n",
    "Spearow\n",
    "Fearow\n",
    "Ekans\n",
    "Arbok\n",
    "Pikachu\n",
    "Raichu\n",
    "25\n",
    "Raichu\n",
    "3\n",
    "Pidgey\n",
    "Kakuna\n",
    "\n",
    "[출력]\n",
    "\n",
    "Pikachu\n",
    "26\n",
    "Venusaur\n",
    "16\n",
    "14\n",
    "     \n",
    "</pre>"
   ]
  },
  {
   "cell_type": "markdown",
   "metadata": {},
   "source": [
    "### 1차 시도 : 시간 초과\n",
    "리스트.index()는 O(n)이다."
   ]
  },
  {
   "cell_type": "code",
   "execution_count": null,
   "metadata": {},
   "outputs": [],
   "source": [
    "# from sys import stdin\n",
    "# input= stdin.read\n",
    "\n",
    "m, n, *monster= map(str, input().rstrip().split())\n",
    "book= monster[:int(m)]\n",
    "book2= {str(i+1): book[i] for i in range(len(book))}\n",
    "solve= monster[int(m):]\n",
    "\n",
    "for i in solve:\n",
    "    try:\n",
    "        print(book2[i])\n",
    "    except:\n",
    "        print(book.index(i)+1) # 이렇게 하면 시간초과 딕셔너리로 검색해야 한다."
   ]
  },
  {
   "cell_type": "markdown",
   "metadata": {},
   "source": [
    "### 2차 시도 : 성공"
   ]
  },
  {
   "cell_type": "code",
   "execution_count": null,
   "metadata": {},
   "outputs": [],
   "source": [
    "# from sys import stdin\n",
    "# input= stdin.read\n",
    "\n",
    "m, n, *monster= map(str, input().rstrip().split()) # 입력값 전체를 받아서\n",
    "value= monster[:int(m)] # m까지는 도감으로 저장\n",
    "solve= monster[int(m):] # m부터 마지막까지는 풀어야하는 문제로 저장\n",
    "\n",
    "book= {str(i+1): value[i] for i in range(len(value))} # 번호 : 포켓몬 이름\n",
    "book2= {value[i]: str(i+1) for i in range(len(value))} # 포켓몬 이름 : 번호 로 해서 딕셔너리로 출력할 수 있다. \n",
    "\n",
    "for s in solve:\n",
    "    try:\n",
    "        print(book[s])\n",
    "    except:\n",
    "        print(book2[s])"
   ]
  }
 ],
 "metadata": {
  "kernelspec": {
   "display_name": "base",
   "language": "python",
   "name": "python3"
  },
  "language_info": {
   "codemirror_mode": {
    "name": "ipython",
    "version": 3
   },
   "file_extension": ".py",
   "mimetype": "text/x-python",
   "name": "python",
   "nbconvert_exporter": "python",
   "pygments_lexer": "ipython3",
   "version": "3.9.16"
  },
  "orig_nbformat": 4
 },
 "nbformat": 4,
 "nbformat_minor": 2
}
