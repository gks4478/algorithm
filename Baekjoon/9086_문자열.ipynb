{
 "cells": [
  {
   "attachments": {},
   "cell_type": "markdown",
   "metadata": {},
   "source": [
    "## 9086 문자열\n",
    "https://www.acmicpc.net/problem/9086\n",
    "\n",
    "문자열의 첫글자와 마지막 글자를 출력하라\n",
    "\n",
    "<예시>\n",
    "\n",
    "<pre>\n",
    "[입력]\n",
    "3\n",
    "ACDKJFOWIEGHE\n",
    "O\n",
    "AB\n",
    "[출력]\n",
    "AE\n",
    "OO\n",
    "AB\n",
    "     \n",
    "</pre>"
   ]
  },
  {
   "cell_type": "code",
   "execution_count": 3,
   "metadata": {},
   "outputs": [
    {
     "name": "stdout",
     "output_type": "stream",
     "text": [
      "AE\n",
      "OO\n",
      "AB\n"
     ]
    }
   ],
   "source": [
    "from sys import stdin\n",
    "input= stdin.readline\n",
    "\n",
    "n= int(input())\n",
    "for _ in range(n):\n",
    "    input_str= input().rstrip()\n",
    "    print(input_str[0]+input_str[-1])"
   ]
  }
 ],
 "metadata": {
  "kernelspec": {
   "display_name": "base",
   "language": "python",
   "name": "python3"
  },
  "language_info": {
   "codemirror_mode": {
    "name": "ipython",
    "version": 3
   },
   "file_extension": ".py",
   "mimetype": "text/x-python",
   "name": "python",
   "nbconvert_exporter": "python",
   "pygments_lexer": "ipython3",
   "version": "3.9.16"
  },
  "orig_nbformat": 4
 },
 "nbformat": 4,
 "nbformat_minor": 2
}
