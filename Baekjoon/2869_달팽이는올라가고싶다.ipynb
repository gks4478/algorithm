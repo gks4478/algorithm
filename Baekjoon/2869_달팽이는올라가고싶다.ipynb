{
 "cells": [
  {
   "attachments": {},
   "cell_type": "markdown",
   "metadata": {},
   "source": [
    "## 2869 달팽이는 올라가고 싶다\n",
    "https://www.acmicpc.net/problem/2869\n",
    "\n",
    "- v 높이의 나무 막대가 있다.\n",
    "- 달팽이는 낮에 a만큼 올라갈 수 있다.\n",
    "- 하지만 밤에 자는 동안 b만큼 미끄러진다.(정상에 올라간 후에는 미끄러지지 않는다.)\n",
    "- 달팽이가 나무 막대에 모두 올라가려면 며칠이 걸리는가\n",
    "\n",
    "<예시></br>\n",
    "<pre>\n",
    "    [입력]               [출력]\n",
    "\n",
    "    2 1 5          |       4\n",
    "    5 1 6          |       2\n",
    "100 99 1000000000  |       999999901\n",
    "</pre>"
   ]
  },
  {
   "attachments": {},
   "cell_type": "markdown",
   "metadata": {},
   "source": [
    "### 도저히 모르겠어서 검색 찬스..\n",
    "\n",
    "a = 올라감\n",
    "b = 미끄러짐\n",
    "v = 막대 길이\n",
    "\n",
    "하루에 (a - b) 만큼 (v) 높이를 올라간다.\n",
    "\n",
    "하지만 목표지점에 도달한 날에는 미끄러지는 거는 생각하면 안된다.\n",
    "\n",
    "그래서 (a - b) 만큼 (v - b) 높이를 올라가는 것이다.\n",
    "\n",
    "(총 올라가야하는 높이 / 올라갈 수 있는 길이)을 하면된다.\n",
    "\n",
    "소수점이 나오면 올림을 한다."
   ]
  },
  {
   "cell_type": "code",
   "execution_count": null,
   "metadata": {},
   "outputs": [],
   "source": [
    "from sys import stdin\n",
    "from math import ceil\n",
    "input= stdin.readline\n",
    "\n",
    "a,b,v= map(int, input().split())\n",
    "\n",
    "print(ceil((v-b)/(a-b)))"
   ]
  }
 ],
 "metadata": {
  "kernelspec": {
   "display_name": "base",
   "language": "python",
   "name": "python3"
  },
  "language_info": {
   "codemirror_mode": {
    "name": "ipython",
    "version": 3
   },
   "file_extension": ".py",
   "mimetype": "text/x-python",
   "name": "python",
   "nbconvert_exporter": "python",
   "pygments_lexer": "ipython3",
   "version": "3.9.16"
  },
  "orig_nbformat": 4
 },
 "nbformat": 4,
 "nbformat_minor": 2
}
