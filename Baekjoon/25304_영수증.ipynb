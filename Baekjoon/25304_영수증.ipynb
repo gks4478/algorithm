{
 "cells": [
  {
   "attachments": {},
   "cell_type": "markdown",
   "metadata": {},
   "source": [
    "## 25304 영수증\n",
    "https://www.acmicpc.net/problem/25304\n",
    "\n",
    "<예시>\n",
    "\n",
    "<pre>\n",
    "[입력]\n",
    "260000\n",
    "4\n",
    "20000 5\n",
    "30000 2\n",
    "10000 6\n",
    "5000 8\n",
    "[출력]\n",
    "Yes\n",
    "\n",
    "[입력]\n",
    "250000\n",
    "4\n",
    "20000 5\n",
    "30000 2\n",
    "10000 6\n",
    "5000 8\n",
    "[출력]\n",
    "No\n",
    "</pre>"
   ]
  },
  {
   "cell_type": "code",
   "execution_count": 7,
   "metadata": {},
   "outputs": [],
   "source": [
    "total= int(input())\n",
    "value= 0\n",
    "\n",
    "for i in range(int(input())):\n",
    "    money, cnt = map(int, input().split())\n",
    "    value += money*cnt\n",
    "\n",
    "if value == total:\n",
    "    print('Yes')    \n",
    "else:\n",
    "    print('No')"
   ]
  }
 ],
 "metadata": {
  "kernelspec": {
   "display_name": "base",
   "language": "python",
   "name": "python3"
  },
  "language_info": {
   "codemirror_mode": {
    "name": "ipython",
    "version": 3
   },
   "file_extension": ".py",
   "mimetype": "text/x-python",
   "name": "python",
   "nbconvert_exporter": "python",
   "pygments_lexer": "ipython3",
   "version": "3.9.16"
  },
  "orig_nbformat": 4
 },
 "nbformat": 4,
 "nbformat_minor": 2
}
