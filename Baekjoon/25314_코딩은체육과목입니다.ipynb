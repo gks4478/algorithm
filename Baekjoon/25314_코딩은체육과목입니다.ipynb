{
 "cells": [
  {
   "attachments": {},
   "cell_type": "markdown",
   "metadata": {},
   "source": [
    "## 25314 코딩은 체육과목 입니다.\n",
    "https://www.acmicpc.net/problem/25314\n",
    "\n",
    "- long int : 4 바이트\n",
    "- long long int : 8 바이트\n",
    "- long long long int : 12 바이트\n",
    "- long long long long int : 16 바이트\n",
    "\n",
    "<예시>\n",
    "\n",
    "<pre>\n",
    "[입력]\n",
    "4\n",
    "[출력]\n",
    "long int\n",
    "\n",
    "[입력]\n",
    "20\n",
    "[출력]\n",
    "long long long long long int\n",
    "     \n",
    "</pre>"
   ]
  },
  {
   "cell_type": "code",
   "execution_count": 13,
   "metadata": {},
   "outputs": [],
   "source": [
    "n= int(input())\n",
    "answer= 'long ' * (n//4)\n",
    "print(answer + 'int')"
   ]
  }
 ],
 "metadata": {
  "kernelspec": {
   "display_name": "base",
   "language": "python",
   "name": "python3"
  },
  "language_info": {
   "codemirror_mode": {
    "name": "ipython",
    "version": 3
   },
   "file_extension": ".py",
   "mimetype": "text/x-python",
   "name": "python",
   "nbconvert_exporter": "python",
   "pygments_lexer": "ipython3",
   "version": "3.9.16"
  },
  "orig_nbformat": 4
 },
 "nbformat": 4,
 "nbformat_minor": 2
}
