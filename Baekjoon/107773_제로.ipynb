{
 "cells": [
  {
   "attachments": {},
   "cell_type": "markdown",
   "metadata": {},
   "source": [
    "## 107773 제로\n",
    "https://www.acmicpc.net/problem/10773\n",
    "\n",
    "0이 아닌 숫자는 쌓다가 0이면 최근에 쌓았던 숫자는 뺀다. 출력값은 남아있는 값을 더한다.\n",
    "\n",
    "<예시>\n",
    "\n",
    "<pre>\n",
    "    [입력]              [출력]\n",
    "    \n",
    "      4         |        \n",
    "      3         |        \n",
    "      0         |        \n",
    "      4         |        \n",
    "      0         |         0\n",
    "\n",
    "      10        |        \n",
    "      1         |        \n",
    "      3         |        \n",
    "      5         |        \n",
    "      4         |         \n",
    "      0         |        \n",
    "      0         |        \n",
    "      7         |        \n",
    "      0         |        \n",
    "      0         |         \n",
    "      6         |         7\n",
    "      \n",
    "     \n",
    "</pre>"
   ]
  },
  {
   "cell_type": "code",
   "execution_count": 5,
   "metadata": {},
   "outputs": [
    {
     "name": "stdout",
     "output_type": "stream",
     "text": [
      "7\n"
     ]
    }
   ],
   "source": [
    "stack= []\n",
    "for _ in range(int(input())):\n",
    "    k= int(input())\n",
    "    if k != 0:\n",
    "        stack.append(k)\n",
    "    else:\n",
    "        stack.pop()\n",
    "\n",
    "print(sum(stack))\n"
   ]
  }
 ],
 "metadata": {
  "kernelspec": {
   "display_name": "base",
   "language": "python",
   "name": "python3"
  },
  "language_info": {
   "codemirror_mode": {
    "name": "ipython",
    "version": 3
   },
   "file_extension": ".py",
   "mimetype": "text/x-python",
   "name": "python",
   "nbconvert_exporter": "python",
   "pygments_lexer": "ipython3",
   "version": "3.9.16"
  },
  "orig_nbformat": 4
 },
 "nbformat": 4,
 "nbformat_minor": 2
}
