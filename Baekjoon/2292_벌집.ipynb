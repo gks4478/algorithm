{
 "cells": [
  {
   "attachments": {},
   "cell_type": "markdown",
   "metadata": {},
   "source": [
    "## 2292 벌집\n",
    "https://www.acmicpc.net/problem/2292</br>\n",
    "\n",
    "<예시></br>\n",
    "<pre>\n",
    "   [입력]           [출력]</br>\n",
    "     13        |      3\n",
    "</pre>"
   ]
  },
  {
   "attachments": {},
   "cell_type": "markdown",
   "metadata": {},
   "source": [
    "### 1차 시도: 메모리 초과 : 리스트에 필요없는 값을 가지고 있었음"
   ]
  },
  {
   "cell_type": "code",
   "execution_count": null,
   "metadata": {},
   "outputs": [],
   "source": [
    "from sys import stdin\n",
    "input= stdin.readline\n",
    "n= int(input())\n",
    "\n",
    "i= 0\n",
    "stack= [1]\n",
    "\n",
    "while True:\n",
    "    if stack[i-1] < n and stack[-1] >= n:\n",
    "        print(len(stack))\n",
    "        break\n",
    "    else:\n",
    "        i += 1\n",
    "        stack.append(stack[-1] + 6*i)"
   ]
  },
  {
   "attachments": {},
   "cell_type": "markdown",
   "metadata": {},
   "source": [
    "### 2차 시도: 시간초과 : 1을 넣었을 때 무한 반복으로 돌아감"
   ]
  },
  {
   "cell_type": "code",
   "execution_count": null,
   "metadata": {},
   "outputs": [],
   "source": [
    "from sys import stdin\n",
    "input= stdin.readline\n",
    "n= int(input())\n",
    "\n",
    "i= 0\n",
    "stack= [1]\n",
    "\n",
    "while True:\n",
    "    if stack[0] < n and stack[-1] >= n:\n",
    "        print(i+1)\n",
    "        break\n",
    "    else:\n",
    "        i += 1\n",
    "        stack.append(stack[-1] + 6*i)\n",
    "        if len(stack) > 2:\n",
    "            stack.pop(0) # 메모리 초과로 리스트 개수가 3개 되면 가장 앞에 있는 값 삭제"
   ]
  },
  {
   "attachments": {},
   "cell_type": "markdown",
   "metadata": {},
   "source": [
    "### 3차 시도 : 성공 : 1을 넣었을 때 무한반복 예방을 위해 조건문 추가\n",
    "\n",
    "- 1층 : 1개  : 1\n",
    "- 2층 : 6개  : 2 3 4 5 6 7\n",
    "- 3층 : 12개 : 8 9 10 11 12 13 14 15 16 17 18 19\n",
    "- 4층 : 18개 : 20 21 22 23 24 25 26 27 28 29 30 31 32 33 34 35 36 37\n",
    "- 5층 : 24개 : 38 39 40 41 42 43 44 45 46 47 48 49 50 51 52 53 54 55 56 57 58 59 60 61\n",
    "\n",
    "각 층마다 6개씩 늘어난다는 규칙이 있음</br>\n",
    "\n",
    "각 층의 마지막 값의 마지막 값을 이용한다.</br>\n",
    "\n",
    "<예></br>\n",
    "문제 : 13이 몇 층인지 확인하라</br>\n",
    "답   : 3층\n",
    "\n",
    "[1, 7, 19] 까지 리스트에 저장을 하는데 가장 앞의 값은 이미 비교가 끝났으니까 삭제한다.</br>\n",
    "\n",
    "그러면 [7, 19]가 되는데 13은 7~13의 범위 안에 있다. 이런식으로 풀이를 하였음 </br>"
   ]
  },
  {
   "cell_type": "code",
   "execution_count": null,
   "metadata": {},
   "outputs": [],
   "source": [
    "from sys import stdin\n",
    "input= stdin.readline\n",
    "n= int(input())\n",
    "\n",
    "i= 0 # 몇층인지 확인하기 위한 용도\n",
    "stack= [1]\n",
    "\n",
    "while True:\n",
    "    # 1은 자기자신으로 계속 비교가 되기 때문에 무한반복 되기 때문에\n",
    "    # 따로 조건문을 걸었다.\n",
    "    if n == 1:\n",
    "        print(i+1)\n",
    "        break \n",
    "    \n",
    "    # stack에는 두개 값만 저장이 되어 있는데(처음 제외)\n",
    "    # 이 둘 안에 값이 포함 된다면 반복문을 나간다.\n",
    "    elif stack[0] < n and stack[-1] >= n:\n",
    "        print(i+1)\n",
    "        break\n",
    "\n",
    "    # 범위를 초과하면 새로운 값을 추가하고\n",
    "    # stack의 가장 앞의 값은 삭제한다.\n",
    "    else:\n",
    "        i += 1\n",
    "        stack.append(stack[-1] + 6*i)\n",
    "        if len(stack) > 2:\n",
    "            stack.pop(0)\n"
   ]
  }
 ],
 "metadata": {
  "kernelspec": {
   "display_name": "base",
   "language": "python",
   "name": "python3"
  },
  "language_info": {
   "codemirror_mode": {
    "name": "ipython",
    "version": 3
   },
   "file_extension": ".py",
   "mimetype": "text/x-python",
   "name": "python",
   "nbconvert_exporter": "python",
   "pygments_lexer": "ipython3",
   "version": "3.9.16"
  },
  "orig_nbformat": 4
 },
 "nbformat": 4,
 "nbformat_minor": 2
}
