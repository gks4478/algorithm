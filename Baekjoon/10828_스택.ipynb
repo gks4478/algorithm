{
 "cells": [
  {
   "attachments": {},
   "cell_type": "markdown",
   "metadata": {},
   "source": [
    "## 10828 스택\n",
    "https://www.acmicpc.net/problem/10828</br>\n",
    "\n",
    "push: 정수를 스택에 넣는다. 출력하는 값은 없다.</br>\n",
    "\n",
    "pop: 스택의 가장 위의 정수를 빼고 그 수를 출력한다. 아무것도 없다면 -1을 출력한다.</br>\n",
    "\n",
    "size: 스택에 있는 정수의 개수를 출력한다.</br>\n",
    "\n",
    "empty: 스택이 비어있으면 1, 아니면 0을 출력한다.</br>\n",
    "\n",
    "top: 스택의 가장 위에 있는 정수를 출력한다. 아무것도 없으면 -1을 출력한다.</br>\n",
    "\n",
    "<예시></br>\n",
    "<pre>\n",
    "    [입력]          [출력]</br>\n",
    "\n",
    "14           |       \n",
    "push 1       |       \n",
    "push 2       |       \n",
    "top          |       2\n",
    "size         |       2\n",
    "empty        |       0\n",
    "pop          |       2\n",
    "pop          |       1\n",
    "pop          |       -1\n",
    "size         |       0\n",
    "empty        |       1\n",
    "push 3       |       -1\n",
    "empty        |       0\n",
    "top          |       3\n",
    "</pre>"
   ]
  },
  {
   "attachments": {},
   "cell_type": "markdown",
   "metadata": {},
   "source": [
    "### 1차 시도 : 시간 초과 -> input을 사용해서 오류가 난것으로 추정"
   ]
  },
  {
   "cell_type": "code",
   "execution_count": null,
   "metadata": {},
   "outputs": [],
   "source": [
    "n= int(input())\n",
    "stack= []\n",
    "for _ in range(n):\n",
    "    value= input().split()\n",
    "\n",
    "    if value[0] == 'push':\n",
    "        stack.append(value[1])\n",
    "\n",
    "    elif value[0] == 'pop':\n",
    "        if stack: \n",
    "            pop_value= stack.pop()\n",
    "            print(pop_value)\n",
    "        else:\n",
    "            print(-1)\n",
    "    \n",
    "    elif value[0] == 'size':\n",
    "        print(len(stack))\n",
    "    \n",
    "    elif value[0] == 'empty':\n",
    "        if stack:\n",
    "            print(0)\n",
    "        else:\n",
    "            print(1)\n",
    "    \n",
    "    elif value[0] == 'top':\n",
    "        if stack:\n",
    "            print(stack[-1])\n",
    "        else:\n",
    "            print(-1)\n"
   ]
  },
  {
   "attachments": {},
   "cell_type": "markdown",
   "metadata": {},
   "source": [
    "### 2차 시도 : 통과"
   ]
  },
  {
   "cell_type": "code",
   "execution_count": null,
   "metadata": {},
   "outputs": [],
   "source": [
    "import sys\n",
    "\n",
    "n= int(sys.stdin.readline())\n",
    "stack= []\n",
    "\n",
    "for _ in range(n):\n",
    "    value= sys.stdin.readline().split()\n",
    "\n",
    "    if value[0] == 'push':\n",
    "        stack.append(value[1])\n",
    "\n",
    "    elif value[0] == 'pop':\n",
    "        if stack: \n",
    "            pop_value= stack.pop()\n",
    "            print(pop_value)\n",
    "        else:\n",
    "            print(-1)\n",
    "    \n",
    "    elif value[0] == 'size':\n",
    "        print(len(stack))\n",
    "    \n",
    "    elif value[0] == 'empty':\n",
    "        if stack:\n",
    "            print(0)\n",
    "        else:\n",
    "            print(1)\n",
    "    \n",
    "    elif value[0] == 'top':\n",
    "        if stack:\n",
    "            print(stack[-1])\n",
    "        else:\n",
    "            print(-1)\n"
   ]
  },
  {
   "attachments": {},
   "cell_type": "markdown",
   "metadata": {},
   "source": [
    "### 다른 코드"
   ]
  },
  {
   "cell_type": "code",
   "execution_count": null,
   "metadata": {},
   "outputs": [],
   "source": [
    "from sys import stdin, stdout\n",
    "input= stdin.readline\n",
    "\n",
    "n= int(input())\n",
    "l= []\n",
    "for _ in range(n):\n",
    "    cmd= input().rstrip()\n",
    "\n",
    "    if cmd == 'pop':\n",
    "        stdout.write(l.pop() + '\\n') if l else stdout.write('-1\\n')\n",
    "        # 엔터가 있어야 할까? print와는 다르게 자동 엔터가 없는것으로 추정\n",
    "    \n",
    "    elif cmd == 'size':\n",
    "        stdout.write(str(len(l)) + '\\n')\n",
    "        # pop은 숫자인데 왜 이거는 문자로 해야됨? 숫자는 안되나? -> 안되네?? 꼭 str을 씌워야 함\n",
    "\n",
    "    elif cmd == 'empty':\n",
    "        stdout.write('0\\n') if l else stdout.write('1\\n')\n",
    "        \n",
    "    elif cmd == 'top':\n",
    "        stdout.write(l[-1] + '\\n') if l else stdout.write('-1\\n')\n",
    "    \n",
    "    else:\n",
    "        l.append(cmd.split()[1])"
   ]
  }
 ],
 "metadata": {
  "kernelspec": {
   "display_name": "base",
   "language": "python",
   "name": "python3"
  },
  "language_info": {
   "codemirror_mode": {
    "name": "ipython",
    "version": 3
   },
   "file_extension": ".py",
   "mimetype": "text/x-python",
   "name": "python",
   "nbconvert_exporter": "python",
   "pygments_lexer": "ipython3",
   "version": "3.9.16"
  },
  "orig_nbformat": 4
 },
 "nbformat": 4,
 "nbformat_minor": 2
}
