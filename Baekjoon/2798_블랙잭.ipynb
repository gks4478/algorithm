{
 "cells": [
  {
   "attachments": {},
   "cell_type": "markdown",
   "metadata": {},
   "source": [
    "## 2798 블랙잭\n",
    "https://www.acmicpc.net/problem/2798</br>\n",
    "\n",
    "3개의 숫자를 골라 m을 넘지 않으면서 m에 최대한 가까운 숫자 3개의 합을 출력</br>\n",
    "\n",
    "<예시></br>\n",
    "<pre>\n",
    "               [입력]                         [출력]</br>\n",
    "\n",
    "5 21                                   |       \n",
    "5 6 7 8 9                              |       21\n",
    "\n",
    "10 500                                 |\n",
    "93 181 245 214 315 36 185 138 216 295  |       497\n",
    "</pre>"
   ]
  },
  {
   "attachments": {},
   "cell_type": "markdown",
   "metadata": {},
   "source": [
    "### 1. for문 반복(메모리: 31256, 시간: 80ms)"
   ]
  },
  {
   "cell_type": "code",
   "execution_count": null,
   "metadata": {},
   "outputs": [],
   "source": [
    "# n, m= map(int, input().split())\n",
    "# num= list(map(int, input().split()))\n",
    "\n",
    "# 값을 입력받는다.\n",
    "import sys\n",
    "n, m= map(int, sys.stdin.readline().split())\n",
    "num= list(map(int, sys.stdin.readline().split()))\n",
    "answer= 0 # 계산한 값을 저장하기 위한 변수 생성\n",
    "\n",
    "# 첫번째 숫자, 2개를 더 더해야 되니까 마지막 2개는 첫번째 숫자에서 제외\n",
    "for first_num in range(n-2):\n",
    "    # 두번째 숫자, 1개를 더 더해야 되니까 마지막 1개는 두번째 숫자에서 제외\n",
    "    # 첫번째에서 선점한 숫자는 더하면 안되니까 첫번째 인덱스에서 +1\n",
    "    for second_num in range(first_num+1, n-1): \n",
    "        # 세번째 숫자, 뒤에 숫자가 더 없으니까 끝까지 출력 가능\n",
    "        # 첫번째, 두번째에서 선점한 숫자는 더하면 안되니까 두번째 인덱스에서 +1(첫번째 인덱스에서 +2)\n",
    "        for third_num in range(second_num+1, n): # 세번째 숫자\n",
    "            value= num[first_num] + num[second_num] + num[third_num] # 첫,두,세번째 숫자의 합\n",
    "            if value <= m: # m보다 같거나 작으면 다음으로 넘어감\n",
    "                if value > answer: # answer보다 크면 answer(m보다 작은 최고값)로 지정\n",
    "                    answer= value\n",
    "\n",
    "print(answer) # 출력"
   ]
  },
  {
   "attachments": {},
   "cell_type": "markdown",
   "metadata": {},
   "source": [
    "### 2. combinations (메모리: 31256, 시간: 108ms)"
   ]
  },
  {
   "cell_type": "code",
   "execution_count": 56,
   "metadata": {},
   "outputs": [
    {
     "name": "stdout",
     "output_type": "stream",
     "text": [
      "497\n"
     ]
    }
   ],
   "source": [
    "import sys\n",
    "from itertools import combinations\n",
    "\n",
    "# n, m= map(int, input().split())\n",
    "# num= list(map(int, input().split()))\n",
    "\n",
    "# 값을 입력받는다.\n",
    "n, m= map(int, sys.stdin.readline().split())\n",
    "num= list(map(int, sys.stdin.readline().split()))\n",
    "combination= combinations(num, 3)\n",
    "answer= 0 # 계산한 값을 저장하기 위한 변수 생성\n",
    "\n",
    "for i in combination:\n",
    "    if sum(i) <= m:\n",
    "        if sum(i) > answer:\n",
    "            answer= sum(i)\n",
    "\n",
    "print(answer)"
   ]
  },
  {
   "attachments": {},
   "cell_type": "markdown",
   "metadata": {},
   "source": [
    "### 2-1. 조합 combinations"
   ]
  },
  {
   "cell_type": "code",
   "execution_count": 57,
   "metadata": {},
   "outputs": [
    {
     "name": "stdout",
     "output_type": "stream",
     "text": [
      "[('A', 'B'), ('A', 'C'), ('B', 'C')]\n"
     ]
    }
   ],
   "source": [
    "import itertools\n",
    "\n",
    "arr= ['A', 'B', 'C']\n",
    "nCr= itertools.combinations(arr, 2)\n",
    "print(list(nCr))\n",
    "\n",
    "# 순서를 고려하지 않기 때문에 (A,B)와 (B,A)는 같다고 생각한다."
   ]
  }
 ],
 "metadata": {
  "kernelspec": {
   "display_name": "base",
   "language": "python",
   "name": "python3"
  },
  "language_info": {
   "codemirror_mode": {
    "name": "ipython",
    "version": 3
   },
   "file_extension": ".py",
   "mimetype": "text/x-python",
   "name": "python",
   "nbconvert_exporter": "python",
   "pygments_lexer": "ipython3",
   "version": "3.9.16"
  },
  "orig_nbformat": 4
 },
 "nbformat": 4,
 "nbformat_minor": 2
}
