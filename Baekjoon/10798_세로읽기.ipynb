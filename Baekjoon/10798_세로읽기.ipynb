{
 "cells": [
  {
   "attachments": {},
   "cell_type": "markdown",
   "metadata": {},
   "source": [
    "## 10798 세로읽기\n",
    "https://www.acmicpc.net/problem/10798\n",
    "\n",
    "- 5줄이 입력될 때 세로로 출력하기\n",
    "- 한줄에 1~15개의 글자가 있고 빈칸은 없다\n",
    "\n",
    "<예시>\n",
    "\n",
    "<pre>\n",
    "[입력]\n",
    "ABCDE\n",
    "abcde\n",
    "01234\n",
    "FGHIJ\n",
    "fghij\n",
    "[출력]\n",
    "Aa0FfBb1GgCc2HhDd3IiEe4Jj\n",
    "\n",
    "[입력]\n",
    "AABCDD\n",
    "afzz\n",
    "09121\n",
    "a8EWg6\n",
    "P5h3kx\n",
    "[출력]\n",
    "Aa0aPAf985Bz1EhCz2W3D1gkD6x\n",
    "</pre>"
   ]
  },
  {
   "cell_type": "code",
   "execution_count": null,
   "metadata": {},
   "outputs": [],
   "source": [
    "from sys import stdin\n",
    "input= stdin.readline\n",
    "\n",
    "input_str= [input().rstrip() for _ in range(5)]\n",
    "\n",
    "result= ''\n",
    "for i in range(15):\n",
    "    for s in input_str:\n",
    "        try:\n",
    "            result += s[i]\n",
    "        except:\n",
    "            result += ''\n",
    "            \n",
    "print(result)"
   ]
  }
 ],
 "metadata": {
  "kernelspec": {
   "display_name": "base",
   "language": "python",
   "name": "python3"
  },
  "language_info": {
   "codemirror_mode": {
    "name": "ipython",
    "version": 3
   },
   "file_extension": ".py",
   "mimetype": "text/x-python",
   "name": "python",
   "nbconvert_exporter": "python",
   "pygments_lexer": "ipython3",
   "version": "3.9.16"
  },
  "orig_nbformat": 4
 },
 "nbformat": 4,
 "nbformat_minor": 2
}
