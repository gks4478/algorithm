{
 "cells": [
  {
   "attachments": {},
   "cell_type": "markdown",
   "metadata": {},
   "source": [
    "## 17219 비밀번호 찾기\n",
    "https://www.acmicpc.net/problem/17219\n",
    "\n",
    "사이트의 비밀번호를 저장한 메모장에서 사이트 비밀번호를 찾고자 한다.\n",
    "\n",
    "사이트와 비밀번호가 저장된 입력 값을 줄 때 사이트 이름으로 비밀버호를 찾는 코드를 만들어라\n",
    "\n",
    "<예시>\n",
    "\n",
    "<pre>\n",
    "[입력]\n",
    "16 4\n",
    "noj.am IU\n",
    "acmicpc.net UAENA\n",
    "startlink.io THEKINGOD\n",
    "google.com ZEZE\n",
    "nate.com VOICEMAIL\n",
    "naver.com REDQUEEN\n",
    "daum.net MODERNTIMES\n",
    "utube.com BLACKOUT\n",
    "zum.com LASTFANTASY\n",
    "dreamwiz.com RAINDROP\n",
    "hanyang.ac.kr SOMEDAY\n",
    "dhlottery.co.kr BOO\n",
    "duksoo.hs.kr HAVANA\n",
    "hanyang-u.ms.kr OBLIVIATE\n",
    "yd.es.kr LOVEATTACK\n",
    "mcc.hanyang.ac.kr ADREAMER\n",
    "startlink.io\n",
    "acmicpc.net\n",
    "noj.am\n",
    "mcc.hanyang.ac.kr\n",
    "\n",
    "[출력]\n",
    "THEKINGOD\n",
    "UAENA\n",
    "IU\n",
    "ADREAMER\n",
    "</pre>"
   ]
  },
  {
   "cell_type": "markdown",
   "metadata": {},
   "source": [
    "### 1차 시도 : 성공"
   ]
  },
  {
   "cell_type": "code",
   "execution_count": null,
   "metadata": {},
   "outputs": [],
   "source": [
    "from sys import stdin\n",
    "input= stdin.readline\n",
    "\n",
    "n, m= map(int, input().rstrip().split()) # n, m= 16, 4\n",
    "add= {} # 사이트, 비밀번호를 저장할 딕셔너리\n",
    "\n",
    "# 사이트와 비밀번호를 받아서 주소 딕셔너리에 저장\n",
    "for _ in range(n): # n번만큼 반복\n",
    "    site= input().rstrip().split() # ['noj.am', 'IU']\n",
    "    add[site[0]]= site[1] # {'noj.am':'IU',...,'mcc.hanyang.ac.kr':'ADREAMER'}\n",
    "\n",
    "# 찾고자 하는 사이트 이름으로 주소 딕셔너리에서 찾는다.\n",
    "for _ in range(m): # m번만큼 반복\n",
    "    print(add[input().rstrip()]) # 출력"
   ]
  },
  {
   "cell_type": "markdown",
   "metadata": {},
   "source": [
    "### 다른 사람 코드"
   ]
  },
  {
   "cell_type": "code",
   "execution_count": null,
   "metadata": {},
   "outputs": [],
   "source": [
    "from sys import stdin, stdout\n",
    "from itertools import islice\n",
    "\n",
    "n, m = map(int, stdin.readline().split()) # n, m= 16, 4\n",
    "arr= stdin.read().splitlines() # ['noj.am IU','acmicpc.net UAENA',...,'mcc.hanyang.ac.kr']\n",
    "\n",
    "passwords= dict(map(lambda x: x.split(), islice(arr, n))) # {'noj.am': 'IU',...,'mcc.hanyang.ac.kr': 'ADREAMER'}\n",
    "ans= [passwords[i] for i in islice(arr, n, None)] # ['THEKINGOD', 'UAENA', 'IU', 'ADREAMER']\n",
    "\n",
    "stdout.write('\\n'.join(ans)) # 출력"
   ]
  },
  {
   "cell_type": "markdown",
   "metadata": {},
   "source": [
    "#### islice 예시"
   ]
  },
  {
   "cell_type": "code",
   "execution_count": 63,
   "metadata": {},
   "outputs": [
    {
     "name": "stdout",
     "output_type": "stream",
     "text": [
      "a\n",
      "b\n",
      "c\n"
     ]
    }
   ],
   "source": [
    "sample= ['a','b','c','d','e']\n",
    "for s in islice(sample, 3): # 0번 인덱스부터 3번 인덱스 전까지\n",
    "    print(s)"
   ]
  },
  {
   "cell_type": "code",
   "execution_count": 64,
   "metadata": {},
   "outputs": [
    {
     "name": "stdout",
     "output_type": "stream",
     "text": [
      "d\n",
      "e\n"
     ]
    }
   ],
   "source": [
    "sample= ['a','b','c','d','e']\n",
    "# islice(슬라이스할 대상, start, stop)\n",
    "for s in islice(sample, 3, None): # 3번 인덱스부터 끝까지\n",
    "    print(s)"
   ]
  },
  {
   "cell_type": "code",
   "execution_count": 66,
   "metadata": {},
   "outputs": [
    {
     "name": "stdout",
     "output_type": "stream",
     "text": [
      "b\n",
      "c\n",
      "d\n"
     ]
    }
   ],
   "source": [
    "sample= ['a','b','c','d','e']\n",
    "for s in islice(sample, 1, 4): # 1번 인덱싀부터 4번 인덱스 전까지\n",
    "    print(s)"
   ]
  }
 ],
 "metadata": {
  "kernelspec": {
   "display_name": "base",
   "language": "python",
   "name": "python3"
  },
  "language_info": {
   "codemirror_mode": {
    "name": "ipython",
    "version": 3
   },
   "file_extension": ".py",
   "mimetype": "text/x-python",
   "name": "python",
   "nbconvert_exporter": "python",
   "pygments_lexer": "ipython3",
   "version": "3.9.16"
  },
  "orig_nbformat": 4
 },
 "nbformat": 4,
 "nbformat_minor": 2
}
