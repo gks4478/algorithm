{
 "cells": [
  {
   "attachments": {},
   "cell_type": "markdown",
   "metadata": {},
   "source": [
    "## 2480 주사위 세개\n",
    "https://www.acmicpc.net/problem/2480\n",
    "\n",
    "1~6 까지의 주사위 3개를 던진다.\n",
    "- 같은 눈 3개가 나오면 : 10,000 + (같은 눈) x 1,000\n",
    "- 같은 눈 2개가 나오면 : 1,000 + (같은 눈) x 100\n",
    "- 모두 다른 눈 나오면  : (3개 중 가장 큰 눈) x 100\n",
    "\n",
    "<예시>\n",
    "\n",
    "<pre>\n",
    "    [입력]             [출력]\n",
    "    \n",
    "    3 3 6      |       1300\n",
    "    2 2 2      |       12000\n",
    "    6 2 5      |       600     \n",
    "</pre>"
   ]
  },
  {
   "cell_type": "code",
   "execution_count": null,
   "metadata": {},
   "outputs": [],
   "source": [
    "dice= sorted(list(map(int, input().split())))\n",
    "if len(set(dice)) == 1:\n",
    "    print(10000 + dice[0] * 1000)\n",
    "elif len(set(dice)) == 2:\n",
    "    print(1000 + dice[1] * 100)\n",
    "else:\n",
    "    print(dice[-1] * 100)"
   ]
  }
 ],
 "metadata": {
  "kernelspec": {
   "display_name": "base",
   "language": "python",
   "name": "python3"
  },
  "language_info": {
   "codemirror_mode": {
    "name": "ipython",
    "version": 3
   },
   "file_extension": ".py",
   "mimetype": "text/x-python",
   "name": "python",
   "nbconvert_exporter": "python",
   "pygments_lexer": "ipython3",
   "version": "3.11.3"
  },
  "orig_nbformat": 4
 },
 "nbformat": 4,
 "nbformat_minor": 2
}
