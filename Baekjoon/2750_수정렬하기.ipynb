{
 "cells": [
  {
   "attachments": {},
   "cell_type": "markdown",
   "metadata": {},
   "source": [
    "## 2750 수 정렬하기\n",
    "https://www.acmicpc.net/problem/2750\n",
    "\n",
    "- 오름차순으로 정렬하기\n",
    "\n",
    "<예시>\n",
    "\n",
    "<pre>\n",
    "[입력]\n",
    "5\n",
    "5\n",
    "4\n",
    "3\n",
    "2\n",
    "1\n",
    "[출력]\n",
    "1\n",
    "2\n",
    "3\n",
    "4\n",
    "5\n",
    "</pre>"
   ]
  },
  {
   "cell_type": "markdown",
   "metadata": {},
   "source": [
    "## 1. 방법 1 : sorted()"
   ]
  },
  {
   "cell_type": "code",
   "execution_count": null,
   "metadata": {},
   "outputs": [],
   "source": [
    "n= int(input())\n",
    "value= []\n",
    "for _ in range(n):\n",
    "    value.append(int(input()))\n",
    "\n",
    "value= sorted(value)\n",
    "\n",
    "for i in value:\n",
    "    print(i)"
   ]
  },
  {
   "cell_type": "code",
   "execution_count": null,
   "metadata": {},
   "outputs": [],
   "source": [
    "'''\n",
    "import java.util.Arrays;\n",
    "import java.util.Scanner;\n",
    "\n",
    "public class Main {\n",
    "    public static void main(String[] args) {\n",
    "        Scanner sc= new Scanner(System.in);\n",
    "\n",
    "        int n= sc.nextInt();\n",
    "        int[] value= new int[n];\n",
    "\n",
    "        for (int i= 0; i<n; i++){\n",
    "            value[i]= sc.nextInt();\n",
    "        }\n",
    "\n",
    "        Arrays.sort(value);\n",
    "\n",
    "        for (int i= 0; i<n; i++){\n",
    "            System.out.println(value[i]);\n",
    "        }\n",
    "    }\n",
    "}\n",
    "'''"
   ]
  },
  {
   "cell_type": "markdown",
   "metadata": {},
   "source": [
    "## 2. 방법2: 버블정렬"
   ]
  },
  {
   "cell_type": "code",
   "execution_count": null,
   "metadata": {},
   "outputs": [],
   "source": [
    "n= int(input())\n",
    "value= [int(input()) for _ in range(n)]\n",
    "\n",
    "for j in range(1, len(value)):\n",
    "    for i in range(len(value)-j): # 끝은 필요없으니까\n",
    "        a= value[i] # value[i]= value[i+1]로 값이 바뀌니까 미리 값을 a에 저장한다\n",
    "        if a > value[i+1]:\n",
    "            value[i]= value[i+1]\n",
    "            value[i+1]= a\n",
    "\n",
    "for i in value:\n",
    "    print(i)"
   ]
  },
  {
   "cell_type": "code",
   "execution_count": null,
   "metadata": {},
   "outputs": [],
   "source": [
    "'''\n",
    "import java.util.Scanner;\n",
    "\n",
    "public class Main {\n",
    "    public static void main(String[] args) {\n",
    "        Scanner sc= new Scanner(System.in);\n",
    "        int n= sc.nextInt();\n",
    "        int[] value= new int[n];\n",
    "\n",
    "        for (int i=0; i<n; i++){\n",
    "            value[i]= sc.nextInt();\n",
    "        }\n",
    "\n",
    "        for (int i=1; i<n; i++){\n",
    "            for (int j=0; j<n-i; j++){\n",
    "                int a= value[j];\n",
    "                if (a>value[j+1]){\n",
    "                    value[j]= value[j+1];\n",
    "                    value[j+1]= a;\n",
    "                }\n",
    "            }\n",
    "        }\n",
    "\n",
    "        for (int i=0; i<n; i++){\n",
    "            System.out.println(value[i]);\n",
    "        }\n",
    "    }\n",
    "}\n",
    "'''"
   ]
  }
 ],
 "metadata": {
  "kernelspec": {
   "display_name": "base",
   "language": "python",
   "name": "python3"
  },
  "language_info": {
   "codemirror_mode": {
    "name": "ipython",
    "version": 3
   },
   "file_extension": ".py",
   "mimetype": "text/x-python",
   "name": "python",
   "nbconvert_exporter": "python",
   "pygments_lexer": "ipython3",
   "version": "3.9.16"
  },
  "orig_nbformat": 4
 },
 "nbformat": 4,
 "nbformat_minor": 2
}
