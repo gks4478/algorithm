{
 "cells": [
  {
   "attachments": {},
   "cell_type": "markdown",
   "metadata": {},
   "source": [
    "## 9506 약수들의 합\n",
    "https://www.acmicpc.net/problem/9506\n",
    "\n",
    "- 어떤 숫자 n이 자신을 제외한 모든 약수들의 합과 같으면 그 수를 완전수라고 한다\n",
    "- 예를 들어 6은 6 = 1 + 2 + 3 으로 완전수이다\n",
    "\n",
    "\n",
    "- n이 완전수라면 약수들의 합으로 나태내어 출력한다\n",
    "- n이 완전수가 아니라면 n is NOT perfect.를 출력한다\n",
    "- -1이 입력되면 종료된다\n",
    "\n",
    "<예시>\n",
    "\n",
    "<pre>\n",
    "[입력]\n",
    "6\n",
    "12\n",
    "28\n",
    "-1\n",
    "[출력]\n",
    "6 = 1 + 2 + 3\n",
    "12 is NOT perfect.\n",
    "28 = 1 + 2 + 4 + 7 + 14\n",
    "</pre>"
   ]
  },
  {
   "cell_type": "code",
   "execution_count": null,
   "metadata": {},
   "outputs": [],
   "source": [
    "from sys import stdin\n",
    "input= stdin.readline\n",
    "\n",
    "while True:\n",
    "    n= int(input())\n",
    "\n",
    "    if n == -1:\n",
    "        break\n",
    "\n",
    "    factor= [i for i in range(1, n) if n%i == 0]\n",
    "\n",
    "    if sum(factor) == n:\n",
    "        print(n, '=', ' + '.join(map(str, factor)))\n",
    "    else:\n",
    "        print(n, 'is NOT perfect.')"
   ]
  }
 ],
 "metadata": {
  "kernelspec": {
   "display_name": "base",
   "language": "python",
   "name": "python3"
  },
  "language_info": {
   "codemirror_mode": {
    "name": "ipython",
    "version": 3
   },
   "file_extension": ".py",
   "mimetype": "text/x-python",
   "name": "python",
   "nbconvert_exporter": "python",
   "pygments_lexer": "ipython3",
   "version": "3.9.16"
  },
  "orig_nbformat": 4
 },
 "nbformat": 4,
 "nbformat_minor": 2
}
