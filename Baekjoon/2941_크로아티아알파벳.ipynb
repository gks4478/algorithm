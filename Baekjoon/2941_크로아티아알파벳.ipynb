{
 "cells": [
  {
   "attachments": {},
   "cell_type": "markdown",
   "metadata": {},
   "source": [
    "## 2941 크로아티아 알파벳\n",
    "https://www.acmicpc.net/problem/2941\n",
    "\n",
    "- 입력값을 크로아티아 알파벳으로 바꾸면 몇개로 이루어지는 출력\n",
    "\n",
    "<예시>\n",
    "\n",
    "<pre>\n",
    "[입력]\n",
    "ljes=njak\n",
    "[출력]\n",
    "6\n",
    "\n",
    "[입력]\n",
    "ddz=z=\n",
    "[출력]\n",
    "3\n",
    "\n",
    "[입력]\n",
    "nljj\n",
    "[출력]\n",
    "3\n",
    "\n",
    "[입력]\n",
    "c=c=\n",
    "[출력]\n",
    "2\n",
    "\n",
    "[입력]\n",
    "dz=ak\n",
    "[출력]\n",
    "3\n",
    "</pre>"
   ]
  },
  {
   "cell_type": "code",
   "execution_count": null,
   "metadata": {},
   "outputs": [],
   "source": [
    "import re\n",
    "from sys import stdin\n",
    "input= stdin.readline\n",
    "\n",
    "input_str= input().rstrip()\n",
    "kro= ['c=', 'c-', 'dz=', 'd-', 'lj', 'nj', 's=', 'z=']\n",
    "result= 0\n",
    "\n",
    "for i in kro:\n",
    "    if i in input_str:\n",
    "        result += input_str.count(i)\n",
    "        input_str= re.sub(i, ' ', input_str)\n",
    "\n",
    "print(result + len(re.sub(' ', '', input_str)))"
   ]
  }
 ],
 "metadata": {
  "kernelspec": {
   "display_name": "base",
   "language": "python",
   "name": "python3"
  },
  "language_info": {
   "codemirror_mode": {
    "name": "ipython",
    "version": 3
   },
   "file_extension": ".py",
   "mimetype": "text/x-python",
   "name": "python",
   "nbconvert_exporter": "python",
   "pygments_lexer": "ipython3",
   "version": "3.9.16"
  },
  "orig_nbformat": 4
 },
 "nbformat": 4,
 "nbformat_minor": 2
}
