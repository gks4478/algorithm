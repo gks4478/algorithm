{
 "cells": [
  {
   "attachments": {},
   "cell_type": "markdown",
   "metadata": {},
   "source": [
    "## 2751 수 정렬하기2\n",
    "https://www.acmicpc.net/problem/2751</br>\n",
    "\n",
    "오름차순으로 정렬하기 (한 줄에 하나씩 출력한다.)</br>\n",
    "<예시></br>\n",
    "<pre>\n",
    "[입력]        [출력]</br>\n",
    "5        |       \n",
    "5        |    1\n",
    "4        |    2\n",
    "3        |    3\n",
    "2        |    4\n",
    "1        |    5\n",
    "</pre>\n"
   ]
  },
  {
   "cell_type": "code",
   "execution_count": null,
   "metadata": {},
   "outputs": [],
   "source": [
    "import sys\n",
    "\n",
    "print(''.join(sorted(sys.stdin.readlines()[1:], key= lambda x: int(x))))\n",
    "# 값을 읽어와서 정수로 바꾸고 한줄에 하나씩 출력하도록 한다."
   ]
  }
 ],
 "metadata": {
  "kernelspec": {
   "display_name": "base",
   "language": "python",
   "name": "python3"
  },
  "language_info": {
   "codemirror_mode": {
    "name": "ipython",
    "version": 3
   },
   "file_extension": ".py",
   "mimetype": "text/x-python",
   "name": "python",
   "nbconvert_exporter": "python",
   "pygments_lexer": "ipython3",
   "version": "3.9.16"
  },
  "orig_nbformat": 4
 },
 "nbformat": 4,
 "nbformat_minor": 2
}
