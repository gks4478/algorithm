{
 "cells": [
  {
   "attachments": {},
   "cell_type": "markdown",
   "metadata": {},
   "source": [
    "## 24313 알고리즘 수업 - 점근적 표기1\n",
    "https://www.acmicpc.net/problem/24313\n",
    "\n",
    "- n의 값이 n0보다 같거나 클 때 아래 식을 만족하면 1 아니면 0을 출력하라\n",
    "- a1xn + a0 <= c x n\n",
    "\n",
    "<예시>\n",
    "\n",
    "<pre>\n",
    "[입력]\n",
    "7 7\n",
    "8\n",
    "1\n",
    "[출력]\n",
    "0\n",
    "\n",
    "[입력]\n",
    "7 7\n",
    "8\n",
    "10\n",
    "[출력]\n",
    "1\n",
    "</pre>"
   ]
  },
  {
   "cell_type": "code",
   "execution_count": null,
   "metadata": {},
   "outputs": [],
   "source": [
    "from sys import stdin\n",
    "input= stdin.readline\n",
    "\n",
    "a1, a0 = map(int, input().split())\n",
    "c= int(input())\n",
    "n0= int(input())\n",
    "\n",
    "if (a1*n0 + a0 <= c*n0) and (a1 <= c):\n",
    "    print(1)\n",
    "else:\n",
    "    print(0)"
   ]
  },
  {
   "cell_type": "code",
   "execution_count": null,
   "metadata": {},
   "outputs": [],
   "source": [
    "'''\n",
    "자바 java\n",
    "import java.util.Scanner;\n",
    "\n",
    "public class Main {\n",
    "    public static void main(String[] args){\n",
    "        Scanner sc= new Scanner(System.in);\n",
    "        int a1= sc.nextInt();\n",
    "        int a0= sc.nextInt();\n",
    "        int c= sc.nextInt();\n",
    "        int n0= sc.nextInt();\n",
    "\n",
    "        if ((a1*n0 + a0 <= c*n0) && (a1 <= c)) {\n",
    "            System.out.println(1);\n",
    "        }\n",
    "        else{\n",
    "            System.out.println(0);\n",
    "        }\n",
    "    }\n",
    "}\n",
    "'''"
   ]
  }
 ],
 "metadata": {
  "kernelspec": {
   "display_name": "base",
   "language": "python",
   "name": "python3"
  },
  "language_info": {
   "codemirror_mode": {
    "name": "ipython",
    "version": 3
   },
   "file_extension": ".py",
   "mimetype": "text/x-python",
   "name": "python",
   "nbconvert_exporter": "python",
   "pygments_lexer": "ipython3",
   "version": "3.9.16"
  },
  "orig_nbformat": 4
 },
 "nbformat": 4,
 "nbformat_minor": 2
}
