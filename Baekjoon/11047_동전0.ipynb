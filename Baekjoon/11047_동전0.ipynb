{
 "cells": [
  {
   "attachments": {},
   "cell_type": "markdown",
   "metadata": {},
   "source": [
    "## 11047 동전0\n",
    "https://www.acmicpc.net/problem/11047\n",
    "\n",
    "\n",
    "\n",
    "n, k = 동전 종류, 동전으로 만들 돈\n",
    "\n",
    "- 1 <= n <= 10  : 동전 종류는 1~10개\n",
    "\n",
    "- 1 <= k <= 1억 : 동전으로 만들 돈은 1원~1억원\n",
    "\n",
    "\n",
    "n원을 동전으로 바꿀건데 동전 개수를 최소값으로 구해보라\n",
    "\n",
    "<pre>\n",
    "\n",
    "\n",
    "<예제1>\n",
    "\n",
    "[입력]\n",
    "10 4200\n",
    "1\n",
    "5\n",
    "10\n",
    "50\n",
    "100\n",
    "500\n",
    "1000\n",
    "5000\n",
    "10000\n",
    "50000\n",
    "\n",
    "[출력]\n",
    "6\n",
    "\n",
    "<예제2>\n",
    "\n",
    "[입력]\n",
    "10 4790\n",
    "1\n",
    "5\n",
    "10\n",
    "50\n",
    "100\n",
    "500\n",
    "1000\n",
    "5000\n",
    "10000\n",
    "50000\n",
    "\n",
    "[출력]\n",
    "12\n",
    "     \n",
    "</pre>"
   ]
  },
  {
   "cell_type": "markdown",
   "metadata": {},
   "source": [
    "### 3차 시도 : 성공\n",
    "\n",
    "생각해보면 while문 필요없음"
   ]
  },
  {
   "cell_type": "code",
   "execution_count": null,
   "metadata": {},
   "outputs": [],
   "source": [
    "# from sys import stdin\n",
    "# input= stdin.read\n",
    "\n",
    "# 예제1을 입력했을 때\n",
    "n, k, *coin= map(int, input().rstrip().split())\n",
    "# n= 10\n",
    "# k= 4200\n",
    "# conin= [1, 5, 10, 50, 100, 500, 1000, 5000, 10000, 50000]\n",
    "coin.sort(reverse= True)\n",
    "# => [50000, 10000, 5000, 1000, 500, 100, 50, 10, 5, 1]\n",
    "# 큰 값부터 k값에서 빼 줘야 최소한의 동전으로 k를 바꿀 수 있다.\n",
    "cnt= 0 # 동전의 개수를 나타낼 변수\n",
    "while k > 0: # k원이 0이 되기 전까지만 반복한다.\n",
    "    for c in coin:\n",
    "        if k >= c:\n",
    "        # 반복1: k= 4200, c= 1000\n",
    "        # 반복2: k= 200, c= 100\n",
    "            cnt += k//c\n",
    "            # 반복1: 4200 // 1000 = 4 (1000원으로 4200원을 4번 바꿀 수 있음)\n",
    "            # 반복2: 200 // 100 = 2 (100원으로 200원을 2번 바꿀 수 있음)\n",
    "            # 총 6개의 동전으로 바꿀 수 있는 것임\n",
    "            k= k % c\n",
    "            # 반복1: 4200 % 1000 = 200 (1000원으로 4200원을 4번 바꾸고 나면 200원 남음)\n",
    "            # 반복2: 200 % 100 = 0 (100원으로 200원을 2번 바꾹 나면 0원 남음)\n",
    "            break\n",
    "            # 반복1의 계산이 끝나면 바로 for문을 나가고 같은 과정을 반복함\n",
    "            # 반복2의 계산이 끝나면 바로 for문을 나감\n",
    "    # k가 0이 돼서 while문을 나감\n",
    "\n",
    "print(cnt) # 출력"
   ]
  },
  {
   "cell_type": "markdown",
   "metadata": {},
   "source": [
    "### 다른 사람 코드 : 정말 깔끔하군!"
   ]
  },
  {
   "cell_type": "code",
   "execution_count": null,
   "metadata": {},
   "outputs": [],
   "source": [
    "import sys\n",
    "n, k= map(int, input().split())\n",
    "coin= []\n",
    "for i in range(n):\n",
    "    coin.append(int(sys.stdin.readline()))\n",
    "\n",
    "cnt= 0\n",
    "# 동전의 개수를 최소화 하기 위해 값이 큰 동전부터 비교를 한다.\n",
    "for i in range(n-1, -1, -1):\n",
    "    # 위 코드랑 동작은 같아서 자세한 설명은 생략\n",
    "    if k // coin[i] > 0: # k가 coin[i]값보다 작으면 else로 넘어간다는 조건\n",
    "        cnt += k//coin[i]\n",
    "        k= k%coin[i]\n",
    "    else: \n",
    "        # 위 코드에서 while이랑 break로 조잡하게 했는데 이렇게 하면 더 깔끔해 지는 군\n",
    "        continue\n",
    "\n",
    "print(cnt)"
   ]
  },
  {
   "cell_type": "markdown",
   "metadata": {},
   "source": [
    "### 내 코드 개선"
   ]
  },
  {
   "cell_type": "code",
   "execution_count": null,
   "metadata": {},
   "outputs": [],
   "source": [
    "# from sys import stdin\n",
    "# input= stdin.read\n",
    "\n",
    "n, k, *coin= map(int, input().rstrip().split())\n",
    "\n",
    "cnt= 0\n",
    "for c in range(n-1, -1, -1):\n",
    "    if k >= coin[c]:\n",
    "        cnt += k//coin[c]\n",
    "        k= k % coin[c]\n",
    "    else:\n",
    "        continue\n",
    "    \n",
    "print(cnt)"
   ]
  }
 ],
 "metadata": {
  "kernelspec": {
   "display_name": "base",
   "language": "python",
   "name": "python3"
  },
  "language_info": {
   "codemirror_mode": {
    "name": "ipython",
    "version": 3
   },
   "file_extension": ".py",
   "mimetype": "text/x-python",
   "name": "python",
   "nbconvert_exporter": "python",
   "pygments_lexer": "ipython3",
   "version": "3.9.16"
  },
  "orig_nbformat": 4
 },
 "nbformat": 4,
 "nbformat_minor": 2
}
