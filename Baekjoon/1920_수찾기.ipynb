{
 "cells": [
  {
   "attachments": {},
   "cell_type": "markdown",
   "metadata": {},
   "source": [
    "## 1920 문제\n",
    "https://www.acmicpc.net/problem/1920</br>\n",
    "n개의 정수 a[1], a[2]...일때 이 안에 정수가 있는지 확인</br>\n",
    "\n",
    "<예시></br>\n",
    "<pre>\n",
    "[입력]              [출력]</br>\n",
    "5           |       1\n",
    "4 1 5 2 3   |       1\n",
    "5           |       0\n",
    "1 3 7 9 5   |       0\n",
    "            |       1\n",
    "</pre>"
   ]
  },
  {
   "attachments": {},
   "cell_type": "markdown",
   "metadata": {},
   "source": [
    "### 1. 이분 탐색을 사용하지 않음"
   ]
  },
  {
   "cell_type": "code",
   "execution_count": null,
   "metadata": {},
   "outputs": [],
   "source": [
    "cnt= int(input())\n",
    "num= set(map(int, input().split())) # 탐색 시간을 줄이기 위해\n",
    "cnt2= int(input())\n",
    "num2= list(map(int, input().split()))\n",
    "\n",
    "for i in num2:\n",
    "    if i in num:\n",
    "        print(1)\n",
    "    else:\n",
    "        print(0)"
   ]
  },
  {
   "attachments": {},
   "cell_type": "markdown",
   "metadata": {},
   "source": [
    "### 2. 이분 탐색을 사용함\n",
    "- 이진 탐색: 탐색의 범위를 절반씩 좁혀가면서 데이터를 탐색하는 알고리즘\n",
    "- 리스트가 정렬되어 있어야 함\n",
    "- 이진 탐색을 이해하기 위해서는 순차 탐색에 대해 먼저 이해해야됨"
   ]
  },
  {
   "cell_type": "code",
   "execution_count": 16,
   "metadata": {},
   "outputs": [
    {
     "name": "stdout",
     "output_type": "stream",
     "text": [
      "1\n",
      "1\n",
      "0\n",
      "0\n",
      "1\n"
     ]
    }
   ],
   "source": [
    "cnt= int(input())\n",
    "num= list(map(int, input().split()))\n",
    "cnt2= int(input())\n",
    "num2= list(map(int, input().split()))\n",
    "num.sort()\n",
    "\n",
    "for s in num2:\n",
    "    first, last= 0, cnt - 1 # first는 맨앞, last는 맨 뒤\n",
    "    isExist= False\n",
    "\n",
    "    # 이분 탐색 시작\n",
    "    while first <= last:\n",
    "        mid= (first + last) // 2 # 중간값 설정\n",
    "        if s == num[mid]: # num의 중간값과 같으면 1\n",
    "            isExist= True\n",
    "            print(1)\n",
    "            break\n",
    "        elif s > num[mid]: # num의 중간값보다 크면\n",
    "            first= mid + 1\n",
    "        else: # num의 중간값보다 작으면?\n",
    "            last= mid - 1\n",
    "            \n",
    "    if not isExist: # 찾지 못했다면\n",
    "        print(0)"
   ]
  },
  {
   "cell_type": "code",
   "execution_count": null,
   "metadata": {},
   "outputs": [],
   "source": [
    "n = int(input())\n",
    "A = list(map(int, input().split()))\n",
    "m = int(input())\n",
    "arr = list(map(int, input().split()))\n",
    "A.sort()\t\t\t# A 정렬\n",
    "\n",
    "# arr의 각 원소별로 이분탐색\n",
    "for num in arr:\n",
    "    lt, rt = 0, n - 1\t\t# lt는 맨 앞, rt는 맨 뒤\n",
    "    isExist = False\t\t# 찾음 여부\n",
    "\n",
    "    # 이분탐색 시작\n",
    "    while lt <= rt:\t\t# lt가 rt보다 커지면 반복문 탈출\n",
    "        mid = (lt + rt) // 2\t# mid는 lt와 rt의 중간값\n",
    "        if num == A[mid]:\t# num(목표값)이 A[mid]값과 같다면 (목표값 존재여부를 알았다면)\n",
    "            isExist = True\t# isExist Ture 변경\n",
    "            print(1)\t\t# 1 출력\n",
    "            break\t\t# 반복문 탈출\n",
    "        elif num > A[mid]:\t# A[mid]가 num보다 작으면\n",
    "            lt = mid + 1\t# lt를 높임\n",
    "        else:\t\t\t# A[mid]가 num보다 크다면\n",
    "            rt = mid - 1\t# rt를 낮춤\n",
    "\n",
    "    if not isExist:\t\t# 찾지 못한 경우\n",
    "        print(0)\t\t# 0 출력"
   ]
  },
  {
   "attachments": {},
   "cell_type": "markdown",
   "metadata": {},
   "source": [
    "### 3. 순차 탐색(sequential search)\n",
    "- 리스트 내 특정 데이터를 찾기 위해 앞에서부터 차례로 탐색하는 알고리즘"
   ]
  },
  {
   "cell_type": "code",
   "execution_count": null,
   "metadata": {},
   "outputs": [],
   "source": [
    "# 서울이 arr의 몇 번째에 있는지 앞에서부터 순차적으로 찾는 것\n",
    "arr= ['New York', 'Paris', 'Seoul', 'London', 'Toronto']\n",
    "n= len(arr)\n",
    "target= arr[2] # Seoul\n",
    "\n",
    "for i in range(n):\n",
    "    if arr[i] == target:\n",
    "        print(i + 1)"
   ]
  }
 ],
 "metadata": {
  "kernelspec": {
   "display_name": "base",
   "language": "python",
   "name": "python3"
  },
  "language_info": {
   "codemirror_mode": {
    "name": "ipython",
    "version": 3
   },
   "file_extension": ".py",
   "mimetype": "text/x-python",
   "name": "python",
   "nbconvert_exporter": "python",
   "pygments_lexer": "ipython3",
   "version": "3.9.16"
  },
  "orig_nbformat": 4
 },
 "nbformat": 4,
 "nbformat_minor": 2
}
