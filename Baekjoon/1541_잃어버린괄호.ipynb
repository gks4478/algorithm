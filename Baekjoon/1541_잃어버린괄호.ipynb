{
 "cells": [
  {
   "attachments": {},
   "cell_type": "markdown",
   "metadata": {},
   "source": [
    "## 1541 잃어보린 괄호\n",
    "https://www.acmicpc.net/problem/1541\n",
    "\n",
    "<예시>\n",
    "\n",
    "<pre>\n",
    "[입력]\n",
    "55-50+40\n",
    "[출력]\n",
    "-35\n",
    "\n",
    "[입력]\n",
    "10+20+30+40\n",
    "[출력]\n",
    "100\n",
    "\n",
    "[입력]\n",
    "00009-00009\n",
    "[출력]\n",
    "0\n",
    "     \n",
    "</pre>"
   ]
  },
  {
   "cell_type": "markdown",
   "metadata": {},
   "source": [
    "### 1차 시도 : 성공\n",
    "\n",
    "참고 자료\n",
    "- https://puleugo.tistory.com/29"
   ]
  },
  {
   "cell_type": "markdown",
   "metadata": {},
   "source": [
    "< 마이너스(-)로 split 한다 >\n",
    "\n",
    "55 - 50 + 40\n",
    "- [55, 50+40] = 55 - 90 = -35\n",
    "10 + 20 - 30 + 40\n",
    "- [10+20, 30+40] = 30 - 70 = -40"
   ]
  },
  {
   "cell_type": "code",
   "execution_count": null,
   "metadata": {},
   "outputs": [],
   "source": [
    "from sys import stdin\n",
    "input= stdin.readline\n",
    "\n",
    "cal= input().rstrip()\n",
    "'''\n",
    "    cal = '55-50+40'\n",
    "'''\n",
    "cal= cal.split('-') # -로 분리한다\n",
    "'''\n",
    "    cal = ['55', '50+40']\n",
    "'''\n",
    "\n",
    "# answer을 cal의 첫번째 값으로 초기화한다\n",
    "if '+' in cal[0]:\n",
    "    answer= sum(map(int, cal[0].split('+'))) # +가 있으면 분리 후 정수로 변경해서 더해준 후 answer에 삽입한다\n",
    "else:\n",
    "    answer= int(cal[0])\n",
    "    '''\n",
    "        answer = 55\n",
    "    '''\n",
    "\n",
    "# 나머지 값은 answer에서 뺀다\n",
    "for i in range(1, len(cal)):\n",
    "    if '+' in cal[i]:\n",
    "        answer -= sum(map(int, cal[i].split('+'))) # +가 있으면 분리 후 정수로 변경해서 더해준 후 answer에서 뺀다\n",
    "        '''\n",
    "            answer -= 90\n",
    "            answer = -35\n",
    "        '''\n",
    "    else:\n",
    "        answer -= int(cal[i])\n",
    "\n",
    "print(answer) # 출력"
   ]
  },
  {
   "cell_type": "markdown",
   "metadata": {},
   "source": [
    "### 다른 사람 코드"
   ]
  },
  {
   "cell_type": "code",
   "execution_count": 79,
   "metadata": {},
   "outputs": [
    {
     "name": "stdout",
     "output_type": "stream",
     "text": [
      "-35\n"
     ]
    }
   ],
   "source": [
    "cal= input().split('-')\n",
    "'''\n",
    "    cal = ['55', '50+40']\n",
    "'''\n",
    "num= []\n",
    "\n",
    "# 미리 덧셈 부분을 더해서 num에 append한다\n",
    "for i in cal:\n",
    "    cnt= 0\n",
    "    sum= i.split('+')\n",
    "    '''\n",
    "        i = 55\n",
    "        sum = 55\n",
    "\n",
    "        i = '50+40'\n",
    "        sum = ['50', '40']\n",
    "    '''\n",
    "\n",
    "    for j in sum:\n",
    "        cnt += int(j)\n",
    "    '''\n",
    "        cnt += sum(map(int, i.split('+')))\n",
    "        이렇게 줄일 수 있겠다\n",
    "    '''\n",
    "\n",
    "    num.append(cnt)\n",
    "    '''\n",
    "        j = 55\n",
    "        cnt += 55\n",
    "        num = [55]\n",
    "\n",
    "        j = 50\n",
    "        cnt += 50\n",
    "        j = 40\n",
    "        cnt += 40\n",
    "        num = [55, 90]\n",
    "    '''\n",
    "\n",
    "# answer을 cal의 첫번째 값으로 초기화한다\n",
    "answer= num[0]\n",
    "'''\n",
    "    num[0] = 55\n",
    "    answer = 55\n",
    "'''\n",
    "\n",
    "# 나머지 값은 answer에서 뺀다\n",
    "for i in range(1, len(num)):\n",
    "    answer -= num[i]\n",
    "    '''\n",
    "        answer -= 90\n",
    "        answer = 35\n",
    "    '''\n",
    "\n",
    "print(answer) # 출력\n"
   ]
  }
 ],
 "metadata": {
  "kernelspec": {
   "display_name": "base",
   "language": "python",
   "name": "python3"
  },
  "language_info": {
   "codemirror_mode": {
    "name": "ipython",
    "version": 3
   },
   "file_extension": ".py",
   "mimetype": "text/x-python",
   "name": "python",
   "nbconvert_exporter": "python",
   "pygments_lexer": "ipython3",
   "version": "3.9.16"
  },
  "orig_nbformat": 4
 },
 "nbformat": 4,
 "nbformat_minor": 2
}
