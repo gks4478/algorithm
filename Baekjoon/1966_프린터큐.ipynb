{
 "cells": [
  {
   "attachments": {},
   "cell_type": "markdown",
   "metadata": {},
   "source": [
    "## 1966 프린터 큐\n",
    "https://www.acmicpc.net/problem/1966</br>\n",
    "\n",
    "<예시></br>\n",
    "<pre>\n",
    "   [입력]              [출력]</br>\n",
    "\n",
    "     3           |       \n",
    "     1 0         |       1\n",
    "     5           |       2\n",
    "     4 2         |       5\n",
    "     1 2 3 4     |       \n",
    "     6 0         |       \n",
    "     1 1 9 1 1 1 |\n",
    "</pre>\n",
    "\n",
    "3은 몇 번의 입력을 줄것인지(한번에 2줄임)</br>\n",
    "\n",
    "4 2</br>\n",
    "1 2 3 4</br>\n",
    "이 부분을 예시로 들어보겠다.</br>\n",
    "4는 아래 1 2 3 4 이 정수의 개수를 나타낸것</br>\n",
    "2는 아래 1 2 3 4 인덱스 번호 -> 3이 몇 번째로 인쇄되는지 알고 싶은 것이다.</br>\n",
    "과정을 나타내보면</br>\n",
    "1 2 3 4</br>\n",
    "2 3 4 1</br>\n",
    "3 4 1 2</br>\n",
    "4 1 2 3 : 가중치가 가장 큰 문서가 인쇄된다.</br>\n",
    "1 2 3</br>\n",
    "2 3 1</br>\n",
    "3 2 1 : 가중치가 가장 큰 문서가 인쇄된다.</br>\n",
    "처음 2번 인덱스가 몇번째로 인쇄되는지 알고자 했으니까</br>\n",
    "4 가중치의 문서가 인쇄되고 3 가중치의 문서가 인쇄된거니까 3 가중치의 문서는 2번째 인쇄 된 것임 </br> \n",
    "\n",
    "그냥 내가 이해하는데 오래걸려서 줄줄이 적어둔것임..</br>"
   ]
  },
  {
   "attachments": {},
   "cell_type": "markdown",
   "metadata": {},
   "source": [
    "### 1차 시도 : 와 진짜 오랜만에 한번에 통과"
   ]
  },
  {
   "cell_type": "code",
   "execution_count": null,
   "metadata": {},
   "outputs": [],
   "source": [
    "from sys import stdin\n",
    "input= stdin.readline\n",
    "\n",
    "for _ in range(int(input())):\n",
    "    # _: 가중치가 몇개 들어갈지 사용하지 않아서 _로 한것임\n",
    "    # m: 인덱스 몇번째를 검사할지\n",
    "    _, m= map(int, input().split())\n",
    "    queue= list(map(int, input().split())) # 가중치 입력해서 리스트로\n",
    "    cnt= 0 # 몇번 진행됐는지 카운트\n",
    "\n",
    "    # 검사하려는 인덱스가 0이 되면 반복문을 그만둔다.\n",
    "    while queue[m] != 0:\n",
    "        for i, k in enumerate(queue):\n",
    "            # 만약 k가 queue의 가장 큰 값이 아니면 다음거 검사\n",
    "            if k != max(queue):\n",
    "                continue\n",
    "            else:\n",
    "                # 삭제를 하면 인덱스 정보가 없어지니까 0으로 대체\n",
    "                queue[i]= 0\n",
    "                # 0으로 대체하면 카운트 올린다.\n",
    "                cnt += 1\n",
    "                # 검사하려는 인덱스가 0이되면 for 문을 나간다.\n",
    "                # while에도 조건을 안 걸어두면 무한히 돌아감\n",
    "                # 그래서 while에도 조건을 걸어둔것임\n",
    "                if queue[m] == 0:\n",
    "                    break\n",
    "    # while문을 나왔다면 cnt를 출력한다.\n",
    "    print(cnt)"
   ]
  }
 ],
 "metadata": {
  "kernelspec": {
   "display_name": "base",
   "language": "python",
   "name": "python3"
  },
  "language_info": {
   "codemirror_mode": {
    "name": "ipython",
    "version": 3
   },
   "file_extension": ".py",
   "mimetype": "text/x-python",
   "name": "python",
   "nbconvert_exporter": "python",
   "pygments_lexer": "ipython3",
   "version": "3.9.16"
  },
  "orig_nbformat": 4
 },
 "nbformat": 4,
 "nbformat_minor": 2
}
