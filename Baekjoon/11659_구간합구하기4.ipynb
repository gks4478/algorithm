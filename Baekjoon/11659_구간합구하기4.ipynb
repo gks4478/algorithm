{
 "cells": [
  {
   "attachments": {},
   "cell_type": "markdown",
   "metadata": {},
   "source": [
    "## 11659 구간 합 구하기4\n",
    "https://www.acmicpc.net/problem/11659\n",
    "\n",
    "n이 주어질 때 i번째 수부터 j번째 수까지 합을 구한다\n",
    "\n",
    "<예시>\n",
    "\n",
    "<pre>\n",
    "[입력]\n",
    "5 3\n",
    "5 4 3 2 1\n",
    "1 3\n",
    "2 4\n",
    "5 5\n",
    "\n",
    "[출력]\n",
    "12\n",
    "9\n",
    "1\n",
    "</pre>"
   ]
  },
  {
   "cell_type": "markdown",
   "metadata": {},
   "source": [
    "### 1차 시도 : 시간초과\n",
    "- 입력값이 10만까지 있어서 시간 복잡도가 O(n^2)가 나온다."
   ]
  },
  {
   "cell_type": "code",
   "execution_count": null,
   "metadata": {},
   "outputs": [],
   "source": [
    "from sys import stdin\n",
    "input= stdin.readline\n",
    "\n",
    "n, m = map(int, input().rstrip().split())\n",
    "'''\n",
    "    n = 5\n",
    "    m = 3\n",
    "'''\n",
    "\n",
    "s= list(map(int, input().rstrip().split()))\n",
    "'''\n",
    "    s = [5, 4, 3, 2, 1]\n",
    "'''\n",
    "\n",
    "s.insert(0, 0) # 편리를 위해 0번째에 0을 넣는다\n",
    "'''\n",
    "    s = [0, 5, 4, 3, 2, 1]\n",
    "'''\n",
    "\n",
    "for _ in range(m): # m번(3번) 반복한다\n",
    "    answer= 0 # 값 초기화\n",
    "    a,b = map(int, input().rstrip().split())\n",
    "    '''\n",
    "        _ = 0\n",
    "        a,b = 1, 3\n",
    "\n",
    "        _ = 1\n",
    "        a,b = 2, 4\n",
    "\n",
    "        _ = 2\n",
    "        a,b = 5, 5\n",
    "    '''\n",
    "\n",
    "    for i in range(a, b+1):\n",
    "        answer += s[i]\n",
    "        '''\n",
    "            i = 1\n",
    "            answer = 5 (s[1] = 5)\n",
    "\n",
    "            i = 2\n",
    "            answer = 9 (s[2] = 4) \n",
    "\n",
    "            i = 3\n",
    "            answer = 12 (s[3] = 3)\n",
    "\n",
    "            ...\n",
    "\n",
    "            이런식으로 반복 된다\n",
    "\n",
    "        '''\n",
    "    print(answer) # 출력"
   ]
  },
  {
   "cell_type": "markdown",
   "metadata": {},
   "source": [
    "### 2차 시도 : 시간초과\n",
    "누적합(prefix sum)으로 풀었는데도 시간초과가 난다."
   ]
  },
  {
   "cell_type": "code",
   "execution_count": null,
   "metadata": {},
   "outputs": [],
   "source": [
    "from itertools import accumulate\n",
    "\n",
    "n,m = map(int, input().rstrip().split())\n",
    "s= list(map(int, input().rstrip().split()))\n",
    "s_acc= list(accumulate(s))\n",
    "s_acc.insert(0,0)\n",
    "\n",
    "for _ in range(m):\n",
    "    a,b = map(int, input().rstrip().split())\n",
    "    print(s_acc[b] - s_acc[a-1])"
   ]
  },
  {
   "cell_type": "markdown",
   "metadata": {},
   "source": [
    "### 3차 시도 : 성공\n",
    "stdin.readline을 까먹고 안 넣었다.."
   ]
  },
  {
   "cell_type": "code",
   "execution_count": null,
   "metadata": {},
   "outputs": [],
   "source": [
    "from itertools import accumulate\n",
    "from sys import stdin\n",
    "input= stdin.readline\n",
    "\n",
    "n,m = map(int, input().rstrip().split())\n",
    "'''\n",
    "    n = 5\n",
    "    m = 3\n",
    "'''\n",
    "\n",
    "s= list(map(int, input().rstrip().split()))\n",
    "'''\n",
    "    s = [5, 4, 3, 2, 1]\n",
    "'''\n",
    "\n",
    "s_acc= list(accumulate(s))\n",
    "'''\n",
    "    s_acc = [5, 9, 12, 14, 15]\n",
    "'''\n",
    "s_acc.insert(0,0) # 편리를 위해 0번째에 0을 넣어준다\n",
    "'''\n",
    "    s_acc = [0, 5, 9, 12, 14, 15]\n",
    "'''\n",
    "\n",
    "for _ in range(m): # m번(3번) 반복한다\n",
    "    a,b = map(int, input().rstrip().split())\n",
    "    print(s_acc[b] - s_acc[a-1]) # 출력\n",
    "    '''\n",
    "        _ = 0\n",
    "        a,b = 1, 3\n",
    "        s_acc[3] - s_acc[0] = 12 - 0 = 12\n",
    "\n",
    "        _ = 1\n",
    "        a,b = 2,4\n",
    "        s_acc[4] - s_acc[1] = 14 - 5 = 9\n",
    "\n",
    "        _ = 2\n",
    "        a,b = 5,5\n",
    "        s_acc[5] - s_acc[4] = 15 - 14 = 1\n",
    "    '''"
   ]
  },
  {
   "cell_type": "code",
   "execution_count": 49,
   "metadata": {},
   "outputs": [
    {
     "data": {
      "text/plain": [
       "[1, 3, 6, 10, 15]"
      ]
     },
     "execution_count": 49,
     "metadata": {},
     "output_type": "execute_result"
    }
   ],
   "source": [
    "from itertools import accumulate\n",
    "\n",
    "# 누적합을 구해주는 함수이다\n",
    "a = [1,2,3,4,5]\n",
    "list(accumulate(a))"
   ]
  }
 ],
 "metadata": {
  "kernelspec": {
   "display_name": "base",
   "language": "python",
   "name": "python3"
  },
  "language_info": {
   "codemirror_mode": {
    "name": "ipython",
    "version": 3
   },
   "file_extension": ".py",
   "mimetype": "text/x-python",
   "name": "python",
   "nbconvert_exporter": "python",
   "pygments_lexer": "ipython3",
   "version": "3.9.16"
  },
  "orig_nbformat": 4
 },
 "nbformat": 4,
 "nbformat_minor": 2
}
