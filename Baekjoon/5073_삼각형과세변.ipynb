{
 "cells": [
  {
   "attachments": {},
   "cell_type": "markdown",
   "metadata": {},
   "source": [
    "## 5073 삼각형과 세 변\n",
    "https://www.acmicpc.net/problem/5073\n",
    "\n",
    "- Equilateral :  세 변의 길이가 모두 같은 경우\n",
    "- Invalid : 가장 긴 변의 길이가 나머지 두 변의 길이의 합이 길지 않은 경우\n",
    "- Isosceles : 두 변의 길이만 같은 경우\n",
    "- Scalene : 세 변의 길이가 모두 다른 경우\n",
    "\n",
    "<예시>\n",
    "\n",
    "<pre>\n",
    "[입력]\n",
    "7 7 7\n",
    "6 5 4\n",
    "3 2 5\n",
    "6 2 6\n",
    "0 0 0\n",
    "[출력]\n",
    "Equilateral\n",
    "Scalene\n",
    "Invalid\n",
    "Isosceles\n",
    "</pre>"
   ]
  },
  {
   "cell_type": "code",
   "execution_count": null,
   "metadata": {},
   "outputs": [],
   "source": [
    "from sys import stdin\n",
    "input= stdin.readline\n",
    "\n",
    "while True:\n",
    "    a,b,c = map(int, input().split())\n",
    "    \n",
    "    if a == b == c == 0:\n",
    "        break\n",
    "\n",
    "    # Equilateral :  세 변의 길이가 모두 같은 경우\n",
    "    if a == b == c:\n",
    "        print('Equilateral')\n",
    "\n",
    "    # Invalid : 가장 긴 변의 길이가 나머지 두 변의 길이의 합이 길지 않은 경우\n",
    "    elif max(a,b,c) >= a+b+c - max(a,b,c):\n",
    "        print('Invalid')\n",
    "    \n",
    "    # Isosceles : 두 변의 길이만 같은 경우\n",
    "    elif (a == b) or (a == c) or (b == c):\n",
    "        print('Isosceles')\n",
    "    \n",
    "    # Scalene : 세 변의 길이가 모두 다른 경우\n",
    "    else:\n",
    "        print('Scalene')"
   ]
  }
 ],
 "metadata": {
  "kernelspec": {
   "display_name": "base",
   "language": "python",
   "name": "python3"
  },
  "language_info": {
   "codemirror_mode": {
    "name": "ipython",
    "version": 3
   },
   "file_extension": ".py",
   "mimetype": "text/x-python",
   "name": "python",
   "nbconvert_exporter": "python",
   "pygments_lexer": "ipython3",
   "version": "3.9.16"
  },
  "orig_nbformat": 4
 },
 "nbformat": 4,
 "nbformat_minor": 2
}
