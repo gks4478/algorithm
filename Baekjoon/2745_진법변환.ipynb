{
 "cells": [
  {
   "attachments": {},
   "cell_type": "markdown",
   "metadata": {},
   "source": [
    "## 2745 진법 변환\n",
    "https://www.acmicpc.net/problem/2745\n",
    "\n",
    "- N진법으로 10진법으로 바꿔라\n",
    "- 10이상은 A~Z로 표시한다 (A:10, B:11, C:12...Z:35)\n",
    "- ZZZZZ 36 -> 35*(36^4) + 35*(36^3) + 35*(36^2) + 35*(36^1) + 35*(36^0)\n",
    "\n",
    "<예시>\n",
    "\n",
    "<pre>\n",
    "[입력]\n",
    "ZZZZZ 36\n",
    "[출력]\n",
    "60466175\n",
    "</pre>"
   ]
  },
  {
   "cell_type": "code",
   "execution_count": null,
   "metadata": {},
   "outputs": [],
   "source": [
    "from sys import stdin\n",
    "input= stdin.readline\n",
    "\n",
    "input_str, n = input().split()\n",
    "\n",
    "result= 0\n",
    "for i in range(len(input_str)):\n",
    "\n",
    "    value= input_str[len(input_str)-i-1]\n",
    "\n",
    "    if value.isdigit():\n",
    "        result += int(value)*(int(n)**i)\n",
    "    else:\n",
    "        result += (ord(value)-55)*(int(n)**i)\n",
    "\n",
    "print(result)"
   ]
  },
  {
   "cell_type": "markdown",
   "metadata": {},
   "source": [
    "### 다른 사람 코드"
   ]
  },
  {
   "cell_type": "code",
   "execution_count": null,
   "metadata": {},
   "outputs": [],
   "source": [
    "n, b = input().split()\n",
    "print(int(n, int(b)))\n",
    "\n",
    "# int('ZZZZZ', int(36)) 36진법을 10진법으로 나타낸다"
   ]
  }
 ],
 "metadata": {
  "kernelspec": {
   "display_name": "base",
   "language": "python",
   "name": "python3"
  },
  "language_info": {
   "codemirror_mode": {
    "name": "ipython",
    "version": 3
   },
   "file_extension": ".py",
   "mimetype": "text/x-python",
   "name": "python",
   "nbconvert_exporter": "python",
   "pygments_lexer": "ipython3",
   "version": "3.9.16"
  },
  "orig_nbformat": 4
 },
 "nbformat": 4,
 "nbformat_minor": 2
}
