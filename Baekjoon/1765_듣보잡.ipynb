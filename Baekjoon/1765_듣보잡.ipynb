{
 "cells": [
  {
   "attachments": {},
   "cell_type": "markdown",
   "metadata": {},
   "source": [
    "## 1764 듣보잡\n",
    "https://www.acmicpc.net/problem/1764\n",
    "\n",
    "입력의 2번째 줄부터 n번째까지는 듣도 못한 사람이고(위에서 n개)\n",
    "\n",
    "n번째 다음줄부터 마지막까지는 보도 못한 사람(밑에서 m개) 이다.\n",
    "\n",
    "듣도 못한 사람에도 이름이 있고 보도 못한 사람에도 이름이 있는 사람 수와 이름을 출력하라\n",
    "\n",
    "<예시>\n",
    "\n",
    "<pre>\n",
    "[입력]             \n",
    "    \n",
    "3 4\n",
    "ohhenrie\n",
    "charlie\n",
    "baesangwook\n",
    "obama\n",
    "baesangwook\n",
    "ohhenrie\n",
    "clinton\n",
    "\n",
    "[출력]\n",
    "\n",
    "2\n",
    "baesangwook\n",
    "ohhenrie\n",
    "     \n",
    "</pre>"
   ]
  },
  {
   "cell_type": "markdown",
   "metadata": {},
   "source": [
    "### 1차 시도 : 시간 초과"
   ]
  },
  {
   "cell_type": "code",
   "execution_count": null,
   "metadata": {},
   "outputs": [],
   "source": [
    "from sys import stdin\n",
    "input= stdin.read\n",
    "\n",
    "n, m, *name= map(str, input().rstrip().split())\n",
    "\n",
    "answer= [s for s in name[int(n):] if s in name[:int(n)]]\n",
    "answer.insert(0, str(len(answer)))\n",
    "print('\\n'.join(answer))"
   ]
  },
  {
   "cell_type": "markdown",
   "metadata": {},
   "source": [
    "### 3차 시도 : 성공\n",
    "read와 readline을 주의할 것\n",
    "\n",
    "1차 시도에서는 이름 입력을 한줄로 받아왔고\n",
    "\n",
    "2,3차 시도에서는 이름을 한줄, 한줄 받아왔는데 여기서 오는 시간 차이인듯 하다."
   ]
  },
  {
   "cell_type": "code",
   "execution_count": null,
   "metadata": {},
   "outputs": [],
   "source": [
    "# from sys import stdin\n",
    "# input= stdin.readline\n",
    "\n",
    "n, m= map(int, input().rstrip().split())\n",
    "name_cnt= {} # 값을 저장할 딕셔너리\n",
    "\n",
    "for _ in range(n+m):\n",
    "    name= input().rstrip()\n",
    "    try: # name 키 값이 있다면 +1을 하고\n",
    "        name_cnt[name] += 1\n",
    "    except: # 없다면 0으로 키를 생성하고 0으로 초기화\n",
    "        name_cnt[name]= 0\n",
    "# name_cnt : {'ohhenrie': 1, 'charlie': 0, 'baesangwook': 1, 'obama': 0, 'clinton': 0}\n",
    "\n",
    "# name_cnt의 값이 1이면 키 값을 answer에 넣는다.\n",
    "answer= [k for k, v in name_cnt.items() if v == 1]\n",
    "# ['ohhenrie', 'baesangwook']\n",
    "\n",
    "print(len(answer))\n",
    "print('\\n'.join(sorted(answer))) # answer를 정렬하고 출력"
   ]
  },
  {
   "cell_type": "markdown",
   "metadata": {},
   "source": [
    "### 다른 사람 코드"
   ]
  },
  {
   "cell_type": "code",
   "execution_count": null,
   "metadata": {},
   "outputs": [],
   "source": [
    "import sys\n",
    "n, m= map(int, input().split())\n",
    "# => n= 3, m= 4\n",
    "nameList= sys.stdin.read().splitlines()\n",
    "# => ['ohhenrie', 'charlie', 'baesangwook', 'obama', 'baesangwook', 'ohhenrie', 'clinton']\n",
    "# 이런식이 될 것이다.\n",
    "\n",
    "hearset= set(nameList[:n])\n",
    "# => ['ohhenrie', 'charlie', 'baesangwook']\n",
    "seeset= set(nameList[n:])\n",
    "# => ['obama', 'baesangwook', 'ohhenrie', 'clinton']\n",
    "\n",
    "ret= list(hearset & seeset)\n",
    "# and 연산 중복되는 값만 살린다.\n",
    "# => (hearset & seeset) -> {'ohhenrie', 'baesangwook'}\n",
    "# => list(hearset & seeset) -> ['ohhenrie', 'baesangwook']\n",
    "ret.sort()\n",
    "# 알파벳 순으로 정렬\n",
    "# => ['baesangwook', 'ohhenrie']\n",
    "\n",
    "print(len(ret)) # 몇개인지 출력\n",
    "for i in ret:\n",
    "    print(i) # 각 출력"
   ]
  }
 ],
 "metadata": {
  "kernelspec": {
   "display_name": "base",
   "language": "python",
   "name": "python3"
  },
  "language_info": {
   "codemirror_mode": {
    "name": "ipython",
    "version": 3
   },
   "file_extension": ".py",
   "mimetype": "text/x-python",
   "name": "python",
   "nbconvert_exporter": "python",
   "pygments_lexer": "ipython3",
   "version": "3.9.16"
  },
  "orig_nbformat": 4
 },
 "nbformat": 4,
 "nbformat_minor": 2
}
