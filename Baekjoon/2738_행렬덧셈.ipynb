{
 "cells": [
  {
   "attachments": {},
   "cell_type": "markdown",
   "metadata": {},
   "source": [
    "## 2738 행렬 덧셈\n",
    "https://www.acmicpc.net/problem/2738\n",
    "\n",
    "- n8m 행렬이 2개 주어질 때 두 행렬의 덧셈을 구하라\n",
    "\n",
    "<예시>\n",
    "\n",
    "<pre>\n",
    "[입력]\n",
    "3 3\n",
    "1 1 1\n",
    "2 2 2\n",
    "0 1 0\n",
    "3 3 3\n",
    "4 4 4\n",
    "5 5 100\n",
    "[출력]\n",
    "4 4 4\n",
    "6 6 6\n",
    "5 6 100\n",
    "</pre>"
   ]
  },
  {
   "cell_type": "code",
   "execution_count": null,
   "metadata": {},
   "outputs": [],
   "source": [
    "from sys import stdin\n",
    "input= stdin.readline\n",
    "\n",
    "n, m = map(int, input().split())\n",
    "arange= []\n",
    "\n",
    "# 행렬이 두개니까 행*2\n",
    "for _ in range(n*2):\n",
    "    arange.append(list(map(int, input().split())))\n",
    "\n",
    "for i in range(n):\n",
    "    print(*[x+y for x,y in zip(arange[i], arange[i+n])])"
   ]
  }
 ],
 "metadata": {
  "kernelspec": {
   "display_name": "base",
   "language": "python",
   "name": "python3"
  },
  "language_info": {
   "codemirror_mode": {
    "name": "ipython",
    "version": 3
   },
   "file_extension": ".py",
   "mimetype": "text/x-python",
   "name": "python",
   "nbconvert_exporter": "python",
   "pygments_lexer": "ipython3",
   "version": "3.9.16"
  },
  "orig_nbformat": 4
 },
 "nbformat": 4,
 "nbformat_minor": 2
}
