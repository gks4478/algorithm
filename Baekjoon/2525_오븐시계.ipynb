{
 "cells": [
  {
   "attachments": {},
   "cell_type": "markdown",
   "metadata": {},
   "source": [
    "## 2525 오븐 시계\n",
    "https://www.acmicpc.net/problem/2525\n",
    "\n",
    "<예시>\n",
    "\n",
    "<pre>\n",
    "[입력]\n",
    "14 30\n",
    "20\n",
    "[출력]\n",
    "14 50\n",
    "\n",
    "[입력]\n",
    "17 40\n",
    "80\n",
    "[출력]\n",
    "19 0\n",
    "\n",
    "[입력]\n",
    "23 48\n",
    "25\n",
    "[출력]\n",
    "0 13     \n",
    "</pre>"
   ]
  },
  {
   "cell_type": "code",
   "execution_count": 24,
   "metadata": {},
   "outputs": [],
   "source": [
    "# 값을 입력 받는다\n",
    "h, m= map(int, input().split())\n",
    "m += int(input())\n",
    "'''\n",
    "h = 23 m = 73(48 + 13)\n",
    "'''\n",
    "\n",
    "# m이 1시간을 넘으면 h에 시간을 더해준다\n",
    "if m > 59:\n",
    "    h += m//60\n",
    "    m = m%60\n",
    "    '''\n",
    "    h += 73//60 = 24(23 + 1)\n",
    "    m = 73%60 = 13\n",
    "    '''\n",
    "\n",
    "# h가 23보다 크면 새벽(?)으로 간주한다.\n",
    "if h > 23:\n",
    "    h = h - 24\n",
    "    '''\n",
    "    h = 24 - 24 = 0\n",
    "    '''\n",
    "\n",
    "print(h, m) # 0 13"
   ]
  }
 ],
 "metadata": {
  "kernelspec": {
   "display_name": "base",
   "language": "python",
   "name": "python3"
  },
  "language_info": {
   "codemirror_mode": {
    "name": "ipython",
    "version": 3
   },
   "file_extension": ".py",
   "mimetype": "text/x-python",
   "name": "python",
   "nbconvert_exporter": "python",
   "pygments_lexer": "ipython3",
   "version": "3.11.3"
  },
  "orig_nbformat": 4
 },
 "nbformat": 4,
 "nbformat_minor": 2
}
