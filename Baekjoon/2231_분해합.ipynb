{
 "cells": [
  {
   "attachments": {},
   "cell_type": "markdown",
   "metadata": {},
   "source": [
    "## 2231 분해합\n",
    "https://www.acmicpc.net/problem/2231\n",
    "\n",
    "- 245의 분해합은 256(=245 + 2 + 4 + 5) 이 된다\n",
    "- 따라서 245는 256의 생성자가 된다\n",
    "- 어떤 자연수의 경우에는 생성자가 없을 수도 있다\n",
    "- 반대로 생성자가 여러 개인 자연수도 있을 수 있으므로 가장 작은 생성자를 구해내는 프로그램을 작성하시오\n",
    "\n",
    "<예시>\n",
    "\n",
    "<pre>\n",
    "[입력]\n",
    "216\n",
    "[출력]\n",
    "198\n",
    "</pre>"
   ]
  },
  {
   "cell_type": "markdown",
   "metadata": {},
   "source": [
    "23.05.29 작성"
   ]
  },
  {
   "cell_type": "code",
   "execution_count": null,
   "metadata": {},
   "outputs": [],
   "source": [
    "# 1. 값을 입력받는다.\n",
    "a= input()\n",
    "\n",
    "# 2. 입력한 값의 모든 생성자를 저장한다.\n",
    "result= [0] # 생성자가 없으면 0을 출력해야 하므로 0을 미리 저장한다.\n",
    "for i in range(1, 9*len(a)+1): \n",
    "    # 입력한 값이 1글자면 1~9, 2글자면 1~18(2*9)까지의 범위를 지정한다.\n",
    "    # 예) 100 ~ 999 사이에서 값이 나오니까\n",
    "    b= str(int(a) - i) \n",
    "    # 입력한 값에서 i를 뺀다(더했을 때 값이 입력값과 같은지 확인하기 위해) \n",
    "    # 예: b= 245 => 245 + 2 + 4 + 5 = 256, 입력값 a= 256 이런식으로 확인하기 위해\n",
    "    if int(b) < 1:\n",
    "        break\n",
    "    # b의 값이 음수이면 진행이 어려워 break한다.\n",
    "    # 위에서 설명한 것을 코드화 한 것\n",
    "    c= 0\n",
    "    for j in b: # 위의 예시에서 2+4+5 부분\n",
    "        c += int(j)\n",
    "    d= int(b)+c # 위의 예시에서 245 + 2+4+5 부분\n",
    "    if d == int(a): # 입력값과 계산한 값이 일치하면 result에 저장한다.\n",
    "        result.append(int(b))\n",
    "\n",
    "# 3. result의 갓이 1개면 0 아니면 0 제외 가장 작은 값을 출력한다.\n",
    "if len(result) == 1: # 리스트의 값이 1이면 0만 저장되어 있는 거니까 0을 출력한다.\n",
    "    print(0)\n",
    "else:\n",
    "    result.pop(0) # 리스트에 하나만 저장되어 있지 않다면 0을 제거하고\n",
    "    print(min(result)) # 가장 작은 값을 출력한다."
   ]
  },
  {
   "cell_type": "markdown",
   "metadata": {},
   "source": [
    "23.11.23 작성"
   ]
  },
  {
   "cell_type": "code",
   "execution_count": null,
   "metadata": {},
   "outputs": [],
   "source": [
    "n= int(input())\n",
    "result= 0\n",
    "\n",
    "for i in range(n):\n",
    "    ord_i= i\n",
    "    for j in str(i):\n",
    "        i += int(j)\n",
    "    if i == n:\n",
    "        result= ord_i\n",
    "        break\n",
    "print(result)"
   ]
  },
  {
   "cell_type": "code",
   "execution_count": null,
   "metadata": {},
   "outputs": [],
   "source": [
    "''' java\n",
    "import java.util.Scanner;\n",
    "\n",
    "public class Main {\n",
    "    public static void main(String[] args) {\n",
    "        Scanner sc = new Scanner(System.in);\n",
    "        int n = sc.nextInt();\n",
    "        int result = 0;\n",
    "\n",
    "        for (int i = 0; i < n; i++) {\n",
    "            int ord_i = i;\n",
    "            int temp_i = i;\n",
    "\n",
    "            while (temp_i > 0) {\n",
    "                // 각 자리수별로 더한다\n",
    "                ord_i += temp_i % 10;\n",
    "                temp_i /= 10;\n",
    "            }\n",
    "\n",
    "            if (ord_i == n) {\n",
    "                result = i;\n",
    "                break;\n",
    "            }\n",
    "        }\n",
    "\n",
    "        System.out.println(result);\n",
    "    }\n",
    "}\n",
    "\n",
    "'''"
   ]
  }
 ],
 "metadata": {
  "kernelspec": {
   "display_name": "base",
   "language": "python",
   "name": "python3"
  },
  "language_info": {
   "codemirror_mode": {
    "name": "ipython",
    "version": 3
   },
   "file_extension": ".py",
   "mimetype": "text/x-python",
   "name": "python",
   "nbconvert_exporter": "python",
   "pygments_lexer": "ipython3",
   "version": "3.9.16"
  },
  "orig_nbformat": 4
 },
 "nbformat": 4,
 "nbformat_minor": 2
}
