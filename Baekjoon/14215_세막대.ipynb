{
 "cells": [
  {
   "attachments": {},
   "cell_type": "markdown",
   "metadata": {},
   "source": [
    "## 14215 세 막대\n",
    "https://www.acmicpc.net/problem/14215\n",
    "\n",
    "- 세개의 값이 주어지는데 삼각형의 조건에 맞도록 값을 수정하라\n",
    "- 변은 줄일 수만 있다\n",
    "- 만들 수 있는 가장 큰 값을 구하라\n",
    "- 제대로된 삼각형 변이 주어질 수 있다\n",
    "\n",
    "<예시>\n",
    "\n",
    "<pre>\n",
    "[입력]\n",
    "1 2 3\n",
    "[출력]\n",
    "5\n",
    "\n",
    "[입력]\n",
    "2 2 2\n",
    "[출력]\n",
    "6\n",
    "\n",
    "[입력]\n",
    "1 100 1\n",
    "[출력]\n",
    "3\n",
    "\n",
    "[입력]\n",
    "41 64 16\n",
    "[출력]\n",
    "113\n",
    "</pre>"
   ]
  },
  {
   "cell_type": "code",
   "execution_count": null,
   "metadata": {},
   "outputs": [],
   "source": [
    "from sys import stdin\n",
    "input= stdin.readline\n",
    "\n",
    "# 삼각형의 조건\n",
    "# '가장 큰 변 < (나머지 두 변의 합)' 이 조건이 같아야 한다\n",
    "\n",
    "a = sorted(list(map(int, input().split())))\n",
    "\n",
    "if a[0] + a[1] <= a[2]:\n",
    "    a[2]= a[0] + a[1] -1\n",
    "\n",
    "print(sum(a))"
   ]
  }
 ],
 "metadata": {
  "kernelspec": {
   "display_name": "base",
   "language": "python",
   "name": "python3"
  },
  "language_info": {
   "codemirror_mode": {
    "name": "ipython",
    "version": 3
   },
   "file_extension": ".py",
   "mimetype": "text/x-python",
   "name": "python",
   "nbconvert_exporter": "python",
   "pygments_lexer": "ipython3",
   "version": "3.9.16"
  },
  "orig_nbformat": 4
 },
 "nbformat": 4,
 "nbformat_minor": 2
}
