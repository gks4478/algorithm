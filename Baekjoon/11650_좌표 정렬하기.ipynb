{
 "cells": [
  {
   "attachments": {},
   "cell_type": "markdown",
   "metadata": {},
   "source": [
    "## 11650 문제\n",
    "입력되는 좌표를 오름차순으로 출력하기</br>\n",
    "\n",
    "<예시></br>\n",
    "<pre>\n",
    "[입력]              [출력]</br>\n",
    "5           |       \n",
    "3 4         |       1 -1\n",
    "1 1         |       1 1\n",
    "1 -1        |       2 2\n",
    "2 2         |       3 3\n",
    "3 3         |       3 4\n",
    "</pre>"
   ]
  },
  {
   "attachments": {},
   "cell_type": "markdown",
   "metadata": {},
   "source": [
    "#### 1. 코드를 줄이지 않았을 때"
   ]
  },
  {
   "cell_type": "code",
   "execution_count": null,
   "metadata": {},
   "outputs": [],
   "source": [
    "n= int(input()) # 몇 번 반복될 것인지 입력한다.\n",
    "value= [] # x,y값을 저장할 빈 리스트 생성\n",
    "for _ in range(n):\n",
    "    x,y= map(int, input().split()) # x,y값을 입력한다.\n",
    "    value.append([x,y]) # value에 [x,y]를 저장\n",
    "\n",
    "for a,b in sorted(value): # 리스트 value를 오름차순으로 정렬\n",
    "    print(a,b) # 출력"
   ]
  },
  {
   "attachments": {},
   "cell_type": "markdown",
   "metadata": {},
   "source": [
    "#### 2. 코드를 줄였을 때"
   ]
  },
  {
   "cell_type": "code",
   "execution_count": null,
   "metadata": {},
   "outputs": [],
   "source": [
    "value= [list(map(int, input().split())) for _ in range(int(input()))]\n",
    "\n",
    "for a,b in sorted(value):\n",
    "    print(a,b)"
   ]
  },
  {
   "attachments": {},
   "cell_type": "markdown",
   "metadata": {},
   "source": [
    "#### 3. 다른 코드"
   ]
  },
  {
   "cell_type": "code",
   "execution_count": null,
   "metadata": {},
   "outputs": [],
   "source": [
    "import sys\n",
    "\n",
    "def cond(dot):\n",
    "    x,y= dot.split()\n",
    "    return int(x) + int(y)/1000000 # 좌표의 정렬을 위해서 1,000,000을 나눠주는 것이다.\n",
    "# 예시를 계산하면 3.000004, 1.000001, 0.999999, 2.000002, 3.000003 이 된다.\n",
    "# 그냥 더하면 x값은 작은데 y값이 크다면 그만큼 좌표가 이상해지니까 정렬위한 것임을 기억한다.\n",
    "\n",
    "dots= sorted(sys.stdin.readlines()[1:], key= lambda x: cond(x)) \n",
    "# sys.stdin.readlines()[1:]에서 [1:]이 있는 이유는 첫번째 5번 반복할 것이다라는 값은 제외하기 위함이다.(이 코드에서는 input을 사용하지 않기 때문에 굳이 필요하지 않다.)\n",
    "# 읽어온 값을 x에 넘겨주면 conda에서 계산을 한다.\n",
    "# key값에 따라서 sorted 해주는 것이다.\n",
    "# dots에는 읽어온 값이 저장 되어 있다라고 생각한다.\n",
    "print(''.join(dots))"
   ]
  },
  {
   "attachments": {},
   "cell_type": "markdown",
   "metadata": {},
   "source": [
    "#### 4. input을 사용했다면"
   ]
  },
  {
   "cell_type": "code",
   "execution_count": null,
   "metadata": {},
   "outputs": [],
   "source": [
    "def cond(dot):\n",
    "    x, y = dot.split()\n",
    "    return int(x) + int(y) / 1000000\n",
    "\n",
    "n = int(input())\n",
    "dots = sorted([input() for _ in range(n)], key=lambda x: cond(x))\n",
    "print(''.join(dots))\n"
   ]
  }
 ],
 "metadata": {
  "kernelspec": {
   "display_name": "base",
   "language": "python",
   "name": "python3"
  },
  "language_info": {
   "codemirror_mode": {
    "name": "ipython",
    "version": 3
   },
   "file_extension": ".py",
   "mimetype": "text/x-python",
   "name": "python",
   "nbconvert_exporter": "python",
   "pygments_lexer": "ipython3",
   "version": "3.9.16"
  },
  "orig_nbformat": 4
 },
 "nbformat": 4,
 "nbformat_minor": 2
}
