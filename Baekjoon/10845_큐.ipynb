{
 "cells": [
  {
   "attachments": {},
   "cell_type": "markdown",
   "metadata": {},
   "source": [
    "## 10845 큐\n",
    "https://www.acmicpc.net/problem/10845</br>\n",
    "\n",
    "push: 정수를 큐에 넣는다. 출력하는 값은 없다.</br>\n",
    "\n",
    "pop: 큐의 가장 앞의 정수를 빼고 그 수를 출력한다. 아무것도 없다면 -1을 출력한다.</br>\n",
    "\n",
    "size: 큐에 있는 정수의 개수를 출력한다.</br>\n",
    "\n",
    "empty: 큐이 비어있으면 1, 아니면 0을 출력한다.</br>\n",
    "\n",
    "front: 큐의 가장 앞에 있는 정수를 출력한다. 아무것도 없다면 -1을 출력한다.</br>\n",
    "\n",
    "back: 큐의 가장 뒤에 있는 정수를 출력한다. 아무것도 없다면 -1을 출력한다.\n",
    "\n",
    "<예시></br>\n",
    "<pre>\n",
    "    [입력]          [출력]</br>\n",
    "\n",
    "15             |       \n",
    "push 1         |       \n",
    "push 2         |       \n",
    "front          |       1\n",
    "back           |       2\n",
    "size           |       2\n",
    "empty          |       0\n",
    "pop            |       1\n",
    "pop            |       2\n",
    "pop            |       -1\n",
    "size           |       0\n",
    "pop            |       1\n",
    "push 3         |       -1\n",
    "empyt          |       0\n",
    "front          |       3\n",
    "</pre>"
   ]
  },
  {
   "attachments": {},
   "cell_type": "markdown",
   "metadata": {},
   "source": [
    "### 통과"
   ]
  },
  {
   "cell_type": "code",
   "execution_count": null,
   "metadata": {},
   "outputs": [],
   "source": [
    "import sys\n",
    "\n",
    "n= int(sys.stdin.readline())\n",
    "q= []\n",
    "\n",
    "for _ in range(n):\n",
    "    value= sys.stdin.readline().split()\n",
    "\n",
    "    if value[0] == 'push':\n",
    "        q.append(value[-1])\n",
    "\n",
    "    elif value[0] == 'pop':\n",
    "        print(q.pop(0)) if q else print(-1)\n",
    "\n",
    "    elif value[0] == 'size':\n",
    "        print(len(q))\n",
    "\n",
    "    elif value[0] == 'empty':\n",
    "        print(0) if q else print(1)\n",
    "            \n",
    "    elif value[0] == 'front':\n",
    "        print(q[0]) if q else print(-1)\n",
    "\n",
    "    else:\n",
    "        print(q[-1]) if q else print(-1)"
   ]
  },
  {
   "attachments": {},
   "cell_type": "markdown",
   "metadata": {},
   "source": [
    "### 다른 코드"
   ]
  },
  {
   "cell_type": "code",
   "execution_count": null,
   "metadata": {},
   "outputs": [],
   "source": [
    "from sys import stdin, stdout\n",
    "\n",
    "input= stdin.readline\n",
    "print= stdout.write\n",
    "\n",
    "q= []\n",
    "\n",
    "for _ in range(int(input())):\n",
    "    value= input().rstrip() # 꼭 rstrip이 있어야 하는가? => YES\n",
    "\n",
    "    if value == 'pop':\n",
    "        print(q.pop(0) + '\\n') if q else print('-1\\n')\n",
    "\n",
    "    elif value == 'size':\n",
    "        print(str(len(q)) + '\\n') # len은 꼭 str로 지정해야 되나봐!\n",
    "\n",
    "    elif value == 'empty':\n",
    "        print('0\\n' if q else '1\\n')\n",
    "\n",
    "    elif value == 'front':\n",
    "        print(q[0] + '\\n') if q else print('-1\\n')\n",
    "\n",
    "    elif value == 'back':\n",
    "        print(q[-1] + '\\n') if q else print('-1\\n')\n",
    "\n",
    "    else:\n",
    "        q.append(value.split()[1])"
   ]
  },
  {
   "cell_type": "code",
   "execution_count": null,
   "metadata": {},
   "outputs": [],
   "source": []
  }
 ],
 "metadata": {
  "kernelspec": {
   "display_name": "base",
   "language": "python",
   "name": "python3"
  },
  "language_info": {
   "codemirror_mode": {
    "name": "ipython",
    "version": 3
   },
   "file_extension": ".py",
   "mimetype": "text/x-python",
   "name": "python",
   "nbconvert_exporter": "python",
   "pygments_lexer": "ipython3",
   "version": "3.9.16"
  },
  "orig_nbformat": 4
 },
 "nbformat": 4,
 "nbformat_minor": 2
}
