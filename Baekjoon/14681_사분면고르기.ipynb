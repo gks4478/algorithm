{
 "cells": [
  {
   "attachments": {},
   "cell_type": "markdown",
   "metadata": {},
   "source": [
    "## 14681 사분면 고르기\n",
    "https://www.acmicpc.net/problem/14681\n",
    "\n",
    "- 1사분면 : (+, +)\n",
    "- 2사분면 : (-, +)\n",
    "- 3사분면 : (-, -)\n",
    "- 4사분면 : (+, -)\n",
    "\n",
    "<예시>\n",
    "\n",
    "<pre>\n",
    "[입력]\n",
    "12\n",
    "5\n",
    "[출력]\n",
    "1\n",
    "\n",
    "[입력]\n",
    "9\n",
    "-13\n",
    "[출력]\n",
    "4    \n",
    "</pre>"
   ]
  },
  {
   "cell_type": "code",
   "execution_count": null,
   "metadata": {},
   "outputs": [],
   "source": [
    "# 값을 입력 받는다\n",
    "x= int(input())\n",
    "y= int(input())\n",
    "'''\n",
    "x = 9 \n",
    "y = -13\n",
    "'''\n",
    "\n",
    "# 몇 사분면인지 확인\n",
    "# 1사분면(+, +)\n",
    "if x>0 and y>0:\n",
    "    print(1)\n",
    "# 2사분면(-, +)\n",
    "elif x<0 and y>0:\n",
    "    print(2)\n",
    "# 3사분면(-, -)\n",
    "elif x<0 and y<0:\n",
    "    print(3)\n",
    "# 4사분면(+, -)\n",
    "else:\n",
    "    print(4)\n",
    "'''\n",
    "x > 0 : +\n",
    "y < 0 : -\n",
    "'''"
   ]
  }
 ],
 "metadata": {
  "kernelspec": {
   "display_name": "base",
   "language": "python",
   "name": "python3"
  },
  "language_info": {
   "codemirror_mode": {
    "name": "ipython",
    "version": 3
   },
   "file_extension": ".py",
   "mimetype": "text/x-python",
   "name": "python",
   "nbconvert_exporter": "python",
   "pygments_lexer": "ipython3",
   "version": "3.11.3"
  },
  "orig_nbformat": 4
 },
 "nbformat": 4,
 "nbformat_minor": 2
}
