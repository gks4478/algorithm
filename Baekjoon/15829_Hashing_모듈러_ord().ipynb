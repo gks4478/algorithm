{
 "cells": [
  {
   "attachments": {},
   "cell_type": "markdown",
   "metadata": {},
   "source": [
    "## 15829 Hashing\n",
    "https://www.acmicpc.net/problem/15829</br>\n",
    "\n",
    "해시함수 : 임의 길이를 입력 받아서 고정된 길이의 출력을 내보내는 함수</br>\n",
    "\n",
    "- 영문 소문자만 입력된다고 가정한다.\n",
    "- 각 알파벳에 고유 번호를 부여한다.(a:1, b:2, c:3... z:26)\n",
    "- 하나의 문자열을 수열로 변환할 수 있다.(aab: 112)\n",
    "</br>\n",
    "\n",
    "다른 문자열이라도 동일한 해시값을 가질 수 있어 이를 방지해야 한다.\n",
    "- 항의 번호에 해당하는 만큼 특정한 숫자를 겁듭제곱해서 곱해준 다음 더한다.\n",
    "- r과 M은 서로수인 숫자로 정한다.(r= 31, M= 123456891)\n",
    "\n",
    "<예시></br>\n",
    "abcde: 1*31^0 + 2*31^1 + 3*31^2 + 4*31^3 + 5*31^4</br>\n",
    "       = 1 + 62 + 2883 + 119164 + 4617605 = 4739715\n",
    "<pre>\n",
    "   [입력]              [출력]</br>\n",
    "\n",
    "     5          |       \n",
    "     abcde      |       4739715\n",
    "     3          |       \n",
    "     zzz        |       25818\n",
    "     1          |       \n",
    "     i          |       9\n",
    "</pre>"
   ]
  },
  {
   "attachments": {},
   "cell_type": "markdown",
   "metadata": {},
   "source": [
    "### 1차 시도 : 50점\n",
    "stdin으로 입력값 받았으면 strip()필수임"
   ]
  },
  {
   "cell_type": "code",
   "execution_count": null,
   "metadata": {},
   "outputs": [],
   "source": [
    "from string import ascii_lowercase\n",
    "from sys import stdin\n",
    "input= stdin.readline\n",
    "\n",
    "order= {a : i+1 for i, a in enumerate(ascii_lowercase)}\n",
    "_= int(input())\n",
    "answer= 0\n",
    "for i, c in enumerate(input().strip()):\n",
    "    answer += order[c]*31**i\n",
    "print(answer)"
   ]
  },
  {
   "attachments": {},
   "cell_type": "markdown",
   "metadata": {},
   "source": [
    "### 2차 제출 : 100점 : 모듈러를 해줘야 했음\n",
    "모듈러: 어떤 정수 A를 다른 정수 N으로 나누면 나오는 나머지(A mod N)"
   ]
  },
  {
   "cell_type": "code",
   "execution_count": null,
   "metadata": {},
   "outputs": [],
   "source": [
    "from string import ascii_lowercase # 알파벳 abcdedf..z까지 출력된다.\n",
    "from sys import stdin\n",
    "input= stdin.readline\n",
    "\n",
    "# {a:1, b:2, c:3...z:26}이 되도록 한다.\n",
    "order= {a : i+1 for i, a in enumerate(ascii_lowercase)}\n",
    "_= int(input()) # 필요없는 값이라 _으로 받는다.\n",
    "answer= 0 # 값을 더하기 위한\n",
    "for i, c in enumerate(input().strip()): # strip()필수임\n",
    "    answer += (order[c]*31**i) # 31^i를 곱하도록\n",
    "print(answer%1234567891) # 여기 부분이 A mod N"
   ]
  },
  {
   "attachments": {},
   "cell_type": "markdown",
   "metadata": {},
   "source": [
    "### 다른 사람 코드"
   ]
  },
  {
   "cell_type": "code",
   "execution_count": null,
   "metadata": {},
   "outputs": [],
   "source": [
    "input()\n",
    "print(sum((ord(n)-96)*31**m for m, n in enumerate(input()))%1234567891)"
   ]
  },
  {
   "cell_type": "code",
   "execution_count": 61,
   "metadata": {},
   "outputs": [
    {
     "name": "stdout",
     "output_type": "stream",
     "text": [
      "97\n",
      "1\n",
      "98\n",
      "2\n"
     ]
    }
   ],
   "source": [
    "print(ord('a'))\n",
    "print(ord('a')-96)\n",
    "print(ord('b'))\n",
    "print(ord('b')-96)"
   ]
  }
 ],
 "metadata": {
  "kernelspec": {
   "display_name": "base",
   "language": "python",
   "name": "python3"
  },
  "language_info": {
   "codemirror_mode": {
    "name": "ipython",
    "version": 3
   },
   "file_extension": ".py",
   "mimetype": "text/x-python",
   "name": "python",
   "nbconvert_exporter": "python",
   "pygments_lexer": "ipython3",
   "version": "3.9.16"
  },
  "orig_nbformat": 4
 },
 "nbformat": 4,
 "nbformat_minor": 2
}
