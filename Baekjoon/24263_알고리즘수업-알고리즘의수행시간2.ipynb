{
 "cells": [
  {
   "attachments": {},
   "cell_type": "markdown",
   "metadata": {},
   "source": [
    "## 24263 알고리즘 수업 - 알고리즘의 수행시간 2\n",
    "https://www.acmicpc.net/problem/24263\n",
    "\n",
    "- 시간 복잡도 O(n)\n",
    "\n",
    "<예시>\n",
    "\n",
    "<pre>\n",
    "[입력]\n",
    "7\n",
    "[출력]\n",
    "7\n",
    "1\n",
    "</pre>"
   ]
  },
  {
   "cell_type": "code",
   "execution_count": null,
   "metadata": {},
   "outputs": [],
   "source": [
    "n= int(input())\n",
    "print(n)\n",
    "print(1)"
   ]
  }
 ],
 "metadata": {
  "kernelspec": {
   "display_name": "base",
   "language": "python",
   "name": "python3"
  },
  "language_info": {
   "codemirror_mode": {
    "name": "ipython",
    "version": 3
   },
   "file_extension": ".py",
   "mimetype": "text/x-python",
   "name": "python",
   "nbconvert_exporter": "python",
   "pygments_lexer": "ipython3",
   "version": "3.9.16"
  },
  "orig_nbformat": 4
 },
 "nbformat": 4,
 "nbformat_minor": 2
}
