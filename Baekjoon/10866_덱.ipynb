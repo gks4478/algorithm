{
 "cells": [
  {
   "attachments": {},
   "cell_type": "markdown",
   "metadata": {},
   "source": [
    "## 10866 덱\n",
    "https://www.acmicpc.net/problem/10866</br>\n",
    "\n",
    "push_front 정수: 정수를 덱의 앞에 넣는다. 출력하는 값은 없다.</br>\n",
    "\n",
    "push_back 정수: 정수를 덱의 뒤에 넣는다. 출력하는 값은 없다.</br>\n",
    "\n",
    "pop_front: 덱의 가장 앞에 있는 수를 빼고, 그 수를 출력한다. 아무것도 없으면 -1을 출력한다.</br>\n",
    "\n",
    "pop_back: 덱의 가장 뒤에 있는 수를 빼고, 그 수를 출력한다. 아무것도 없으면 -1을 출력한다.</br>\n",
    "\n",
    "size: 덱에 있는 정수의 개수를 출력한다.</br>\n",
    "\n",
    "empty: 덱이 비어있으면 1, 아니면 0을 출력한다.</br>\n",
    "\n",
    "front: 덱의 가장 앞에 있는 정수를 출력한다. 아무것도 없다면 -1을 출력한다.</br>\n",
    "\n",
    "back: 덱의 가장 뒤에 있는 정수를 출력한다. 아무것도 없다면 -1을 출력한다.\n",
    "\n",
    "<예시></br>\n",
    "<pre>\n",
    "    [입력]          [출력]</br>\n",
    "\n",
    "15             |       \n",
    "push_back 1    |       \n",
    "push_front 2   |       \n",
    "front          |       2\n",
    "back           |       1\n",
    "size           |       2\n",
    "empty          |       0\n",
    "pop_front      |       2\n",
    "pop_back       |       1\n",
    "pop_front      |       -1\n",
    "size           |       0\n",
    "empty          |       1\n",
    "pop_back       |       -1\n",
    "empyt          |       0\n",
    "front          |       3\n",
    "</pre>"
   ]
  },
  {
   "attachments": {},
   "cell_type": "markdown",
   "metadata": {},
   "source": [
    "### 통과"
   ]
  },
  {
   "cell_type": "code",
   "execution_count": 26,
   "metadata": {},
   "outputs": [],
   "source": [
    "from sys import stdin, stdout\n",
    "input= stdin.readline\n",
    "print= stdout.write\n",
    "\n",
    "deque= []\n",
    "\n",
    "for _ in range(int(input())):\n",
    "    value= input().rstrip()\n",
    "\n",
    "    if value == 'pop_front':\n",
    "        print(deque.pop(0) + '\\n') if deque else print('-1\\n')\n",
    "        \n",
    "    elif value == 'pop_back':\n",
    "        print(deque.pop() + '\\n') if deque else print('-1\\n')\n",
    "\n",
    "    elif value == 'size':\n",
    "        print(str(len(deque)) + '\\n')\n",
    "\n",
    "    elif value == 'empty':\n",
    "        print('0\\n' if deque else '1\\n')\n",
    "\n",
    "    elif value == 'front':\n",
    "        print(deque[0] + '\\n') if deque else print('-1\\n')\n",
    "\n",
    "    elif value == 'back':\n",
    "        print(deque[-1] + '\\n') if deque else print('-1\\n')\n",
    "\n",
    "    elif 'push_front' in value:\n",
    "        deque.insert(0, value.split()[1])\n",
    "        \n",
    "    else:\n",
    "        deque.append(value.split()[1])"
   ]
  }
 ],
 "metadata": {
  "kernelspec": {
   "display_name": "base",
   "language": "python",
   "name": "python3"
  },
  "language_info": {
   "codemirror_mode": {
    "name": "ipython",
    "version": 3
   },
   "file_extension": ".py",
   "mimetype": "text/x-python",
   "name": "python",
   "nbconvert_exporter": "python",
   "pygments_lexer": "ipython3",
   "version": "3.9.16"
  },
  "orig_nbformat": 4
 },
 "nbformat": 4,
 "nbformat_minor": 2
}
