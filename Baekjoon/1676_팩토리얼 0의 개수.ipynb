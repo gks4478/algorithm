{
 "cells": [
  {
   "attachments": {},
   "cell_type": "markdown",
   "metadata": {},
   "source": [
    "## 1676 팩토리얼 0의 개수\n",
    "https://www.acmicpc.net/problem/1676</br>\n",
    "N!에서 뒤에서부터 처음 0이 아닌 숫자가 나올 때까지 0의 개수를 구하라\n",
    "<pre>\n",
    "[입력]        [출력]</br>\n",
    "10       |    2\n",
    "3        |    0\n",
    "</pre>\n",
    "예) 15! = 1307674368000 : 3개\n"
   ]
  },
  {
   "cell_type": "code",
   "execution_count": null,
   "metadata": {},
   "outputs": [],
   "source": [
    "import math\n",
    "\n",
    "n= int(input()) # 팩토리얼 구할 값을 입력 받는다.\n",
    "c= 0 # 0 개수 셀 변수 생성\n",
    "for s in str(math.factorial(n))[::-1]:\n",
    "    # 팩토리얼 구하고 문자열로 바꾸고 마지막부터 for문 돌리기\n",
    "    if s == '0': # s가 문자열 0이라면 c에 1을 더하라\n",
    "        c += 1\n",
    "    else:\n",
    "        break # 0이 아니라면 for문 나오기 break\n",
    "print(c)"
   ]
  }
 ],
 "metadata": {
  "kernelspec": {
   "display_name": "base",
   "language": "python",
   "name": "python3"
  },
  "language_info": {
   "codemirror_mode": {
    "name": "ipython",
    "version": 3
   },
   "file_extension": ".py",
   "mimetype": "text/x-python",
   "name": "python",
   "nbconvert_exporter": "python",
   "pygments_lexer": "ipython3",
   "version": "3.9.16"
  },
  "orig_nbformat": 4
 },
 "nbformat": 4,
 "nbformat_minor": 2
}
