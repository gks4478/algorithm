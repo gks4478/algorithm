{
 "cells": [
  {
   "attachments": {},
   "cell_type": "markdown",
   "metadata": {},
   "source": [
    "## 18110 solved.ac\n",
    "https://www.acmicpc.net/problem/18110\n",
    "\n",
    "<예시>\n",
    "\n",
    "<pre>\n",
    "    [입력]              [출력]\n",
    "    \n",
    "      5         |        \n",
    "      1         |        \n",
    "      5         |        \n",
    "      5         |        \n",
    "      7         |        \n",
    "      8         |        6\n",
    "\n",
    "      10        |        \n",
    "      1         |        \n",
    "      13        |        \n",
    "      12        |        \n",
    "      15        |        \n",
    "      3         |        \n",
    "      16        |        \n",
    "      13        |        \n",
    "      12        |        \n",
    "      14        |        \n",
    "      15        |        13\n",
    "     \n",
    "</pre>"
   ]
  },
  {
   "cell_type": "markdown",
   "metadata": {},
   "source": [
    "### 5차 시도 : 성공"
   ]
  },
  {
   "cell_type": "code",
   "execution_count": null,
   "metadata": {},
   "outputs": [],
   "source": [
    "from sys import stdin\n",
    "input= stdin.readline # 이걸로 안받으면 시간초과\n",
    "\n",
    "cnt= int(input())\n",
    "# 만약 0이라면 그냥 바로 0을 출력해버린다.\n",
    "if cnt == 0:\n",
    "    print(0)\n",
    "else:\n",
    "    # 난이도를 입력받고 정렬까지 해준다.\n",
    "    step= sorted([int(input()) for _ in range(cnt)])\n",
    "    # 파이썬의 round는 오사오입이기 때문에 사사오입이 되기 위해서는\n",
    "    # 0.0000001처럼 특정 수를 더해주고 반올림(round)가 진행되어야 한다.\n",
    "    # 사사오입: 4이하는 올림을 하지 않고 5이상은 올림을 한다.\n",
    "    # 오사오입: 5미만은 올림을 하지 않고 5초과는 올림을 한다.\n",
    "    k= round((cnt*0.15)+0.0000001)\n",
    "    # 위 아래 15%의 난이도는 반영하지 않기 위한 반복문이다.\n",
    "    answer= [step[i] for i in range(k, len(step)-k)]\n",
    "    result= (sum(answer)/len(answer)) + 0.0000001\n",
    "    print(round(result))"
   ]
  },
  {
   "cell_type": "markdown",
   "metadata": {},
   "source": [
    "### 다른 사람 코드 : 정말 멋진 코드"
   ]
  },
  {
   "cell_type": "code",
   "execution_count": null,
   "metadata": {},
   "outputs": [],
   "source": [
    "from sys import stdin\n",
    "\n",
    "# 오사오입을 위한 함수\n",
    "def custom_round(x):\n",
    "    return int(x + 0.5)\n",
    "\n",
    "n, *lst= map(int, stdin.read().strip().split())\n",
    "# read() : 문자를 읽어와서\n",
    "# strip() : 양 끝 공백을 제거하고 \n",
    "# split() : 문자열을 공백을 기준으로 나누어 리스트로 변환한다.(공백이 있나?)\n",
    "# n, *lst : 입력된 첫 번재 정수를 저장하고 lst에 나머지 정수를 리스트로 저장한다.\n",
    "# (*가 나머지 정수들을 lst에 할당하는 기능을 한다.)\n",
    "lst.sort() # 정렬\n",
    "k= custom_round(lst * 0.15)\n",
    "print(custom_round(sum(lst[k:n-k])/(n-2*k)) if n else 0)\n",
    "# lst[k:n-k] 내 코드의 반복문 부분이다.. 쉽다 증말\n",
    "# n-2*k는 몇개의 난이도 투표(?)를 더했나 하는 것 *2는 30%를 반으로 나눠서 제외했으니 당연한것\n",
    "# n이 0이면 그냥 0을 출력한다.\n",
    "# 정말 멋진 코드다 정말.."
   ]
  }
 ],
 "metadata": {
  "kernelspec": {
   "display_name": "base",
   "language": "python",
   "name": "python3"
  },
  "language_info": {
   "codemirror_mode": {
    "name": "ipython",
    "version": 3
   },
   "file_extension": ".py",
   "mimetype": "text/x-python",
   "name": "python",
   "nbconvert_exporter": "python",
   "pygments_lexer": "ipython3",
   "version": "3.9.16"
  },
  "orig_nbformat": 4
 },
 "nbformat": 4,
 "nbformat_minor": 2
}
