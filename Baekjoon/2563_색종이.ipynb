{
 "cells": [
  {
   "attachments": {},
   "cell_type": "markdown",
   "metadata": {},
   "source": [
    "## 2563 색종이\n",
    "https://www.acmicpc.net/problem/2563\n",
    "\n",
    "- 100x100 도화지에 색종이 1~100장을 붙인다\n",
    "- 겹치는 부분을 제외하고 색종이가 차지하는 면적은 얼마나 되는가\n",
    "\n",
    "<예시>\n",
    "\n",
    "<pre>\n",
    "[입력]\n",
    "3\n",
    "3 7\n",
    "15 7\n",
    "5 2\n",
    "[출력]\n",
    "260\n",
    "</pre>"
   ]
  },
  {
   "cell_type": "code",
   "execution_count": 75,
   "metadata": {},
   "outputs": [],
   "source": [
    "from sys import stdin\n",
    "input= stdin.readline\n",
    "\n",
    "paper= [[0]*100 for _ in range(100)]\n",
    "\n",
    "for _ in range(int(input())):\n",
    "    x,y = map(int, input().split())\n",
    "    x -= 1; y -= 1\n",
    "    for i in range(10):\n",
    "        for j in range(10):\n",
    "            paper[x+i][y+j]= 1\n",
    "\n",
    "result= 0\n",
    "for i in paper:\n",
    "    result += sum(i)\n",
    "print(result)"
   ]
  }
 ],
 "metadata": {
  "kernelspec": {
   "display_name": "base",
   "language": "python",
   "name": "python3"
  },
  "language_info": {
   "codemirror_mode": {
    "name": "ipython",
    "version": 3
   },
   "file_extension": ".py",
   "mimetype": "text/x-python",
   "name": "python",
   "nbconvert_exporter": "python",
   "pygments_lexer": "ipython3",
   "version": "3.9.16"
  },
  "orig_nbformat": 4
 },
 "nbformat": 4,
 "nbformat_minor": 2
}
