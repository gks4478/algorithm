{
 "cells": [
  {
   "attachments": {},
   "cell_type": "markdown",
   "metadata": {},
   "source": [
    "## 9375 패션왕 신해빈\n",
    "https://www.acmicpc.net/problem/9375\n",
    "\n",
    "<예시>\n",
    "\n",
    "<pre>\n",
    "[입력]\n",
    "2\n",
    "3\n",
    "hat headgear\n",
    "sunglasses eyewear\n",
    "turban headgear\n",
    "3\n",
    "mask face\n",
    "sunglasses face\n",
    "makeup face\n",
    "\n",
    "[출력]\n",
    "5\n",
    "3     \n",
    "</pre>"
   ]
  },
  {
   "cell_type": "markdown",
   "metadata": {},
   "source": [
    "### 7차 시도 : 성공\n",
    "입력받는 방식이 틀렸었다.. 4번의 런타임 에러.."
   ]
  },
  {
   "cell_type": "code",
   "execution_count": null,
   "metadata": {},
   "outputs": [],
   "source": [
    "from collections import Counter\n",
    "\n",
    "for _ in range(int(input())): # 전체 반복\n",
    "    wear= [] # 옷 종류 저장\n",
    "    for _ in range(int(input())): # 문제 반복\n",
    "        # 4번 런타임 에러의 문제의 구간\n",
    "        a,b = input().split() # 한줄씩 입력받아서\n",
    "        wear.append(b) # 필요한 값만 저장한다.\n",
    "        '''\n",
    "            옷 이름은 필요가 없고 종류가 중요한 거니까\n",
    "            옷 이름은 제외하고 저장한다.\n",
    "            => ['headgear', 'eyewear', 'headgear']\n",
    "        '''\n",
    "        \n",
    "    wear= Counter(wear) # 각 값이 몇개가 있는지 카운트\n",
    "    # => Counter({'headgear': 2, 'eyewear': 1})\n",
    "\n",
    "    answer= 1\n",
    "    for i in wear:\n",
    "        answer *= (wear[i]+1)\n",
    "        '''\n",
    "            각 부분을 입지않을 경우도 있으니까 +1을 더해서 곱한다.\n",
    "            {'headgear': 2 + 입지 않는다, 'eyewear':1 + 입지 않는다}\n",
    "            answer = 3*2 (경우의 수 구하는 방식)\n",
    "        '''\n",
    "    print(answer-1) \n",
    "    '''\n",
    "        알몸이 되는 경우는 제외한다.('문제에서 알몸이 아닌 상태로..' 라는 조건을 걸었다)\n",
    "        'headgear'의 입지 않는다 + 'eyewear'의 입지 않는다가 만나는 경우\n",
    "    '''"
   ]
  }
 ],
 "metadata": {
  "kernelspec": {
   "display_name": "base",
   "language": "python",
   "name": "python3"
  },
  "language_info": {
   "codemirror_mode": {
    "name": "ipython",
    "version": 3
   },
   "file_extension": ".py",
   "mimetype": "text/x-python",
   "name": "python",
   "nbconvert_exporter": "python",
   "pygments_lexer": "ipython3",
   "version": "3.9.16"
  },
  "orig_nbformat": 4
 },
 "nbformat": 4,
 "nbformat_minor": 2
}
