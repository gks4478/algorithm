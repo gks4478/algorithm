{
 "cells": [
  {
   "attachments": {},
   "cell_type": "markdown",
   "metadata": {},
   "source": [
    "## 5622 다이얼\n",
    "https://www.acmicpc.net/problem/5622\n",
    "\n",
    "- 숫자1을 걸려면 총 2초가 필요하다\n",
    "- 한칸 옆에 있는 숫자를 걸려면 1초씩 더 걸린다\n",
    "- 2~9 숫자를 사용한다\n",
    "\n",
    "<예시>\n",
    "\n",
    "<pre>\n",
    "[입력]\n",
    "WA\n",
    "[출력]\n",
    "13\n",
    "[입력]\n",
    "UNUCIC\n",
    "[출력]\n",
    "36\n",
    "</pre>"
   ]
  },
  {
   "cell_type": "code",
   "execution_count": null,
   "metadata": {},
   "outputs": [],
   "source": [
    "from sys import stdin\n",
    "input= stdin.readline\n",
    "\n",
    "input_str= input().rstrip()\n",
    "time= 0\n",
    "for i in input_str:\n",
    "    if i == 'A' or i == 'B' or i == 'C':\n",
    "        time += 3\n",
    "    elif i == 'D' or i == 'E' or i == 'F':\n",
    "        time += 4\n",
    "    elif i == 'G' or i == 'H' or i == 'I':\n",
    "        time += 5\n",
    "    elif i == 'J' or i == 'K' or i == 'L':\n",
    "        time += 6\n",
    "    elif i == 'M' or i == 'N' or i == 'O':\n",
    "        time += 7\n",
    "    elif i == 'P' or i == 'Q' or i == 'R' or i == 'S':\n",
    "        time += 8\n",
    "    elif i == 'T' or i == 'U' or i == 'V':\n",
    "        time += 9\n",
    "    else:\n",
    "        time += 10\n",
    "print(time)"
   ]
  }
 ],
 "metadata": {
  "kernelspec": {
   "display_name": "base",
   "language": "python",
   "name": "python3"
  },
  "language_info": {
   "codemirror_mode": {
    "name": "ipython",
    "version": 3
   },
   "file_extension": ".py",
   "mimetype": "text/x-python",
   "name": "python",
   "nbconvert_exporter": "python",
   "pygments_lexer": "ipython3",
   "version": "3.9.16"
  },
  "orig_nbformat": 4
 },
 "nbformat": 4,
 "nbformat_minor": 2
}
