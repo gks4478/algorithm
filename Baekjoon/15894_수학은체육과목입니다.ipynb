{
 "cells": [
  {
   "attachments": {},
   "cell_type": "markdown",
   "metadata": {},
   "source": [
    "## 15894 수학은 체육과목 입니다\n",
    "https://www.acmicpc.net/problem/15894\n",
    "\n",
    "<예시>\n",
    "\n",
    "<pre>\n",
    "[입력]\n",
    "1\n",
    "[출력]\n",
    "4\n",
    "\n",
    "[입력]\n",
    "3\n",
    "[출력]\n",
    "4\n",
    "</pre>"
   ]
  },
  {
   "cell_type": "code",
   "execution_count": null,
   "metadata": {},
   "outputs": [],
   "source": [
    "from sys import stdin\n",
    "input= stdin.readline\n",
    "\n",
    "print(int(input()) * 4)"
   ]
  }
 ],
 "metadata": {
  "kernelspec": {
   "display_name": "base",
   "language": "python",
   "name": "python3"
  },
  "language_info": {
   "codemirror_mode": {
    "name": "ipython",
    "version": 3
   },
   "file_extension": ".py",
   "mimetype": "text/x-python",
   "name": "python",
   "nbconvert_exporter": "python",
   "pygments_lexer": "ipython3",
   "version": "3.9.16"
  },
  "orig_nbformat": 4
 },
 "nbformat": 4,
 "nbformat_minor": 2
}
