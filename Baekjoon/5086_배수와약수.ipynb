{
 "cells": [
  {
   "attachments": {},
   "cell_type": "markdown",
   "metadata": {},
   "source": [
    "## 5086 배수와 약수\n",
    "https://www.acmicpc.net/problem/5086\n",
    "\n",
    "- 첫번째 숫자가 두번째 숫자의 약수이다 -> factor\n",
    "- 첫번째 숫자가 두번째 숫자의 배수이다 -> multiple\n",
    "- 첫번째 숫자가 두번째 숫자의 약수와 배수 모두 아니다 -> neither\n",
    "\n",
    "<예시>\n",
    "\n",
    "<pre>\n",
    "[입력]\n",
    "8 16\n",
    "32 4\n",
    "17 5\n",
    "0 0\n",
    "[출력]\n",
    "factor\n",
    "multiple\n",
    "neither\n",
    "</pre>"
   ]
  },
  {
   "cell_type": "code",
   "execution_count": null,
   "metadata": {},
   "outputs": [],
   "source": [
    "from sys import stdin\n",
    "input= stdin.readline\n",
    "\n",
    "while True:\n",
    "    a,b = map(int, input().split())\n",
    "\n",
    "    if a==0 and b==0:\n",
    "        break\n",
    "    elif a%b == 0:\n",
    "        print('multiple')\n",
    "    elif b%a == 0:\n",
    "        print('factor')\n",
    "    else:\n",
    "        print('neither')"
   ]
  }
 ],
 "metadata": {
  "kernelspec": {
   "display_name": "base",
   "language": "python",
   "name": "python3"
  },
  "language_info": {
   "codemirror_mode": {
    "name": "ipython",
    "version": 3
   },
   "file_extension": ".py",
   "mimetype": "text/x-python",
   "name": "python",
   "nbconvert_exporter": "python",
   "pygments_lexer": "ipython3",
   "version": "3.9.16"
  },
  "orig_nbformat": 4
 },
 "nbformat": 4,
 "nbformat_minor": 2
}
