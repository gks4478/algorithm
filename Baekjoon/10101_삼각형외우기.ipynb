{
 "cells": [
  {
   "attachments": {},
   "cell_type": "markdown",
   "metadata": {},
   "source": [
    "## 10101 삼각형 외우기\n",
    "https://www.acmicpc.net/problem/10101\n",
    "\n",
    "- 세 각의 크기가 모두 60이면, Equilateral\n",
    "- 세 각의 합이 180이고, 두 각이 같은 경우에는 Isosceles\n",
    "- 세 각의 합이 180이고, 같은 각이 없는 경우에는 Scalene\n",
    "- 세 각의 합이 180이 아닌 경우에는 Error\n",
    "\n",
    "<예시>\n",
    "\n",
    "<pre>\n",
    "[입력]\n",
    "60\n",
    "70\n",
    "50\n",
    "[출력]\n",
    "Scalene\n",
    "</pre>"
   ]
  },
  {
   "cell_type": "code",
   "execution_count": null,
   "metadata": {},
   "outputs": [],
   "source": [
    "from sys import stdin\n",
    "input= stdin.readline\n",
    "\n",
    "a= int(input())\n",
    "b= int(input())\n",
    "c= int(input())\n",
    "\n",
    "# 세 각의 크기가 모두 60이면, Equilateral\n",
    "if a == b == c == 60:\n",
    "    print('Equilateral')\n",
    "# 세 각의 합이 180이고, 두 각이 같은 경우에는 Isosceles\n",
    "elif (a + b + c == 180) and (a == b or a == c or b == c):\n",
    "    print('Isosceles')\n",
    "# 세 각의 합이 180이고, 같은 각이 없는 경우에는 Scalene\n",
    "elif (a + b + c == 180) and (a != b != c):\n",
    "    print('Scalene')\n",
    "# 세 각의 합이 180이 아닌 경우에는 Error\n",
    "else:\n",
    "    print('Error')"
   ]
  }
 ],
 "metadata": {
  "kernelspec": {
   "display_name": "base",
   "language": "python",
   "name": "python3"
  },
  "language_info": {
   "codemirror_mode": {
    "name": "ipython",
    "version": 3
   },
   "file_extension": ".py",
   "mimetype": "text/x-python",
   "name": "python",
   "nbconvert_exporter": "python",
   "pygments_lexer": "ipython3",
   "version": "3.9.16"
  },
  "orig_nbformat": 4
 },
 "nbformat": 4,
 "nbformat_minor": 2
}
