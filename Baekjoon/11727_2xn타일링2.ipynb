{
 "cells": [
  {
   "attachments": {},
   "cell_type": "markdown",
   "metadata": {},
   "source": [
    "## 2xn 타일링2\n",
    "https://www.acmicpc.net/problem/11727\n",
    "\n",
    "<예시>\n",
    "\n",
    "<pre>\n",
    "[입력]\n",
    "2\n",
    "[출력]\n",
    "3\n",
    "\n",
    "[입력]\n",
    "8\n",
    "[출력]\n",
    "121\n",
    "\n",
    "[입력]\n",
    "12\n",
    "[출력]\n",
    "2731\n",
    "</pre>"
   ]
  },
  {
   "cell_type": "markdown",
   "metadata": {},
   "source": [
    "### 1차 시도 : 성공\n",
    "https://yogigung.tistory.com/128\n",
    "문제 풀이는 여기 참조"
   ]
  },
  {
   "cell_type": "code",
   "execution_count": 7,
   "metadata": {},
   "outputs": [
    {
     "name": "stdout",
     "output_type": "stream",
     "text": [
      "5\n"
     ]
    }
   ],
   "source": [
    "# from sys import stdin\n",
    "# input= stdin.readline\n",
    "\n",
    "n= int(input())\n",
    "dp= [0, 1, 3]\n",
    "\n",
    "if n == 1 or n == 2: \n",
    "    print(dp[n] % 10007)\n",
    "else:\n",
    "    for i in range(3, n+1):\n",
    "        dp.append(dp[i-1] + 2*(dp[i-2]))\n",
    "    print(dp[-1] % 10007)"
   ]
  }
 ],
 "metadata": {
  "kernelspec": {
   "display_name": "base",
   "language": "python",
   "name": "python3"
  },
  "language_info": {
   "codemirror_mode": {
    "name": "ipython",
    "version": 3
   },
   "file_extension": ".py",
   "mimetype": "text/x-python",
   "name": "python",
   "nbconvert_exporter": "python",
   "pygments_lexer": "ipython3",
   "version": "3.9.16"
  },
  "orig_nbformat": 4
 },
 "nbformat": 4,
 "nbformat_minor": 2
}
