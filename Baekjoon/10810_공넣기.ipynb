{
 "cells": [
  {
   "attachments": {},
   "cell_type": "markdown",
   "metadata": {},
   "source": [
    "## 10810 공 넣기\n",
    "https://www.acmicpc.net/problem/10810\n",
    "\n",
    "- 바구니를 N개 가지고 있다\n",
    "- 각 바구니에 1번 ~ N번까지 번호가 붙는다\n",
    "- 처음 바구니에는 공이 들어있지 않고 바구니에 공을 1개만 넣을 수 있다\n",
    "- M번 공을 넣을 건데 넣을 바구니에 모두 같은 번호 공을 넣어야 한다\n",
    "- 근데 이미 공이 있으면 그 공을 빼고 새 공을 넣어야 한다\n",
    "\n",
    "<예시>\n",
    "\n",
    "<pre>\n",
    "[입력]\n",
    "5 4\n",
    "1 2 3\n",
    "3 4 4\n",
    "1 4 1\n",
    "2 2 2\n",
    "[출력]\n",
    "1 2 1 1 0\n",
    "</pre>"
   ]
  },
  {
   "cell_type": "code",
   "execution_count": null,
   "metadata": {},
   "outputs": [],
   "source": [
    "bucket, n = map(int, input().split())\n",
    "bucket_list= [0] * bucket\n",
    "'''\n",
    "bucket = 5, n = 4\n",
    "bucket_list = [0, 0, 0, 0, 0]\n",
    "'''\n",
    "\n",
    "for _ in range(n):\n",
    "    first, last, ball_num = map(int, input().split())\n",
    "    for i in range(first-1, last):\n",
    "        bucket_list[i]= ball_num\n",
    "        '''\n",
    "        first = 1, last = 2, ball_num = 3\n",
    "        bucket_list[0],[1] = 3\n",
    "\n",
    "        first = 3, last = 4, ball_num = 4\n",
    "        bucket_list[2],[3] = 4\n",
    "\n",
    "        first = 1, last = 4, ball_num = 1\n",
    "        bucket_list[0],[3] = 1\n",
    "\n",
    "        first = 2, last = 2, ball_num = 2\n",
    "        bucket_list[1] = 2\n",
    "        '''\n",
    "        \n",
    "print(*bucket_list)\n",
    "'''\n",
    "bucket_list = [1, 2, 1, 1, 0]\n",
    "'''"
   ]
  }
 ],
 "metadata": {
  "kernelspec": {
   "display_name": "base",
   "language": "python",
   "name": "python3"
  },
  "language_info": {
   "codemirror_mode": {
    "name": "ipython",
    "version": 3
   },
   "file_extension": ".py",
   "mimetype": "text/x-python",
   "name": "python",
   "nbconvert_exporter": "python",
   "pygments_lexer": "ipython3",
   "version": "3.9.16"
  },
  "orig_nbformat": 4
 },
 "nbformat": 4,
 "nbformat_minor": 2
}
