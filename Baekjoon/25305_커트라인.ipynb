{
 "cells": [
  {
   "attachments": {},
   "cell_type": "markdown",
   "metadata": {},
   "source": [
    "## 25305 커트라인\n",
    "https://www.acmicpc.net/problem/25305\n",
    "\n",
    "- 대회에 n명이 참여하고 k명이 수상을 한다\n",
    "- 몇점부터 수상을 할 수 있는지 점수를 출력한다\n",
    "\n",
    "<예시>\n",
    "\n",
    "<pre>\n",
    "[입력]\n",
    "5 2\n",
    "100 76 85 93 98\n",
    "[출력]\n",
    "98\n",
    "</pre>"
   ]
  },
  {
   "cell_type": "markdown",
   "metadata": {},
   "source": [
    "# 방법1. sort사용"
   ]
  },
  {
   "cell_type": "code",
   "execution_count": null,
   "metadata": {},
   "outputs": [],
   "source": [
    "n, k= map(int, input().split())\n",
    "score= sorted(list(map(int, input().split())), reverse=True)\n",
    "\n",
    "print(score[k-1])"
   ]
  },
  {
   "cell_type": "code",
   "execution_count": null,
   "metadata": {},
   "outputs": [],
   "source": [
    "'''java\n",
    "import java.util.Arrays;\n",
    "import java.util.Comparator;\n",
    "import java.util.Scanner;\n",
    "\n",
    "public class Main {\n",
    "    public static void main(String[] args) {\n",
    "        Scanner sc= new Scanner(System.in);\n",
    "\n",
    "        int n= sc.nextInt();\n",
    "        int k= sc.nextInt();\n",
    "        Integer[] score= new Integer[n];\n",
    "\n",
    "        for (int i=0; i<n; i++){\n",
    "            score[i]= sc.nextInt();\n",
    "        }\n",
    "\n",
    "        Arrays.sort(score, Comparator.reverseOrder());\n",
    "\n",
    "        System.out.println(score[k-1]);\n",
    "    }\n",
    "}\n",
    "'''"
   ]
  },
  {
   "cell_type": "markdown",
   "metadata": {},
   "source": [
    "# 방법2. 버블정렬 사용"
   ]
  },
  {
   "cell_type": "code",
   "execution_count": null,
   "metadata": {},
   "outputs": [],
   "source": [
    "n, k= map(int, input().split())\n",
    "score= list(map(int, input().split()))\n",
    "\n",
    "for i in range(1, n):\n",
    "    for j in range(n-i):\n",
    "        a= score[j]\n",
    "        if a<score[j+1]:\n",
    "            score[j]= score[j+1]\n",
    "            score[j+1]= a\n",
    "print(score[k-1])"
   ]
  },
  {
   "cell_type": "code",
   "execution_count": null,
   "metadata": {},
   "outputs": [],
   "source": [
    "'''java\n",
    "import java.util.Scanner;\n",
    "\n",
    "public class Main {\n",
    "    public static void main(String[] args) {\n",
    "        Scanner sc= new Scanner(System.in);\n",
    "\n",
    "        int n= sc.nextInt();\n",
    "        int k= sc.nextInt();\n",
    "        int[] score= new int[n];\n",
    "\n",
    "        for (int i=0; i<n; i++){\n",
    "            score[i]= sc.nextInt();\n",
    "        }\n",
    "\n",
    "        for (int i=1; i<n; i++){\n",
    "            for (int j=0; j<n-1; j++){\n",
    "                int a= score[j];\n",
    "                if (a<score[j+1]){\n",
    "                    score[j]= score[j+1];\n",
    "                    score[j+1]= a;\n",
    "                }\n",
    "            }\n",
    "        }\n",
    "\n",
    "        System.out.println(score[k-1]);\n",
    "    }\n",
    "}\n",
    "'''"
   ]
  }
 ],
 "metadata": {
  "kernelspec": {
   "display_name": "base",
   "language": "python",
   "name": "python3"
  },
  "language_info": {
   "codemirror_mode": {
    "name": "ipython",
    "version": 3
   },
   "file_extension": ".py",
   "mimetype": "text/x-python",
   "name": "python",
   "nbconvert_exporter": "python",
   "pygments_lexer": "ipython3",
   "version": "3.9.16"
  },
  "orig_nbformat": 4
 },
 "nbformat": 4,
 "nbformat_minor": 2
}
