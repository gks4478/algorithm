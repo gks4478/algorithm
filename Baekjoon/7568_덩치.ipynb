{
 "cells": [
  {
   "attachments": {},
   "cell_type": "markdown",
   "metadata": {},
   "source": [
    "## 7568 덩치\n",
    "https://www.acmicpc.net/problem/7568\n",
    "\n",
    "(몸무게, 키)일 때 키와 몸무게가 모두 커야만 덩치가 크다고 할 수 있다.\n",
    "\n",
    "예시를 통해 작동을 알아본자.\n",
    "\n",
    "<예시>\n",
    "\n",
    "<pre>\n",
    "    [입력]              [출력]\n",
    "\n",
    "      5         |       \n",
    "  (55, 185)     |     2 2 1 2 5  \n",
    "  (58, 183)     |       \n",
    "  (88, 186)     |       \n",
    "  (60, 175)     |       \n",
    "  (46, 155)     |       \n",
    "</pre>"
   ]
  },
  {
   "attachments": {},
   "cell_type": "markdown",
   "metadata": {},
   "source": [
    "### 1차 시도 : 성공"
   ]
  },
  {
   "cell_type": "code",
   "execution_count": 18,
   "metadata": {},
   "outputs": [],
   "source": [
    "from sys import stdin\n",
    "input= stdin.readline\n",
    "\n",
    "xy= [list(map(int, input().split())) for _ in range(int(input()))]\n",
    "answer= []\n",
    "\n",
    "for i in range(len(xy)):\n",
    "    cnt= 0\n",
    "    for j in range(len(xy)):\n",
    "        # xy에서 본인보다 큰 값이 있으면 +1을 해준다.\n",
    "        if xy[i][0] < xy[j][0] and xy[i][1] < xy[j][1]:\n",
    "            cnt += 1\n",
    "    answer.append(str(cnt + 1))\n",
    "\n",
    "print(' '.join(answer))"
   ]
  }
 ],
 "metadata": {
  "kernelspec": {
   "display_name": "base",
   "language": "python",
   "name": "python3"
  },
  "language_info": {
   "codemirror_mode": {
    "name": "ipython",
    "version": 3
   },
   "file_extension": ".py",
   "mimetype": "text/x-python",
   "name": "python",
   "nbconvert_exporter": "python",
   "pygments_lexer": "ipython3",
   "version": "3.9.16"
  },
  "orig_nbformat": 4
 },
 "nbformat": 4,
 "nbformat_minor": 2
}
