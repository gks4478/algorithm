{
 "cells": [
  {
   "attachments": {},
   "cell_type": "markdown",
   "metadata": {},
   "source": [
    "## 10813 공 바꾸기\n",
    "https://www.acmicpc.net/problem/10813\n",
    "\n",
    "- 바구니 총 n개를 가지고 있고 각 바구니에는 1~n까지의 번호가 매겨져 있다\n",
    "- 그리고 각 바구니에 해당하는 번호의 공이 하나씩 들어있다\n",
    "- m번 바구니에 들어있는 공의 위치를 바꾼다\n",
    "\n",
    "<예시>\n",
    "\n",
    "<pre>\n",
    "[입력]\n",
    "5 4\n",
    "1 2\n",
    "3 4\n",
    "1 4\n",
    "2 2\n",
    "[출력]\n",
    "3 1 4 2 5\n",
    "     \n",
    "</pre>"
   ]
  },
  {
   "cell_type": "code",
   "execution_count": 35,
   "metadata": {},
   "outputs": [
    {
     "name": "stdout",
     "output_type": "stream",
     "text": [
      "3 1 4 2 5\n"
     ]
    }
   ],
   "source": [
    "from sys import stdin\n",
    "input= stdin.readline\n",
    "\n",
    "n, m = map(int, input().split())\n",
    "n_list= [i for i in range(1, n+1)]\n",
    "\n",
    "for _ in range(m):\n",
    "    i, j = map(int, input().split())\n",
    "    i_v, j_v = n_list[i-1], n_list[j-1]\n",
    "    n_list[j-1], n_list[i-1] = i_v, j_v\n",
    "\n",
    "print(*n_list)"
   ]
  }
 ],
 "metadata": {
  "kernelspec": {
   "display_name": "base",
   "language": "python",
   "name": "python3"
  },
  "language_info": {
   "codemirror_mode": {
    "name": "ipython",
    "version": 3
   },
   "file_extension": ".py",
   "mimetype": "text/x-python",
   "name": "python",
   "nbconvert_exporter": "python",
   "pygments_lexer": "ipython3",
   "version": "3.9.16"
  },
  "orig_nbformat": 4
 },
 "nbformat": 4,
 "nbformat_minor": 2
}
