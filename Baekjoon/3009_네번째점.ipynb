{
 "cells": [
  {
   "attachments": {},
   "cell_type": "markdown",
   "metadata": {},
   "source": [
    "## 3009 네 번째 점\n",
    "https://www.acmicpc.net/problem/3009\n",
    "\n",
    "- 세 점이 주어졌을 때 축에 평행한 직사각형을 만들기 위해서 필요한 네 번째 점을 찾아라\n",
    "\n",
    "<예시>\n",
    "\n",
    "<pre>\n",
    "[입력]\n",
    "5 5\n",
    "5 7\n",
    "7 5\n",
    "[출력]\n",
    "7 7\n",
    "\n",
    "[입력]\n",
    "30 20\n",
    "10 10\n",
    "10 20\n",
    "[출력]\n",
    "30 10\n",
    "</pre>"
   ]
  },
  {
   "cell_type": "code",
   "execution_count": 15,
   "metadata": {},
   "outputs": [],
   "source": [
    "from sys import stdin\n",
    "input= stdin.readline\n",
    "\n",
    "x,y= map(int, input().split())\n",
    "a= [x]\n",
    "b= [y]\n",
    "\n",
    "for _ in range(2):\n",
    "    x,y = map(int, input().split())\n",
    "    if x in a:\n",
    "        a.remove(x)\n",
    "    else:\n",
    "        a.append(x)\n",
    "    \n",
    "    if y in b:\n",
    "        b.remove(y)\n",
    "    else:\n",
    "        b.append(y)\n",
    "\n",
    "print(a[0], b[0])"
   ]
  },
  {
   "cell_type": "code",
   "execution_count": 17,
   "metadata": {},
   "outputs": [
    {
     "name": "stdout",
     "output_type": "stream",
     "text": [
      "30 10\n"
     ]
    }
   ],
   "source": []
  }
 ],
 "metadata": {
  "kernelspec": {
   "display_name": "base",
   "language": "python",
   "name": "python3"
  },
  "language_info": {
   "codemirror_mode": {
    "name": "ipython",
    "version": 3
   },
   "file_extension": ".py",
   "mimetype": "text/x-python",
   "name": "python",
   "nbconvert_exporter": "python",
   "pygments_lexer": "ipython3",
   "version": "3.9.16"
  },
  "orig_nbformat": 4
 },
 "nbformat": 4,
 "nbformat_minor": 2
}
