{
 "cells": [
  {
   "attachments": {},
   "cell_type": "markdown",
   "metadata": {},
   "source": [
    "## 2xn 타일링\n",
    "https://www.acmicpc.net/problem/11726\n",
    "\n",
    "<예시>\n",
    "\n",
    "<pre>\n",
    "[입력]\n",
    "2\n",
    "9\n",
    "\n",
    "[출력]\n",
    "2\n",
    "55\n",
    "     \n",
    "</pre>"
   ]
  },
  {
   "cell_type": "markdown",
   "metadata": {},
   "source": [
    "### 2차 시도 : 성공\n",
    "\n",
    "규칙은 여기에 정리되어 있다\n",
    "\n",
    "확인해보자\n",
    "\n",
    "https://yogigung.tistory.com/127"
   ]
  },
  {
   "cell_type": "code",
   "execution_count": null,
   "metadata": {},
   "outputs": [],
   "source": [
    "from sys import stdin\n",
    "input= stdin.readline\n",
    "\n",
    "n= int(input().rstrip())\n",
    "dp= [0, 1, 2, 3]\n",
    "\n",
    "if n in dp:\n",
    "    print(dp[n]%10007)\n",
    "else:\n",
    "    for i in range(4, n+1):\n",
    "        dp.append(dp[i-2] + dp[i-1])\n",
    "    print(dp[n]%10007)"
   ]
  }
 ],
 "metadata": {
  "kernelspec": {
   "display_name": "base",
   "language": "python",
   "name": "python3"
  },
  "language_info": {
   "codemirror_mode": {
    "name": "ipython",
    "version": 3
   },
   "file_extension": ".py",
   "mimetype": "text/x-python",
   "name": "python",
   "nbconvert_exporter": "python",
   "pygments_lexer": "ipython3",
   "version": "3.9.16"
  },
  "orig_nbformat": 4
 },
 "nbformat": 4,
 "nbformat_minor": 2
}
