{
 "cells": [
  {
   "attachments": {},
   "cell_type": "markdown",
   "metadata": {},
   "source": [
    "## 11866 문제\n",
    "https://www.acmicpc.net/problem/11866</br>\n",
    "- 1번부터 n번까지 n명의 사람이 원을 이루고 앉아있고 k가 주어진다.</br>\n",
    "- 순서대로 k번째 사람을 제거한다.\n",
    "- 한 사람이 제거되면 남은 사람들로 이루어진 원을 따라 이 과정을 계속한다.\n",
    "- n명의 사람이 제거될때가지 계속한다.\n",
    "- 이걸 요세푸스순열이라고 한다.\n",
    "\n",
    "<예시></br>\n",
    "<pre>\n",
    "[입력]              [출력]</br>\n",
    "7 3         |       <3, 6, 2, 7, 5, 1, 4>\n",
    "</pre>"
   ]
  },
  {
   "cell_type": "code",
   "execution_count": null,
   "metadata": {},
   "outputs": [],
   "source": [
    "# import sys\n",
    "# n, k= map(int, sys.stdin.readline().split())\n",
    "\n",
    "n, k= map(int, input().split()) # 값을 입력받는다.\n",
    "arr= [i for i in range(1, n+1)] # 1~n까지의 리스트 생성\n",
    "\n",
    "answer= [] # 값을 저장할 빈 리스트 생성\n",
    "cnt= 0 # 넘길? cnt설정\n",
    "\n",
    "for _ in range(n):\n",
    "    cnt += k-1 # k-1씩 인덱스를 넘긴다.\n",
    "    if cnt >= len(arr): # 만약 cnt의 값이  arr이 길이보다 길다면\n",
    "        cnt= cnt%len(arr) # 나머지의 값을 cnt로 해라\n",
    "\n",
    "    answer.append(str(arr.pop(cnt))) # arr에는 값을 삭제하고 answer에는 값을 저장한다.\n",
    "\n",
    "print('<' + ', '.join(answer) + '>') # 정수는 join이 안되기 때문에 문자열로 저장한다."
   ]
  }
 ],
 "metadata": {
  "kernelspec": {
   "display_name": "base",
   "language": "python",
   "name": "python3"
  },
  "language_info": {
   "codemirror_mode": {
    "name": "ipython",
    "version": 3
   },
   "file_extension": ".py",
   "mimetype": "text/x-python",
   "name": "python",
   "nbconvert_exporter": "python",
   "pygments_lexer": "ipython3",
   "version": "3.9.16"
  },
  "orig_nbformat": 4
 },
 "nbformat": 4,
 "nbformat_minor": 2
}
