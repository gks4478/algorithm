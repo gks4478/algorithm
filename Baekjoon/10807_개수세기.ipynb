{
 "cells": [
  {
   "attachments": {},
   "cell_type": "markdown",
   "metadata": {},
   "source": [
    "## 10807 개수 세기\n",
    "https://www.acmicpc.net/problem/10807\n",
    "\n",
    "- 총 N개의 정수가 주어졌을 때 정수 v가 몇 개인지 구하라\n",
    "\n",
    "<예시>\n",
    "\n",
    "<pre>\n",
    "[입력]\n",
    "11\n",
    "1 4 1 2 4 2 4 2 3 4 4\n",
    "2\n",
    "[출력]\n",
    "3\n",
    "\n",
    "[입력]\n",
    "11\n",
    "1 4 1 2 4 2 4 2 3 4 4\n",
    "5\n",
    "[출력]\n",
    "0\n",
    "</pre>"
   ]
  },
  {
   "cell_type": "code",
   "execution_count": 11,
   "metadata": {},
   "outputs": [],
   "source": [
    "from sys import stdin\n",
    "input= stdin.readline\n",
    "\n",
    "_= int(input())\n",
    "num= list(map(int, input().split()))\n",
    "find= int(input())\n",
    "\n",
    "result= 0\n",
    "for i in num:\n",
    "    if i == find:\n",
    "        result += 1\n",
    "print(result)"
   ]
  }
 ],
 "metadata": {
  "kernelspec": {
   "display_name": "base",
   "language": "python",
   "name": "python3"
  },
  "language_info": {
   "codemirror_mode": {
    "name": "ipython",
    "version": 3
   },
   "file_extension": ".py",
   "mimetype": "text/x-python",
   "name": "python",
   "nbconvert_exporter": "python",
   "pygments_lexer": "ipython3",
   "version": "3.9.16"
  },
  "orig_nbformat": 4
 },
 "nbformat": 4,
 "nbformat_minor": 2
}
