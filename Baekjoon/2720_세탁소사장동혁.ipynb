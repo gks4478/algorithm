{
 "cells": [
  {
   "attachments": {},
   "cell_type": "markdown",
   "metadata": {},
   "source": [
    "## 2720 세탁소 사장 동혁\n",
    "https://www.acmicpc.net/problem/2720\n",
    "\n",
    "- 손님이 받는 동전의 개수를 최소로 하는 거스름돈을 줘라\n",
    "\n",
    "<예시>\n",
    "\n",
    "<pre>\n",
    "[입력]\n",
    "3\n",
    "124\n",
    "25\n",
    "194\n",
    "[출력]\n",
    "4 2 0 4\n",
    "1 0 0 0\n",
    "7 1 1 4\n",
    "</pre>"
   ]
  },
  {
   "cell_type": "code",
   "execution_count": 8,
   "metadata": {},
   "outputs": [
    {
     "name": "stdout",
     "output_type": "stream",
     "text": [
      "4 24\n",
      "2 4\n",
      "0 4\n",
      "4 0\n"
     ]
    }
   ],
   "source": [
    "# 1.24달러\n",
    "# 쿼터(0.25) : 4\n",
    "# 다임(0.10) : 2\n",
    "# 니켈(0.05) : 0\n",
    "# 페니(0.01) : 4\n",
    "\n",
    "print(124//25, 124%25)\n",
    "print(24//10, 24%10)\n",
    "print(4//5, 4%5)\n",
    "print(4//1, 4%1)"
   ]
  },
  {
   "cell_type": "code",
   "execution_count": null,
   "metadata": {},
   "outputs": [],
   "source": [
    "from sys import stdin\n",
    "input= stdin.readline\n",
    "\n",
    "for _ in range(int(input())):\n",
    "    money= int(input())\n",
    "    print(money//25, (money%25)//10, ((money%25)%10)//5, (((money%25)%10)%5)//1)"
   ]
  }
 ],
 "metadata": {
  "kernelspec": {
   "display_name": "base",
   "language": "python",
   "name": "python3"
  },
  "language_info": {
   "codemirror_mode": {
    "name": "ipython",
    "version": 3
   },
   "file_extension": ".py",
   "mimetype": "text/x-python",
   "name": "python",
   "nbconvert_exporter": "python",
   "pygments_lexer": "ipython3",
   "version": "3.9.16"
  },
  "orig_nbformat": 4
 },
 "nbformat": 4,
 "nbformat_minor": 2
}
