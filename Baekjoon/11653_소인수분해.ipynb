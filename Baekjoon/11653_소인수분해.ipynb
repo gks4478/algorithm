{
 "cells": [
  {
   "attachments": {},
   "cell_type": "markdown",
   "metadata": {},
   "source": [
    "## 11653 소인수분해\n",
    "https://www.acmicpc.net/problem/11653\n",
    "\n",
    "- 정수 n의 소인수분해를 해라\n",
    "\n",
    "<예시>\n",
    "\n",
    "<pre>\n",
    "[입력]\n",
    "72\n",
    "[출력]\n",
    "2\n",
    "2\n",
    "2\n",
    "3\n",
    "3\n",
    "\n",
    "[입력]\n",
    "9991\n",
    "[출력]\n",
    "97\n",
    "103\n",
    "</pre>"
   ]
  },
  {
   "cell_type": "code",
   "execution_count": null,
   "metadata": {},
   "outputs": [],
   "source": [
    "from sys import stdin\n",
    "input= stdin.readline\n",
    "\n",
    "n= int(input())\n",
    "\n",
    "for i in range(2, n+1):\n",
    "    while n%i == 0:\n",
    "        print(i)\n",
    "        n= n//i\n",
    "\n",
    "        if n == 1:\n",
    "            break\n",
    "\n",
    "    if n == 1:\n",
    "        break"
   ]
  },
  {
   "cell_type": "markdown",
   "metadata": {},
   "source": [
    "### 다른 사람 풀이"
   ]
  },
  {
   "cell_type": "code",
   "execution_count": null,
   "metadata": {},
   "outputs": [],
   "source": [
    "n= int(input())\n",
    "for i in range(2, int(n**(0.5))+2):\n",
    "    while n%i == 0:\n",
    "        print(i)\n",
    "        n //= i\n",
    "        \n",
    "if n!= 1:\n",
    "    print(n)"
   ]
  }
 ],
 "metadata": {
  "kernelspec": {
   "display_name": "base",
   "language": "python",
   "name": "python3"
  },
  "language_info": {
   "codemirror_mode": {
    "name": "ipython",
    "version": 3
   },
   "file_extension": ".py",
   "mimetype": "text/x-python",
   "name": "python",
   "nbconvert_exporter": "python",
   "pygments_lexer": "ipython3",
   "version": "3.9.16"
  },
  "orig_nbformat": 4
 },
 "nbformat": 4,
 "nbformat_minor": 2
}
