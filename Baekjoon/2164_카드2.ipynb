{
 "cells": [
  {
   "attachments": {},
   "cell_type": "markdown",
   "metadata": {},
   "source": [
    "## 2164 문제\n",
    "https://www.acmicpc.net/problem/2164</br>\n",
    "\n",
    "n의 카드가 있을 때 1번 카드가 제일 위에,n의 카드가 제일 아래에 있다. 1번카드는 버리고 1번 아래에 있던 카드는 가장 아래로 옮기고 다시 1번 카드를 버리고를 반복하여 카드가 1장만 남았을 때 그 카드의 번호를 출력하라</br>\n",
    "\n",
    "예) n이 4라면 1234 -> 234 -> 342 -> 42 -> 24 -> 4</br>\n",
    "\n",
    "<예시></br>\n",
    "<pre>\n",
    "[입력]              [출력]</br>\n",
    "6           |       4\n",
    "</pre>"
   ]
  },
  {
   "attachments": {},
   "cell_type": "markdown",
   "metadata": {},
   "source": [
    "### 1차 시도 : 시간 초과"
   ]
  },
  {
   "cell_type": "code",
   "execution_count": 27,
   "metadata": {},
   "outputs": [],
   "source": [
    "n= [i for i in range(1, int(input())+1)]\n",
    "\n",
    "while True:\n",
    "    if len(n) == 1:\n",
    "        print(n[-1])\n",
    "        break\n",
    "    elif len(n) == 2:\n",
    "        del n[0]\n",
    "        print(n[-1])\n",
    "        break\n",
    "    else:\n",
    "        n.append(n[1]); del n[1]; del n[0]\n"
   ]
  },
  {
   "attachments": {},
   "cell_type": "markdown",
   "metadata": {},
   "source": [
    "### 2차 시도 : 시간 초과\n",
    "input 때문은 아니었음</br>\n",
    "while루푸가 n의 크기에 비례해서 증가하기 때문이다</br>\n",
    "del은 시간 복잡도 O(N) 이다.</br>\n",
    "deque.popleft의 시간 복잡도는 O(1) 이다.</br>\n",
    "참고: https://wayhome25.github.io/python/2017/06/14/time-complexity/</br></br>\n",
    "<시간복잡도></br>\n",
    "- O(1) : 입력값 크기와 상관없이 즉시 출력값을 얻을 수 있다.\n",
    "- O(N) : 입력값이 증가함에 따라 같은 비율로 시간이 늘어난다. 즉 값이 커질수록 시간이 오래 걸린다."
   ]
  },
  {
   "cell_type": "code",
   "execution_count": 23,
   "metadata": {},
   "outputs": [],
   "source": [
    "n= list(range(1, int(input())+1))\n",
    "\n",
    "# import sys\n",
    "# n= int(sys.stdin.readline())\n",
    "# arr= [i+1 for i in range(n)]\n",
    "\n",
    "while len(n) > 1:\n",
    "    n.append(n[1])\n",
    "    del n[0]\n",
    "    del n[0]\n",
    "\n",
    "print(n[0])"
   ]
  },
  {
   "attachments": {},
   "cell_type": "markdown",
   "metadata": {},
   "source": [
    "### 4차 시도 : 성공"
   ]
  },
  {
   "attachments": {},
   "cell_type": "markdown",
   "metadata": {},
   "source": [
    "##### deque와 input을 사용\n",
    "시간: 212ms"
   ]
  },
  {
   "cell_type": "code",
   "execution_count": 22,
   "metadata": {},
   "outputs": [
    {
     "name": "stdout",
     "output_type": "stream",
     "text": [
      "4\n"
     ]
    }
   ],
   "source": [
    "from collections import deque\n",
    "\n",
    "n= int(input())\n",
    "deq= deque(list(range(1, n+1)))\n",
    "\n",
    "while len(deq) > 1:\n",
    "    deq.popleft() # 첫번째 숫자 삭제\n",
    "    deq.append(deq.popleft()) # 삭제된 deq에서 첫번째 숫자를 append\n",
    "\n",
    "print(deq.pop()) # 정수로 출력하기 위해서"
   ]
  },
  {
   "attachments": {},
   "cell_type": "markdown",
   "metadata": {},
   "source": [
    "##### deque와 sys.stdin.readline() 사용\n",
    "시간 : 228ms"
   ]
  },
  {
   "cell_type": "code",
   "execution_count": null,
   "metadata": {},
   "outputs": [],
   "source": [
    "import sys\n",
    "from collections import deque\n",
    "\n",
    "n= int(sys.stdin.readline())\n",
    "deq= deque(list(range(1, n+1)))\n",
    "\n",
    "while len(deq) > 1:\n",
    "    deq.popleft() # 첫번째 숫자 삭제\n",
    "    deq.append(deq.popleft()) # 삭제된 deq에서 첫번째 숫자를 append\n",
    "\n",
    "print(deq.pop()) # 정수로 출력하기 위해서"
   ]
  },
  {
   "attachments": {},
   "cell_type": "markdown",
   "metadata": {},
   "source": [
    "### 규칙을 이용한거라는데 나는 한참 멀었다.."
   ]
  },
  {
   "cell_type": "code",
   "execution_count": null,
   "metadata": {},
   "outputs": [],
   "source": [
    "n, m= int(input()), 1\n",
    "while n > m:\n",
    "    m *= 2\n",
    "    \n",
    "print(2*n - m)"
   ]
  },
  {
   "attachments": {},
   "cell_type": "markdown",
   "metadata": {},
   "source": [
    "### list와 deque 비교"
   ]
  },
  {
   "attachments": {},
   "cell_type": "markdown",
   "metadata": {},
   "source": [
    "#### 1) append"
   ]
  },
  {
   "cell_type": "code",
   "execution_count": 3,
   "metadata": {},
   "outputs": [
    {
     "name": "stdout",
     "output_type": "stream",
     "text": [
      "['a', 'b', 'c', 'd']\n",
      "deque(['a', 'b', 'c', 'd'])\n"
     ]
    }
   ],
   "source": [
    "# list 사용\n",
    "lst= ['a', 'b', 'c']\n",
    "lst.append('d')\n",
    "print(lst)\n",
    "\n",
    "# deque\n",
    "from collections import deque\n",
    "deq= deque(['a', 'b', 'c'])\n",
    "deq.append('d')\n",
    "print(deq)"
   ]
  },
  {
   "attachments": {},
   "cell_type": "markdown",
   "metadata": {},
   "source": [
    "#### 2) appendleft(x)"
   ]
  },
  {
   "cell_type": "code",
   "execution_count": 5,
   "metadata": {},
   "outputs": [
    {
     "name": "stdout",
     "output_type": "stream",
     "text": [
      "deque(['d', 'a', 'b', 'c'])\n"
     ]
    }
   ],
   "source": [
    "from collections import deque\n",
    "\n",
    "deq= deque(['a','b','c'])\n",
    "deq.appendleft('d')\n",
    "print(deq)"
   ]
  },
  {
   "attachments": {},
   "cell_type": "markdown",
   "metadata": {},
   "source": [
    "#### 3) extend"
   ]
  },
  {
   "cell_type": "code",
   "execution_count": 6,
   "metadata": {},
   "outputs": [
    {
     "name": "stdout",
     "output_type": "stream",
     "text": [
      "['a', 'b', 'c', 'd']\n",
      "deque(['a', 'b', 'c', 'd'])\n"
     ]
    }
   ],
   "source": [
    "# list\n",
    "lst= ['a', 'b', 'c']\n",
    "lst.extend('d')\n",
    "print(lst)\n",
    "\n",
    "# deque\n",
    "from collections import deque\n",
    "deq= deque(['a', 'b', 'c'])\n",
    "deq.extend('d')\n",
    "print(deq)"
   ]
  },
  {
   "attachments": {},
   "cell_type": "markdown",
   "metadata": {},
   "source": [
    "##### 3-1) list의 append vs extend"
   ]
  },
  {
   "cell_type": "code",
   "execution_count": 8,
   "metadata": {},
   "outputs": [
    {
     "name": "stdout",
     "output_type": "stream",
     "text": [
      "['a', 'b', 'c', 'd', 'ef']\n",
      "['a', 'b', 'c', 'd', 'e', 'f']\n"
     ]
    }
   ],
   "source": [
    "lst1= ['a', 'b', 'c', 'd']\n",
    "lst2= ['a', 'b', 'c', 'd']\n",
    "\n",
    "lst1.append('ef')\n",
    "lst2.extend('ef')\n",
    "\n",
    "print(lst1)\n",
    "print(lst2)"
   ]
  },
  {
   "attachments": {},
   "cell_type": "markdown",
   "metadata": {},
   "source": [
    "#### 4) extendleft"
   ]
  },
  {
   "cell_type": "code",
   "execution_count": 10,
   "metadata": {},
   "outputs": [
    {
     "name": "stdout",
     "output_type": "stream",
     "text": [
      "deque(['e', 'd', 'a', 'b', 'c'])\n"
     ]
    }
   ],
   "source": [
    "from collections import deque\n",
    "\n",
    "deq= deque(['a', 'b', 'c'])\n",
    "deq.extendleft('de')\n",
    "print(deq)"
   ]
  },
  {
   "attachments": {},
   "cell_type": "markdown",
   "metadata": {},
   "source": [
    "#### 5) pop()"
   ]
  },
  {
   "cell_type": "code",
   "execution_count": 13,
   "metadata": {},
   "outputs": [
    {
     "name": "stdout",
     "output_type": "stream",
     "text": [
      "c b a \n",
      "c b a "
     ]
    }
   ],
   "source": [
    "# list\n",
    "lst= ['a', 'b', 'c']\n",
    "while True:\n",
    "    try:\n",
    "        print(lst.pop(), end= ' ') # 삭제되는 순서대로 출력\n",
    "    except IndexError:\n",
    "        break\n",
    "print()\n",
    "# deque\n",
    "deq= deque(['a', 'b', 'c'])\n",
    "while True:\n",
    "    try:\n",
    "        print(deq.pop(), end= ' ')\n",
    "    except IndexError:\n",
    "        break"
   ]
  },
  {
   "attachments": {},
   "cell_type": "markdown",
   "metadata": {},
   "source": [
    "#### 6) popleft()"
   ]
  },
  {
   "cell_type": "code",
   "execution_count": 14,
   "metadata": {},
   "outputs": [
    {
     "name": "stdout",
     "output_type": "stream",
     "text": [
      "a b c "
     ]
    }
   ],
   "source": [
    "deq= deque(['a', 'b', 'c'])\n",
    "while True:\n",
    "    try:\n",
    "        print(deq.popleft(), end= ' ')\n",
    "    except IndexError:\n",
    "        break"
   ]
  },
  {
   "attachments": {},
   "cell_type": "markdown",
   "metadata": {},
   "source": [
    "#### 7) rotate()\n",
    "요소들을 값 만큼 회전 해준다.</br>\n",
    "음수면 왼쪽으로 회전, 양수이면 오른쪽으로 회전"
   ]
  },
  {
   "cell_type": "code",
   "execution_count": 16,
   "metadata": {},
   "outputs": [
    {
     "name": "stdout",
     "output_type": "stream",
     "text": [
      "e a b c d\n",
      "d e a b c\n",
      "b c d e a\n",
      "c d e a b\n"
     ]
    }
   ],
   "source": [
    "from collections import deque\n",
    "\n",
    "deq= deque(['a', 'b', 'c', 'd', 'e'])\n",
    "deq.rotate(1)\n",
    "print(' '.join(deq))\n",
    "\n",
    "deq2= deque(['a', 'b', 'c', 'd', 'e'])\n",
    "deq2.rotate(2)\n",
    "print(' '.join(deq2))\n",
    "\n",
    "deq3= deque(['a', 'b', 'c', 'd', 'e'])\n",
    "deq3.rotate(-1)\n",
    "print(' '.join(deq3))\n",
    "\n",
    "deq4= deque(['a', 'b', 'c', 'd', 'e'])\n",
    "deq4.rotate(-2)\n",
    "print(' '.join(deq4))"
   ]
  }
 ],
 "metadata": {
  "kernelspec": {
   "display_name": "base",
   "language": "python",
   "name": "python3"
  },
  "language_info": {
   "codemirror_mode": {
    "name": "ipython",
    "version": 3
   },
   "file_extension": ".py",
   "mimetype": "text/x-python",
   "name": "python",
   "nbconvert_exporter": "python",
   "pygments_lexer": "ipython3",
   "version": "3.9.16"
  },
  "orig_nbformat": 4
 },
 "nbformat": 4,
 "nbformat_minor": 2
}
