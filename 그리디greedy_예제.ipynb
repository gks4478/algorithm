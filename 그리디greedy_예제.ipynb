{
 "cells": [
  {
   "cell_type": "markdown",
   "metadata": {},
   "source": [
    "## 그리디 Greedy\n",
    "<pre>\n",
    "현재 상황에서 지금 당장 좋은 것만 고르는 방법이다.\n",
    "\n",
    "매 순간 가장 좋아 보이는 것만 선택하고, 현재의 선택이 나중에 미칠 영향에 대해서는 고려하지 않는다.\n",
    "\n",
    "아래 블로그에서 그래프 그림으로 확인해 본다.\n",
    "https://velog.io/@cha-suyeon/%EC%95%8C%EA%B3%A0%EB%A6%AC%EC%A6%98-%EA%B7%B8%EB%A6%AC%EB%94%94Greedy-%EC%95%8C%EA%B3%A0%EB%A6%AC%EC%A6%98%EA%B3%BC-%EC%98%88%EC%A0%9C-%ED%8C%8C%EC%9D%B4%EC%8D%AC\n",
    "\n",
    "\n",
    "\n",
    "\n",
    "</pre>"
   ]
  },
  {
   "cell_type": "markdown",
   "metadata": {},
   "source": [
    "### 예제\n",
    "\n",
    "거스름돈 500원, 100원, 50원, 10원짜리 동전이 무한히 있다.\n",
    "\n",
    "손님에게 거슬러줘야 할 돈이 N원일 때 거슬러 줘야 할 동전의 최소 개수는?\n",
    "\n",
    "(단, 거슬러 줘야 할 돈 N은 항상 10의 배수이다.)"
   ]
  },
  {
   "cell_type": "code",
   "execution_count": 16,
   "metadata": {},
   "outputs": [
    {
     "name": "stdout",
     "output_type": "stream",
     "text": [
      "6\n"
     ]
    }
   ],
   "source": [
    "# 이 코드는 블로그에 나와 있는 코드\n",
    "n= 1260\n",
    "coin_cnt= 0\n",
    "\n",
    "coin_type= [500, 100, 50, 10]\n",
    "\n",
    "for coin in coin_type:\n",
    "    coin_cnt += n // coin # 해당 화폐로 거슬러 줄 수 있는 동전의 개수 세기\n",
    "    # 1260 // 500 = 2\n",
    "    # 260 // 100 = 2\n",
    "    # 60 // 50 = 1\n",
    "    # 10 // 10 = 1\n",
    "    n %= coin\n",
    "    # 1260 % 500 = 260\n",
    "    # 260 % 100 = 60\n",
    "    # 60 % 50 = 10\n",
    "    # 10 % 10 = 0\n",
    "\n",
    "print(coin_cnt)"
   ]
  },
  {
   "cell_type": "code",
   "execution_count": 5,
   "metadata": {},
   "outputs": [
    {
     "name": "stdout",
     "output_type": "stream",
     "text": [
      "6\n"
     ]
    }
   ],
   "source": [
    "# 이 코드는 그냥 내가 생각한 코드\n",
    "n= 1260 # 그냥 조건이 항상 10의 배수이다.\n",
    "coin_cnt= 0\n",
    "\n",
    "money= [500, 100, 50, 10]\n",
    "\n",
    "for m in money:\n",
    "    while n >= m:\n",
    "        n -= m\n",
    "        coin_cnt += 1\n",
    "\n",
    "print(coin_cnt)"
   ]
  }
 ],
 "metadata": {
  "kernelspec": {
   "display_name": "base",
   "language": "python",
   "name": "python3"
  },
  "language_info": {
   "codemirror_mode": {
    "name": "ipython",
    "version": 3
   },
   "file_extension": ".py",
   "mimetype": "text/x-python",
   "name": "python",
   "nbconvert_exporter": "python",
   "pygments_lexer": "ipython3",
   "version": "3.9.16"
  },
  "orig_nbformat": 4
 },
 "nbformat": 4,
 "nbformat_minor": 2
}
