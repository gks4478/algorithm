{
 "cells": [
  {
   "attachments": {},
   "cell_type": "markdown",
   "metadata": {},
   "source": [
    "### 1. 버블 정렬\n",
    "\n",
    "https://www.daleseo.com/sort-bubble/\n",
    "\n",
    "<예제></br>\n",
    "[4, 3, 5, 1, 2]\n",
    "\n",
    "pass1</br>\n",
    "[3, 4, 5, 1, 2]</br>\n",
    "[3, 4, 1, 5, 2]</br>\n",
    "[3, 4, 1, 2, 5]\n",
    "\n",
    "pass2</br>\n",
    "[3, 1, 4, 2, 5]</br>\n",
    "[3, 1, 2, 4, 5]\n",
    "\n",
    "pass3</br>\n",
    "[1, 3, 2, 4, 5]</br>\n",
    "[1, 2, 3, 4, 5]\n"
   ]
  },
  {
   "cell_type": "code",
   "execution_count": 161,
   "metadata": {},
   "outputs": [],
   "source": [
    "def bubble_sort(li):\n",
    "    cnt= 0\n",
    "    # li전부를 검사했는데 대소가 맞지않는 값이 나오지 않으면 반복문을 나온다.\n",
    "    # 무한 반복 안걸릴려면 len(li)-1 해야됨\n",
    "    while cnt < len(li)-1:\n",
    "        cnt= 0\n",
    "        for i in range(len(li)):\n",
    "            # i+1하면 인덱스 오류나니까\n",
    "            try:\n",
    "                # 앞에 값이 뒤에 값보다 크면\n",
    "                if li[i] > li[i+1]:\n",
    "                    # 앞 인덱스에는 뒤의 값을, 뒤 인덱스에는 앞의 값을 넣는다.\n",
    "                    li[i], li[i+1] = li[i+1], li[i]\n",
    "                else:\n",
    "                    # 대소가 잘 맞는다면 확인했음을 위해 +1\n",
    "                    # +1을 해서 li전부를 검사했는지 확인\n",
    "                    cnt += 1\n",
    "            # 인덱스 오류나면\n",
    "            except:\n",
    "                continue\n",
    "    \n",
    "    return li"
   ]
  },
  {
   "cell_type": "code",
   "execution_count": 162,
   "metadata": {},
   "outputs": [
    {
     "data": {
      "text/plain": [
       "[17, 26, 31, 54, 77, 93]"
      ]
     },
     "execution_count": 162,
     "metadata": {},
     "output_type": "execute_result"
    }
   ],
   "source": [
    "li = [54, 26, 93, 17, 77, 31]\n",
    "bubble_sort(li)"
   ]
  },
  {
   "attachments": {},
   "cell_type": "markdown",
   "metadata": {},
   "source": [
    "### 2. 삽입정렬\n",
    "\n",
    "https://code-lab1.tistory.com/22\n",
    "\n",
    "- 두 번째 원소부터 시작해서 그 앞의 원소들과 비교하여 삽입할 위치를 지정한 후 원소를 뒤로 옮기고 지정된 자리에 자료를 삽입하여 정렬\n",
    "\n",
    "- 자세한 구현 내용은 위 블로그 참고"
   ]
  },
  {
   "cell_type": "code",
   "execution_count": 164,
   "metadata": {},
   "outputs": [],
   "source": [
    "def insertion_sort(li):\n",
    "    # 두번재 원소부터 시작하니까\n",
    "    for i in range(1, len(li)):\n",
    "        # 앞의 원소들을 비교해야 하니까 i번째까지 반복\n",
    "        # 원래라면 range(i-1, -1, -1)으로 하면 중간에 값이 바뀌어 제대로 되지 않음\n",
    "        # 하지만 과정은 필요없고 결과만 필요한거니까 앞에서부터 값을 바꾼다.\n",
    "        for j in range(i):\n",
    "            if li[i] < li[j]:\n",
    "                li[i], li[j] = li[j], li[i]\n",
    "                \n",
    "    return li"
   ]
  },
  {
   "cell_type": "code",
   "execution_count": 165,
   "metadata": {},
   "outputs": [
    {
     "data": {
      "text/plain": [
       "[17, 26, 31, 54, 77, 93]"
      ]
     },
     "execution_count": 165,
     "metadata": {},
     "output_type": "execute_result"
    }
   ],
   "source": [
    "li = [54, 26, 93, 17, 77, 31]\n",
    "insertion_sort(li)"
   ]
  },
  {
   "attachments": {},
   "cell_type": "markdown",
   "metadata": {},
   "source": [
    "### 3. 선택정렬\n",
    "\n",
    "https://ssdragon.tistory.com/110\n",
    "\n",
    "- 주어진 리스트 중 최소값을 찾는다.\n",
    "\n",
    "- 그 값을 맨 앞에 위치한 값과 교체한다.\n",
    "\n",
    "- 맨 처음 위치를 뺀 나머지 리스트를 같은 방법으로 교체한다.\n",
    "\n",
    "- 자세한 내용은 블로그 참고"
   ]
  },
  {
   "cell_type": "code",
   "execution_count": 167,
   "metadata": {},
   "outputs": [],
   "source": [
    "def selection_sort(li):\n",
    "    for i in range(len(li)):\n",
    "        # 가장 작은 값을 찾아야 하니까\n",
    "        # 검사하려는 숫자를 가장 작은 값으로 둔다.\n",
    "        min= li[i]\n",
    "        # 인덱스 초기화 필수!\n",
    "        min_indx= i\n",
    "        # 찾고하는 값 다음 부터 작은값이 있는지 확인하면 되니까\n",
    "        for j in range(i, len(li)):\n",
    "            # 앞에서 검사한 값보다 작으면\n",
    "            if min > li[j]:\n",
    "                # min을 바꾸고\n",
    "                min= li[j]\n",
    "                # 인덱스 값도 바꾼다.\n",
    "                min_indx= j\n",
    "\n",
    "        # 검사하려는 값이 검사하려는 값 뒤의 가장 작은 값보다 크면\n",
    "        if li[i] > li[min_indx]:\n",
    "            # 이렇게 바꾼다\n",
    "            li[i], li[min_indx] = li[min_indx], li[i]\n",
    "    \n",
    "    return li"
   ]
  },
  {
   "cell_type": "code",
   "execution_count": 168,
   "metadata": {},
   "outputs": [
    {
     "data": {
      "text/plain": [
       "[17, 26, 31, 54, 77, 93]"
      ]
     },
     "execution_count": 168,
     "metadata": {},
     "output_type": "execute_result"
    }
   ],
   "source": [
    "li = [54, 26, 93, 17, 77, 31]\n",
    "selection_sort(li)"
   ]
  }
 ],
 "metadata": {
  "kernelspec": {
   "display_name": "base",
   "language": "python",
   "name": "python3"
  },
  "language_info": {
   "codemirror_mode": {
    "name": "ipython",
    "version": 3
   },
   "file_extension": ".py",
   "mimetype": "text/x-python",
   "name": "python",
   "nbconvert_exporter": "python",
   "pygments_lexer": "ipython3",
   "version": "3.9.16"
  },
  "orig_nbformat": 4
 },
 "nbformat": 4,
 "nbformat_minor": 2
}
