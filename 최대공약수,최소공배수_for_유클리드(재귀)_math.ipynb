{
 "cells": [
  {
   "attachments": {},
   "cell_type": "markdown",
   "metadata": {},
   "source": [
    "### 1. for문으로 최대공약수, 최대공배수 구하기"
   ]
  },
  {
   "attachments": {},
   "cell_type": "markdown",
   "metadata": {},
   "source": [
    "#### 최대공약수"
   ]
  },
  {
   "cell_type": "code",
   "execution_count": 86,
   "metadata": {},
   "outputs": [
    {
     "name": "stdout",
     "output_type": "stream",
     "text": [
      "2\n"
     ]
    }
   ],
   "source": [
    "a, b= 10, 12\n",
    "for i in range(min(a,b), 0, -1):\n",
    "    if a%i == 0 and b%i == 0:\n",
    "        print(i)\n",
    "        break"
   ]
  },
  {
   "attachments": {},
   "cell_type": "markdown",
   "metadata": {},
   "source": [
    "#### 최소공배수"
   ]
  },
  {
   "cell_type": "code",
   "execution_count": 88,
   "metadata": {},
   "outputs": [
    {
     "name": "stdout",
     "output_type": "stream",
     "text": [
      "60\n"
     ]
    }
   ],
   "source": [
    "a,b= 10, 12\n",
    "for i in range(max(a,b), (a*b)+1):\n",
    "    if i%a == 0 and i%b == 0:\n",
    "        print(i)\n",
    "        break"
   ]
  },
  {
   "attachments": {},
   "cell_type": "markdown",
   "metadata": {},
   "source": [
    "### 2. 유클리드 호제법으로 최대공약수, 최대공배수 구하기 + 재귀\n",
    "<pre>\n",
    "<유클리드 호제법>\n",
    "\n",
    "    a      b    r\n",
    "    10  %  12 = 10\n",
    "    12  %  10 = 2\n",
    "    10  %  2  = 0 (0이 되면 최소공약수는 2)\n",
    "\n",
    "    152 %  68 = 16\n",
    "    68  %  16 = 4\n",
    "    16  %  4  = 0 (최소공약수= 4)    \n",
    "</pre>\n",
    "\n",
    "- 최소공약수는 유클리드 호제법으로 구한다.(자세한 내용은 아래 블로그 참고)</br>\n",
    "https://codingpractices.tistory.com/34</br>\n",
    "\n",
    "- 최소공배수는 (a*b // 최소공약수) 이다."
   ]
  },
  {
   "attachments": {},
   "cell_type": "markdown",
   "metadata": {},
   "source": [
    "#### 그냥"
   ]
  },
  {
   "cell_type": "code",
   "execution_count": 31,
   "metadata": {},
   "outputs": [
    {
     "name": "stdout",
     "output_type": "stream",
     "text": [
      "2\n",
      "60\n"
     ]
    }
   ],
   "source": [
    "a,b= 10, 12\n",
    "# 최소공약수\n",
    "def GCD(a,b):\n",
    "    while a%b != 0:\n",
    "        a,b= b, a%b\n",
    "    return b\n",
    "\n",
    "print(GCD(a,b))\n",
    "\n",
    "# 최소공배수\n",
    "def LCM(a,b):\n",
    "    return (a*b)//GCD(a,b)\n",
    "\n",
    "print(LCM(a,b))"
   ]
  },
  {
   "attachments": {},
   "cell_type": "markdown",
   "metadata": {},
   "source": [
    "#### 재귀"
   ]
  },
  {
   "cell_type": "code",
   "execution_count": 22,
   "metadata": {},
   "outputs": [],
   "source": [
    "def factor(a,b):\n",
    "    if a % b == 0:\n",
    "        return b\n",
    "    else:\n",
    "        a,b= b, a%b\n",
    "        return factor(a,b)"
   ]
  },
  {
   "attachments": {},
   "cell_type": "markdown",
   "metadata": {},
   "source": [
    "#### 최대공약수"
   ]
  },
  {
   "cell_type": "code",
   "execution_count": 27,
   "metadata": {},
   "outputs": [
    {
     "data": {
      "text/plain": [
       "2"
      ]
     },
     "execution_count": 27,
     "metadata": {},
     "output_type": "execute_result"
    }
   ],
   "source": [
    "a, b= 10, 12\n",
    "c= factor(a,b)\n",
    "c"
   ]
  },
  {
   "attachments": {},
   "cell_type": "markdown",
   "metadata": {},
   "source": [
    "#### 최소공배수"
   ]
  },
  {
   "cell_type": "code",
   "execution_count": 28,
   "metadata": {},
   "outputs": [
    {
     "name": "stdout",
     "output_type": "stream",
     "text": [
      "60\n"
     ]
    }
   ],
   "source": [
    "a,b= 10, 12\n",
    "print(a*b//c)"
   ]
  },
  {
   "attachments": {},
   "cell_type": "markdown",
   "metadata": {},
   "source": [
    "### 3. math 라이브러리(gcd, lcm)"
   ]
  },
  {
   "cell_type": "code",
   "execution_count": 32,
   "metadata": {},
   "outputs": [
    {
     "name": "stdout",
     "output_type": "stream",
     "text": [
      "2\n",
      "60\n"
     ]
    }
   ],
   "source": [
    "from math import gcd, lcm\n",
    "\n",
    "a,b= 10, 12\n",
    "\n",
    "# 최대공약수\n",
    "print(gcd(a,b))\n",
    "\n",
    "# 최소공배수\n",
    "print(lcm(a,b))"
   ]
  }
 ],
 "metadata": {
  "kernelspec": {
   "display_name": "base",
   "language": "python",
   "name": "python3"
  },
  "language_info": {
   "codemirror_mode": {
    "name": "ipython",
    "version": 3
   },
   "file_extension": ".py",
   "mimetype": "text/x-python",
   "name": "python",
   "nbconvert_exporter": "python",
   "pygments_lexer": "ipython3",
   "version": "3.9.16"
  },
  "orig_nbformat": 4
 },
 "nbformat": 4,
 "nbformat_minor": 2
}
