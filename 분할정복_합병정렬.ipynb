{
 "cells": [
  {
   "attachments": {},
   "cell_type": "markdown",
   "metadata": {},
   "source": [
    "### 1. 분할 정복\n",
    "https://www.daleseo.com/sort-quick/"
   ]
  },
  {
   "cell_type": "code",
   "execution_count": 2,
   "metadata": {},
   "outputs": [],
   "source": [
    "def quick_sort(li):\n",
    "    if len(li) <= 1:\n",
    "        return li\n",
    "    \n",
    "    pivot= li[len(li)//2]\n",
    "    small_li, equal_li, big_li = [], [], []\n",
    "\n",
    "    for num in li:\n",
    "        if num < pivot:\n",
    "            small_li.append(num)\n",
    "        elif num > pivot:\n",
    "            big_li.append(num)\n",
    "        else:\n",
    "            equal_li.append(num)\n",
    "    return quick_sort(small_li) + equal_li + quick_sort(big_li)"
   ]
  },
  {
   "cell_type": "code",
   "execution_count": 3,
   "metadata": {},
   "outputs": [
    {
     "data": {
      "text/plain": [
       "[1, 2, 3, 4, 9, 10, 11]"
      ]
     },
     "execution_count": 3,
     "metadata": {},
     "output_type": "execute_result"
    }
   ],
   "source": [
    "li= [11, 4, 3, 1, 2, 9, 10]\n",
    "quick_sort(li)"
   ]
  },
  {
   "attachments": {},
   "cell_type": "markdown",
   "metadata": {},
   "source": [
    "### 2. 합병 정렬\n",
    "https://www.daleseo.com/sort-merge/"
   ]
  },
  {
   "cell_type": "code",
   "execution_count": 4,
   "metadata": {},
   "outputs": [],
   "source": [
    "def merge_sort(li):\n",
    "    if len(li) < 2:\n",
    "        return li\n",
    "    \n",
    "    mid= len(li) // 2\n",
    "    low_li= merge_sort(li[:mid])\n",
    "    high_li= merge_sort(li[mid:])\n",
    "\n",
    "    merged_li= []\n",
    "    low = high = 0\n",
    "\n",
    "    while low < len(low_li) and high < len(high_li):\n",
    "        if low_li[low] < high_li[high]:\n",
    "            merged_li.append(low_li[low])\n",
    "            low += 1\n",
    "        else:\n",
    "            merged_li.append(high_li[high])\n",
    "            high += 1\n",
    "\n",
    "    merged_li += low_li[low:]\n",
    "    merged_li += high_li[high:]\n",
    "    return merged_li"
   ]
  },
  {
   "cell_type": "code",
   "execution_count": 5,
   "metadata": {},
   "outputs": [
    {
     "data": {
      "text/plain": [
       "[1, 2, 3, 4, 9, 10, 11]"
      ]
     },
     "execution_count": 5,
     "metadata": {},
     "output_type": "execute_result"
    }
   ],
   "source": [
    "li= [11, 4, 3, 1, 2, 9, 10]\n",
    "merge_sort(li)"
   ]
  }
 ],
 "metadata": {
  "kernelspec": {
   "display_name": "base",
   "language": "python",
   "name": "python3"
  },
  "language_info": {
   "codemirror_mode": {
    "name": "ipython",
    "version": 3
   },
   "file_extension": ".py",
   "mimetype": "text/x-python",
   "name": "python",
   "nbconvert_exporter": "python",
   "pygments_lexer": "ipython3",
   "version": "3.9.16"
  },
  "orig_nbformat": 4
 },
 "nbformat": 4,
 "nbformat_minor": 2
}
